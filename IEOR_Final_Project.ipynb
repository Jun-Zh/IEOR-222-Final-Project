{
 "cells": [
  {
   "cell_type": "markdown",
   "metadata": {
    "colab_type": "text",
    "id": "rOv0628GuGmP"
   },
   "source": [
    "<font size = '6'> __IEOR 222, Financial Engineering Systems 1: Final Project__ </font>"
   ]
  },
  {
   "cell_type": "markdown",
   "metadata": {
    "colab_type": "text",
    "id": "8PRQef9SuGmR"
   },
   "source": [
    "<font size = '5'> __Name:__ Jun Zhang </font>\n",
    "\n",
    "<font size = '5'> __SID:__ 26041426 </font>"
   ]
  },
  {
   "cell_type": "markdown",
   "metadata": {
    "colab_type": "text",
    "id": "O2lOaqa8BPsR"
   },
   "source": [
    "GITHUB LINK:  https://github.com/Jun-Zh/IEOR-222-Final-Project/blob/master/IEOR_Final_Project.ipynb\n",
    "\n",
    "Please visit the github to see a more complete report as some parts are cut off in the pdf, thank you!"
   ]
  },
  {
   "cell_type": "markdown",
   "metadata": {
    "colab_type": "text",
    "id": "Kw2BOXBxuGmS"
   },
   "source": [
    "__Main Prompt__:\n",
    "\n",
    "In class we have analyzed the optimal execution problem using the price impact model of Bertsimas & Lo (1998). In this model, the purchase price Pt at time t, t = 0,1,2,... follows the dynamics:\n",
    "\n",
    "Pt = Pt−1 + ϵt + θSt,\n",
    "\n",
    "where\n",
    "\n",
    "    • ϵt’s are i.i.d. random variables, with E[ϵt|St,Pt−1] = 0, \n",
    "    • θ > 0 is a known constant, \n",
    "    • St is the purchase amount at time t. \n",
    "Note that in this model, the price impact is permanent and linear and the parameter θ is assumed known. In general, there are various forms of price impact models, including \n",
    "1. Linear permanent price impact,\n",
    "2. Quadratic temporary price impact. \n",
    "3. Linear Transient price impact \n",
    "\n",
    "This project is thus to use reinforcement learning to get the optimal order execution strategy under various price impact models. Note that by learning, we assume that the parameters in the models are unknown. One therefore need to optimize the order execution while learning the model parameters. \n",
    "\n",
    "__Hint:__ The easiest way is to generate synthetic price movements, assume these three forms of price impact with unknown model parameters, and use the Q-learning algorithm to find the optimal execution strategy for each of these models. Using real data would be fairly involved and not required. However, if you could implement with both real data and synthetic data, it would be superb. Your report should contain necessary analysis, figures and codes that support your work. Please submit a single PDF file on bCourses before the deadline. There is no page limit, as long as you could present your findings in a clear and convincing way. "
   ]
  },
  {
   "cell_type": "markdown",
   "metadata": {
    "colab_type": "text",
    "id": "Ylj4cuWIuGmT"
   },
   "source": [
    "<font size = '5'> __Part 1) Setting Up the Problem__ </font>"
   ]
  },
  {
   "cell_type": "markdown",
   "metadata": {
    "colab_type": "text",
    "id": "2EcpmS4yuGmT"
   },
   "source": [
    "__Idea:__ The reinforcement learning algorithm I will be implementing for learning the optimal execution problem is called \n",
    "__Q-Learning__, which is a model free approach that can learn the optimal strategy for selling/buying stocks at different state\n",
    "\n",
    "__Project Approach:__ To implement the algorithm, I will first need to create a Markove Decision Process of the problem where we can construct the Q-matrix to perform Q-learning. I will define the States, Actions, and Rewards for the __Optimal Order Execution__ problem, The state transition function P will be deterministic in our problem, that means that we assume any order we submit at a given time will be transacted for certain, this will be elaborated further soon.\n",
    "\n",
    "__Q-Learning__: The algorithm works as follows:\n",
    "   \n",
    "    1) Initialize Q-matrix as the zero matrix with appropriate dimension\n",
    "    2) Randomly choose initial State S\n",
    "    3) randomly choose admissive action, check outcome, and update Q(s,a) by (1-lambda)*Q(s,a) + lambda(Reward(nextstate)+ max(actions) Q(nextstate,a).\n",
    "    4) New state is the next observed state\n",
    "    5) repeat 2-3 until touches target state\n",
    "    6) repeat 2-5 N number of times\n",
    "    7) Return matrix Q\n",
    "\n",
    "![alt text](https://cdn-images-1.medium.com/max/2400/1*jmcVWHHbzCxDc-irBy9JTw.png)\n",
    "\n",
    "__Problem Assumptions:__\n",
    "\n",
    "    1) We are required to purchase N number of shares in T time\n",
    "    2) Time periods are discrete(0... T-1)\n",
    "    3) N = 40 shares\n",
    "    4) T = 5\n",
    "    5) θ = 1, P_0 = 100\n",
    "    6) Alpha = 1/(1+ numberofvisit(State,action))\n",
    "    7) Only Market Orders are available, which allows the determinisitic transition between states\n",
    "\n"
   ]
  },
  {
   "cell_type": "markdown",
   "metadata": {
    "colab_type": "text",
    "id": "aN_7aCRjuGmU"
   },
   "source": [
    "__States__: I will define the a state to consist of three factors __S = (p, n,t)__, where p is the price at the given time, n is the number of shares we still need to buy, and t is the time period we are currently at\n",
    "\n",
    "__Actions__: The actions are obviously buying a # of stocks at time t. But we cannot allow any number of stocks to be bought at each given time as the number of states will grow expoentially. Thus I have decided to allow the number of stocks that can be ought at time t is a multiple __N/T__. Thus for our assumptions, 40/5 = 8. Thus you can buy 0, 8,16,24,32,40  shares at each given time \n",
    "\n",
    "__Rewards__: Because the overarching goal of the problem(buy side of the problem) is to minimize the total expected cost of purchasing N number of shares in T period, thus the reward for each action is simply the -(updated price * #of share purchased), as we would want to obtain the largest value which in this case corresponds to the smallest total expected cost. So the reward is __dynamic__ And we will write a function to set the rewards that\n",
    "    1) over-buy the number of shares (buying 24 shares when you just need 12 more.)\n",
    "    2) under-buy the number of shares (oustanding shares at time \n",
    "to be -1000000 as to make sures the final best solution dont take those paths\n",
    "\n",
    "__State Transition__: This function will be simply seeing the current price, time period, and number of shares left, and do some arithemtic to get the next state depending on the action of the current state. The important thing to note is that we will be only considering market order, so our state transition function will be deterministic in a way that we will definitely go from one state to another, but the price will be random so it will determine what exact state we will land in for the next time period"
   ]
  },
  {
   "cell_type": "code",
   "execution_count": 1,
   "metadata": {
    "colab": {},
    "colab_type": "code",
    "id": "eGRrR0lnuGmW"
   },
   "outputs": [],
   "source": [
    "#Starting the implementation\n",
    "#Importing libraries\n",
    "import math\n",
    "import numpy as np\n",
    "import pandas as pd\n",
    "import matplotlib.pyplot as plt\n",
    "import random as rm"
   ]
  },
  {
   "cell_type": "code",
   "execution_count": 2,
   "metadata": {
    "colab": {},
    "colab_type": "code",
    "id": "kLT4oF-cuGma"
   },
   "outputs": [],
   "source": [
    "#Auto show graph and suppressing scientific notations\n",
    "%matplotlib inline\n",
    "pd.set_option('display.float_format', lambda x: '%.3f' % x)"
   ]
  },
  {
   "cell_type": "code",
   "execution_count": 3,
   "metadata": {
    "colab": {},
    "colab_type": "code",
    "id": "IJu_65oLuGml"
   },
   "outputs": [],
   "source": [
    "#Function for the noise\n",
    "def R_walk():\n",
    "    return rm.choices(population = [-1, 1], weights = [1/2, 1/2])"
   ]
  },
  {
   "cell_type": "code",
   "execution_count": 4,
   "metadata": {
    "colab": {},
    "colab_type": "code",
    "id": "Zwf8ZfgruGmo"
   },
   "outputs": [],
   "source": [
    "#This is the function to choose action basing on the weights, which is constructed base on our \n",
    "#reward being the -cost. Thus we will apply 1/(abs(x)+0.001) transformation to emphasize more weights on \n",
    "#rewards that has a smaller absolute number. I did not use softmax as np.exp return an array of 0 when\n",
    "#e is raised to a very small number, unfortunately.\n",
    "\n",
    "def Next_Action(Pop,values):\n",
    "    W = []\n",
    "    for i in values:\n",
    "        W.append(1/(abs(i) +0.001))\n",
    "    return rm.choices(population = Pop, weights = W)"
   ]
  },
  {
   "cell_type": "markdown",
   "metadata": {
    "colab_type": "text",
    "id": "tYTxr2mluGmr"
   },
   "source": [
    "<font size = '5'> __Part 2a) Linear Permanent Price Impact Model__ </font>"
   ]
  },
  {
   "cell_type": "markdown",
   "metadata": {
    "colab_type": "text",
    "id": "OXu5cGduuGms"
   },
   "source": [
    "The __Linear Permanent Price Impact Model__ assumes the relation of the following:\n",
    "    \n",
    "    Pt = Pt−1 + ϵt + θSt\n",
    "\n",
    "Which means that the next price is a linear combination of the previous price and theta*(# of shares you are purchasing) + some random noise that is independent from S and P.\n",
    "\n",
    "We will be sampling ϵ from a random walk with taking value in {-1, 1} with equal probabilities , and with the other parameters stated above (θ = 0.5, P0 = 10)."
   ]
  },
  {
   "cell_type": "code",
   "execution_count": 5,
   "metadata": {
    "colab": {},
    "colab_type": "code",
    "id": "ygSGrzQFuGmu"
   },
   "outputs": [],
   "source": [
    "#Setting up parameters\n",
    "T = 5 # Time periods\n",
    "N = 40 # Amount of shares\n",
    "Theta= 1 #Constant\n",
    "P_0 = 100 #Initial Stock Price"
   ]
  },
  {
   "cell_type": "code",
   "execution_count": 6,
   "metadata": {
    "colab": {},
    "colab_type": "code",
    "id": "HHhH1NY0bAkA"
   },
   "outputs": [],
   "source": [
    "#Constructing State Transition Function for Linear Permanent Price Impact Model,\n",
    "def Next_state(state, action):\n",
    "    Price = Next_Price(state[0], Theta, action)\n",
    "    return (Price, state[1]+1, state[2] - action)\n",
    "  \n",
    "#Constructing the Reward Funciton\n",
    "def Next_Price(Price, Theta, Share):\n",
    "    noise = R_walk()\n",
    "    return Price + noise[0] + Theta*(Share)"
   ]
  },
  {
   "cell_type": "code",
   "execution_count": 7,
   "metadata": {
    "colab": {},
    "colab_type": "code",
    "id": "ntiKspgyuGmy"
   },
   "outputs": [],
   "source": [
    "#Constructing the Action\n",
    "A = []\n",
    "for i in range(T+1):\n",
    "    A.append(N/(T)*i)"
   ]
  },
  {
   "cell_type": "code",
   "execution_count": 8,
   "metadata": {
    "colab": {
     "base_uri": "https://localhost:8080/",
     "height": 35
    },
    "colab_type": "code",
    "id": "NkfSTCfPuGm1",
    "outputId": "7e113ac6-71ec-46de-88c9-c06d1a7ded56"
   },
   "outputs": [
    {
     "data": {
      "text/plain": [
       "[0.0, 8.0, 16.0, 24.0, 32.0, 40.0]"
      ]
     },
     "execution_count": 8,
     "metadata": {},
     "output_type": "execute_result"
    }
   ],
   "source": [
    "#All possible actions\n",
    "A"
   ]
  },
  {
   "cell_type": "code",
   "execution_count": 9,
   "metadata": {
    "colab": {},
    "colab_type": "code",
    "id": "3yC6zdqBuGm6"
   },
   "outputs": [],
   "source": [
    "#Constructing the States, to do this I am just running througuh all possible tracjectories through starting at initial state, and choosing random action each time, \n",
    "#Then if we take this loop to a very large number, we should find all possible states, and if I didn't find all possible states then my Q-Learning algorithm would fail later on.\n",
    "States = []\n",
    "States.append((P_0*1.0, 0 ,N*1.0))\n",
    "\n",
    "for i in range(100000):\n",
    "    S = (P_0, 0 ,N)\n",
    "\n",
    "    while S[1] != T-1:\n",
    "        Action = rm.choice(A)\n",
    "        if S[2] >= Action:\n",
    "            price = S[0] + R_walk()[0] + Theta*Action\n",
    "\n",
    "            S = (price, S[1] + 1, S[2] - Action)\n",
    "            States.append(S)\n",
    "States = set(States)\n",
    "States = list(States)\n",
    "S = States\n",
    "S.sort(key = lambda tup: (tup[1],tup[2]))"
   ]
  },
  {
   "cell_type": "code",
   "execution_count": 0,
   "metadata": {
    "colab": {},
    "colab_type": "code",
    "id": "Ip6voDMzuGm-"
   },
   "outputs": [],
   "source": [
    "#We can see the total number of states we have now\n",
    "len(S)"
   ]
  },
  {
   "cell_type": "code",
   "execution_count": 0,
   "metadata": {
    "colab": {},
    "colab_type": "code",
    "id": "NaLys6ZBuGnC"
   },
   "outputs": [],
   "source": [
    "#Setting up the Q-Matrix\n",
    "row_index = {}\n",
    "col_index = {}\n",
    "for i in range(len(S)):\n",
    "    row_index[i] = S[i]\n",
    "for i in range(len(A)):\n",
    "    col_index[i] = A[i]\n",
    "    \n",
    "Q = np.zeros((len(S),len(A)))\n",
    "Q = pd.DataFrame(Q)\n",
    "\n",
    "Q.rename(index = row_index, inplace = True)\n",
    "Q.rename(columns= col_index, inplace=True)"
   ]
  },
  {
   "cell_type": "code",
   "execution_count": 0,
   "metadata": {
    "colab": {},
    "colab_type": "code",
    "id": "2hrJFbDUuGnK"
   },
   "outputs": [],
   "source": [
    "#Creating a copy of the states/acitons so that I can apply dynamic learning rate\n",
    "\n",
    "C = Q.copy()\n"
   ]
  },
  {
   "cell_type": "code",
   "execution_count": 0,
   "metadata": {
    "colab": {},
    "colab_type": "code",
    "id": "GwcTQxgZuGnN"
   },
   "outputs": [],
   "source": [
    "#setting up the inital reward for terminal states\n",
    "End_state = []\n",
    "Other_state = []\n",
    "for i in S:\n",
    "    if i[1] == T - 1:\n",
    "        End_state.append(i)\n",
    "    else:\n",
    "        Other_state.append(i)"
   ]
  },
  {
   "cell_type": "code",
   "execution_count": 0,
   "metadata": {
    "colab": {},
    "colab_type": "code",
    "id": "Rzl-c1lluGnX"
   },
   "outputs": [],
   "source": [
    "#notice I didn't add the noise term in calculating the final reward, as e has expectation 0, so in the long term the \n",
    "#noise term should cancel out\n",
    "#I am initializing the Q-matrix so that all the infeasible actions(trying to buy more shares than you actually need) are -100000.., and that at the final state, the reward will just be the cost of buying the\n",
    "#remaining shares\n",
    "for state in End_state:\n",
    "    for action in A:\n",
    "        if state[2] != action:\n",
    "            Q.at[state,action] = -10000000\n",
    "        else:\n",
    "            price = state[0]\n",
    "            price = price + Theta*state[2] \n",
    "            reward = -1*(price*state[2])\n",
    "            Q.at[state,action] = reward\n",
    "\n",
    "            \n",
    "for state in Other_state:\n",
    "    for action in A:\n",
    "        if state[2] < action:\n",
    "            Q.at[state,action] = -10000000\n"
   ]
  },
  {
   "cell_type": "code",
   "execution_count": 0,
   "metadata": {
    "colab": {
     "base_uri": "https://localhost:8080/",
     "height": 198
    },
    "colab_type": "code",
    "id": "xBJCdyB5uGnc",
    "outputId": "a97023a7-7c87-4f2e-f482-96e8ebc56fbe"
   },
   "outputs": [
    {
     "data": {
      "text/html": [
       "<div>\n",
       "<style scoped>\n",
       "    .dataframe tbody tr th:only-of-type {\n",
       "        vertical-align: middle;\n",
       "    }\n",
       "\n",
       "    .dataframe tbody tr th {\n",
       "        vertical-align: top;\n",
       "    }\n",
       "\n",
       "    .dataframe thead th {\n",
       "        text-align: right;\n",
       "    }\n",
       "</style>\n",
       "<table border=\"1\" class=\"dataframe\">\n",
       "  <thead>\n",
       "    <tr style=\"text-align: right;\">\n",
       "      <th></th>\n",
       "      <th>0.0</th>\n",
       "      <th>8.0</th>\n",
       "      <th>16.0</th>\n",
       "      <th>24.0</th>\n",
       "      <th>32.0</th>\n",
       "      <th>40.0</th>\n",
       "    </tr>\n",
       "  </thead>\n",
       "  <tbody>\n",
       "    <tr>\n",
       "      <th>(104.0, 4, 40.0)</th>\n",
       "      <td>-10000000.000</td>\n",
       "      <td>-10000000.000</td>\n",
       "      <td>-10000000.000</td>\n",
       "      <td>-10000000.000</td>\n",
       "      <td>-10000000.000</td>\n",
       "      <td>-5760.000</td>\n",
       "    </tr>\n",
       "    <tr>\n",
       "      <th>(100.0, 4, 40.0)</th>\n",
       "      <td>-10000000.000</td>\n",
       "      <td>-10000000.000</td>\n",
       "      <td>-10000000.000</td>\n",
       "      <td>-10000000.000</td>\n",
       "      <td>-10000000.000</td>\n",
       "      <td>-5600.000</td>\n",
       "    </tr>\n",
       "    <tr>\n",
       "      <th>(96.0, 4, 40.0)</th>\n",
       "      <td>-10000000.000</td>\n",
       "      <td>-10000000.000</td>\n",
       "      <td>-10000000.000</td>\n",
       "      <td>-10000000.000</td>\n",
       "      <td>-10000000.000</td>\n",
       "      <td>-5440.000</td>\n",
       "    </tr>\n",
       "    <tr>\n",
       "      <th>(98.0, 4, 40.0)</th>\n",
       "      <td>-10000000.000</td>\n",
       "      <td>-10000000.000</td>\n",
       "      <td>-10000000.000</td>\n",
       "      <td>-10000000.000</td>\n",
       "      <td>-10000000.000</td>\n",
       "      <td>-5520.000</td>\n",
       "    </tr>\n",
       "    <tr>\n",
       "      <th>(102.0, 4, 40.0)</th>\n",
       "      <td>-10000000.000</td>\n",
       "      <td>-10000000.000</td>\n",
       "      <td>-10000000.000</td>\n",
       "      <td>-10000000.000</td>\n",
       "      <td>-10000000.000</td>\n",
       "      <td>-5680.000</td>\n",
       "    </tr>\n",
       "  </tbody>\n",
       "</table>\n",
       "</div>"
      ],
      "text/plain": [
       "                        0.000         8.000         16.000        24.000  \\\n",
       "(104.0, 4, 40.0) -10000000.000 -10000000.000 -10000000.000 -10000000.000   \n",
       "(100.0, 4, 40.0) -10000000.000 -10000000.000 -10000000.000 -10000000.000   \n",
       "(96.0, 4, 40.0)  -10000000.000 -10000000.000 -10000000.000 -10000000.000   \n",
       "(98.0, 4, 40.0)  -10000000.000 -10000000.000 -10000000.000 -10000000.000   \n",
       "(102.0, 4, 40.0) -10000000.000 -10000000.000 -10000000.000 -10000000.000   \n",
       "\n",
       "                        32.000    40.000  \n",
       "(104.0, 4, 40.0) -10000000.000 -5760.000  \n",
       "(100.0, 4, 40.0) -10000000.000 -5600.000  \n",
       "(96.0, 4, 40.0)  -10000000.000 -5440.000  \n",
       "(98.0, 4, 40.0)  -10000000.000 -5520.000  \n",
       "(102.0, 4, 40.0) -10000000.000 -5680.000  "
      ]
     },
     "execution_count": 594,
     "metadata": {
      "tags": []
     },
     "output_type": "execute_result"
    }
   ],
   "source": [
    "#Checking whether the final reward is set correctly\n",
    "Q.tail()\n"
   ]
  },
  {
   "cell_type": "code",
   "execution_count": 0,
   "metadata": {
    "colab": {
     "base_uri": "https://localhost:8080/",
     "height": 34
    },
    "colab_type": "code",
    "id": "fAiRVOsDuGnh",
    "outputId": "a1e95826-8a08-4b97-8aa7-268e62e4bf92"
   },
   "outputs": [
    {
     "data": {
      "text/plain": [
       "55"
      ]
     },
     "execution_count": 550,
     "metadata": {
      "tags": []
     },
     "output_type": "execute_result"
    }
   ],
   "source": [
    "#Constructing a list so that I will start in a state thats not terminal state\n",
    "start = [i for i in S if i[1] != T-1] \n",
    "len(start)"
   ]
  },
  {
   "cell_type": "code",
   "execution_count": 0,
   "metadata": {
    "colab": {},
    "colab_type": "code",
    "id": "qtwhKJ87uGnl"
   },
   "outputs": [],
   "source": [
    "#Pre-construct a dictionary of feasible actions base on how many shares you have left to buy\n",
    "P_act = {}\n",
    "\n",
    "for i in A:\n",
    "    P_act[i] = [j for j in A if i >= j] "
   ]
  },
  {
   "cell_type": "code",
   "execution_count": 0,
   "metadata": {
    "colab": {
     "base_uri": "https://localhost:8080/",
     "height": 123
    },
    "colab_type": "code",
    "id": "6hdIX7EmuGnr",
    "outputId": "426dffce-bcf1-4e5b-f9fd-9e4f8b367deb"
   },
   "outputs": [
    {
     "data": {
      "text/plain": [
       "{0.0: [0.0],\n",
       " 8.0: [0.0, 8.0],\n",
       " 16.0: [0.0, 8.0, 16.0],\n",
       " 24.0: [0.0, 8.0, 16.0, 24.0],\n",
       " 32.0: [0.0, 8.0, 16.0, 24.0, 32.0],\n",
       " 40.0: [0.0, 8.0, 16.0, 24.0, 32.0, 40.0]}"
      ]
     },
     "execution_count": 552,
     "metadata": {
      "tags": []
     },
     "output_type": "execute_result"
    }
   ],
   "source": [
    "#Can see the #\"number of shares left to buy\" to the list of feasible shares\n",
    "P_act"
   ]
  },
  {
   "cell_type": "code",
   "execution_count": 0,
   "metadata": {
    "colab": {},
    "colab_type": "code",
    "id": "zmtDhbLKuGnz"
   },
   "outputs": [],
   "source": [
    "#Here I will define a function for the Q-learning algorithm so I can use it in the next section as well, the Linear Transient model will be\n",
    "#different as the price is updated differently\n",
    "def Qlearning(Q, start_q, P_act_q, Next_state, num,C):\n",
    "    iters = num\n",
    "    for i in range(iters):\n",
    "        Current_state = rm.choice(start_q)\n",
    "        price = Current_state[0]\n",
    "        while Current_state[1] != 4:\n",
    "            M = P_act_q[Current_state[2]]\n",
    "            Action = Next_Action(M,np.array(Q.loc[[Current_state]])[0][0:len(M)])[0]\n",
    "            if Current_state[2] < Action:\n",
    "                Q_q.at[Current_state,Action] = -10000000\n",
    "            else:\n",
    "                N_state = Next_state(Current_state, Action)\n",
    "                price = N_state[0]\n",
    "                reward = -price*Action\n",
    "                alpha = 1/(1+C.at[Current_state,Action]/20)\n",
    "                C.at[Current_state,Action] += 1\n",
    "                Q.at[Current_state,Action] = (1-alpha)*Q.at[Current_state,Action] + \\\n",
    "                alpha*(reward + max(np.array(Q.loc[[N_state]])[0]))\n",
    "            \n",
    "                Current_state = N_state"
   ]
  },
  {
   "cell_type": "code",
   "execution_count": 0,
   "metadata": {
    "colab": {},
    "colab_type": "code",
    "id": "JhWeKDAwuGn1"
   },
   "outputs": [],
   "source": [
    "#Running the algorithm 1000000 times\n",
    "Qlearning(Q,start,P_act,Next_state,100000,C)"
   ]
  },
  {
   "cell_type": "code",
   "execution_count": 0,
   "metadata": {
    "colab": {
     "base_uri": "https://localhost:8080/",
     "height": 1906
    },
    "colab_type": "code",
    "id": "XUG_n7YMuGn4",
    "outputId": "54700574-5e20-4258-b20f-e3565e35317b"
   },
   "outputs": [
    {
     "data": {
      "text/html": [
       "<div>\n",
       "<style scoped>\n",
       "    .dataframe tbody tr th:only-of-type {\n",
       "        vertical-align: middle;\n",
       "    }\n",
       "\n",
       "    .dataframe tbody tr th {\n",
       "        vertical-align: top;\n",
       "    }\n",
       "\n",
       "    .dataframe thead th {\n",
       "        text-align: right;\n",
       "    }\n",
       "</style>\n",
       "<table border=\"1\" class=\"dataframe\">\n",
       "  <thead>\n",
       "    <tr style=\"text-align: right;\">\n",
       "      <th></th>\n",
       "      <th>0.0</th>\n",
       "      <th>8.0</th>\n",
       "      <th>16.0</th>\n",
       "      <th>24.0</th>\n",
       "      <th>32.0</th>\n",
       "      <th>40.0</th>\n",
       "    </tr>\n",
       "  </thead>\n",
       "  <tbody>\n",
       "    <tr>\n",
       "      <th>(100.0, 0, 40.0)</th>\n",
       "      <td>-5025.715</td>\n",
       "      <td>-4957.776</td>\n",
       "      <td>-5028.218</td>\n",
       "      <td>-5154.094</td>\n",
       "      <td>-5345.597</td>\n",
       "      <td>-5604.261</td>\n",
       "    </tr>\n",
       "    <tr>\n",
       "      <th>(141.0, 1, 0.0)</th>\n",
       "      <td>0.000</td>\n",
       "      <td>-10000000.000</td>\n",
       "      <td>-10000000.000</td>\n",
       "      <td>-10000000.000</td>\n",
       "      <td>-10000000.000</td>\n",
       "      <td>-10000000.000</td>\n",
       "    </tr>\n",
       "    <tr>\n",
       "      <th>(139.0, 1, 0.0)</th>\n",
       "      <td>0.000</td>\n",
       "      <td>-10000000.000</td>\n",
       "      <td>-10000000.000</td>\n",
       "      <td>-10000000.000</td>\n",
       "      <td>-10000000.000</td>\n",
       "      <td>-10000000.000</td>\n",
       "    </tr>\n",
       "    <tr>\n",
       "      <th>(133.0, 1, 8.0)</th>\n",
       "      <td>-1126.546</td>\n",
       "      <td>-1127.397</td>\n",
       "      <td>-10000000.000</td>\n",
       "      <td>-10000000.000</td>\n",
       "      <td>-10000000.000</td>\n",
       "      <td>-10000000.000</td>\n",
       "    </tr>\n",
       "    <tr>\n",
       "      <th>(131.0, 1, 8.0)</th>\n",
       "      <td>-1110.457</td>\n",
       "      <td>-1111.742</td>\n",
       "      <td>-10000000.000</td>\n",
       "      <td>-10000000.000</td>\n",
       "      <td>-10000000.000</td>\n",
       "      <td>-10000000.000</td>\n",
       "    </tr>\n",
       "    <tr>\n",
       "      <th>(125.0, 1, 16.0)</th>\n",
       "      <td>-2189.831</td>\n",
       "      <td>-2193.616</td>\n",
       "      <td>-2257.175</td>\n",
       "      <td>-10000000.000</td>\n",
       "      <td>-10000000.000</td>\n",
       "      <td>-10000000.000</td>\n",
       "    </tr>\n",
       "    <tr>\n",
       "      <th>(123.0, 1, 16.0)</th>\n",
       "      <td>-2158.046</td>\n",
       "      <td>-2159.539</td>\n",
       "      <td>-2223.256</td>\n",
       "      <td>-10000000.000</td>\n",
       "      <td>-10000000.000</td>\n",
       "      <td>-10000000.000</td>\n",
       "    </tr>\n",
       "    <tr>\n",
       "      <th>(115.0, 1, 24.0)</th>\n",
       "      <td>-3145.426</td>\n",
       "      <td>-3145.200</td>\n",
       "      <td>-3207.542</td>\n",
       "      <td>-3337.567</td>\n",
       "      <td>-10000000.000</td>\n",
       "      <td>-10000000.000</td>\n",
       "    </tr>\n",
       "    <tr>\n",
       "      <th>(117.0, 1, 24.0)</th>\n",
       "      <td>-3194.170</td>\n",
       "      <td>-3190.305</td>\n",
       "      <td>-3257.460</td>\n",
       "      <td>-3383.872</td>\n",
       "      <td>-10000000.000</td>\n",
       "      <td>-10000000.000</td>\n",
       "    </tr>\n",
       "    <tr>\n",
       "      <th>(109.0, 1, 32.0)</th>\n",
       "      <td>-4190.191</td>\n",
       "      <td>-4121.236</td>\n",
       "      <td>-4194.122</td>\n",
       "      <td>-4323.908</td>\n",
       "      <td>-4515.405</td>\n",
       "      <td>-10000000.000</td>\n",
       "    </tr>\n",
       "    <tr>\n",
       "      <th>(107.0, 1, 32.0)</th>\n",
       "      <td>-4132.672</td>\n",
       "      <td>-4065.922</td>\n",
       "      <td>-4131.179</td>\n",
       "      <td>-4249.436</td>\n",
       "      <td>-4445.413</td>\n",
       "      <td>-10000000.000</td>\n",
       "    </tr>\n",
       "    <tr>\n",
       "      <th>(101.0, 1, 40.0)</th>\n",
       "      <td>-5122.440</td>\n",
       "      <td>-5067.628</td>\n",
       "      <td>-5072.441</td>\n",
       "      <td>-5186.870</td>\n",
       "      <td>-5378.495</td>\n",
       "      <td>-5640.667</td>\n",
       "    </tr>\n",
       "    <tr>\n",
       "      <th>(99.0, 1, 40.0)</th>\n",
       "      <td>-5045.728</td>\n",
       "      <td>-4980.704</td>\n",
       "      <td>-4988.328</td>\n",
       "      <td>-5108.331</td>\n",
       "      <td>-5306.849</td>\n",
       "      <td>-5558.389</td>\n",
       "    </tr>\n",
       "    <tr>\n",
       "      <th>(138.0, 2, 0.0)</th>\n",
       "      <td>0.000</td>\n",
       "      <td>-10000000.000</td>\n",
       "      <td>-10000000.000</td>\n",
       "      <td>-10000000.000</td>\n",
       "      <td>-10000000.000</td>\n",
       "      <td>-10000000.000</td>\n",
       "    </tr>\n",
       "    <tr>\n",
       "      <th>(140.0, 2, 0.0)</th>\n",
       "      <td>0.000</td>\n",
       "      <td>-10000000.000</td>\n",
       "      <td>-10000000.000</td>\n",
       "      <td>-10000000.000</td>\n",
       "      <td>-10000000.000</td>\n",
       "      <td>-10000000.000</td>\n",
       "    </tr>\n",
       "    <tr>\n",
       "      <th>(142.0, 2, 0.0)</th>\n",
       "      <td>0.000</td>\n",
       "      <td>-10000000.000</td>\n",
       "      <td>-10000000.000</td>\n",
       "      <td>-10000000.000</td>\n",
       "      <td>-10000000.000</td>\n",
       "      <td>-10000000.000</td>\n",
       "    </tr>\n",
       "    <tr>\n",
       "      <th>(130.0, 2, 8.0)</th>\n",
       "      <td>-1103.553</td>\n",
       "      <td>-1103.303</td>\n",
       "      <td>-10000000.000</td>\n",
       "      <td>-10000000.000</td>\n",
       "      <td>-10000000.000</td>\n",
       "      <td>-10000000.000</td>\n",
       "    </tr>\n",
       "    <tr>\n",
       "      <th>(132.0, 2, 8.0)</th>\n",
       "      <td>-1120.011</td>\n",
       "      <td>-1120.605</td>\n",
       "      <td>-10000000.000</td>\n",
       "      <td>-10000000.000</td>\n",
       "      <td>-10000000.000</td>\n",
       "      <td>-10000000.000</td>\n",
       "    </tr>\n",
       "    <tr>\n",
       "      <th>(134.0, 2, 8.0)</th>\n",
       "      <td>-1135.899</td>\n",
       "      <td>-1135.590</td>\n",
       "      <td>-10000000.000</td>\n",
       "      <td>-10000000.000</td>\n",
       "      <td>-10000000.000</td>\n",
       "      <td>-10000000.000</td>\n",
       "    </tr>\n",
       "    <tr>\n",
       "      <th>(126.0, 2, 16.0)</th>\n",
       "      <td>-2207.371</td>\n",
       "      <td>-2208.018</td>\n",
       "      <td>-2271.213</td>\n",
       "      <td>-10000000.000</td>\n",
       "      <td>-10000000.000</td>\n",
       "      <td>-10000000.000</td>\n",
       "    </tr>\n",
       "    <tr>\n",
       "      <th>(122.0, 2, 16.0)</th>\n",
       "      <td>-2140.639</td>\n",
       "      <td>-2143.621</td>\n",
       "      <td>-2206.489</td>\n",
       "      <td>-10000000.000</td>\n",
       "      <td>-10000000.000</td>\n",
       "      <td>-10000000.000</td>\n",
       "    </tr>\n",
       "    <tr>\n",
       "      <th>(124.0, 2, 16.0)</th>\n",
       "      <td>-2175.685</td>\n",
       "      <td>-2175.448</td>\n",
       "      <td>-2240.086</td>\n",
       "      <td>-10000000.000</td>\n",
       "      <td>-10000000.000</td>\n",
       "      <td>-10000000.000</td>\n",
       "    </tr>\n",
       "    <tr>\n",
       "      <th>(114.0, 2, 24.0)</th>\n",
       "      <td>-3184.706</td>\n",
       "      <td>-3118.899</td>\n",
       "      <td>-3183.952</td>\n",
       "      <td>-3311.980</td>\n",
       "      <td>-10000000.000</td>\n",
       "      <td>-10000000.000</td>\n",
       "    </tr>\n",
       "    <tr>\n",
       "      <th>(118.0, 2, 24.0)</th>\n",
       "      <td>-3279.303</td>\n",
       "      <td>-3216.003</td>\n",
       "      <td>-3280.423</td>\n",
       "      <td>-3406.145</td>\n",
       "      <td>-10000000.000</td>\n",
       "      <td>-10000000.000</td>\n",
       "    </tr>\n",
       "    <tr>\n",
       "      <th>(116.0, 2, 24.0)</th>\n",
       "      <td>-3231.404</td>\n",
       "      <td>-3168.143</td>\n",
       "      <td>-3233.420</td>\n",
       "      <td>-3360.583</td>\n",
       "      <td>-10000000.000</td>\n",
       "      <td>-10000000.000</td>\n",
       "    </tr>\n",
       "    <tr>\n",
       "      <th>(110.0, 2, 32.0)</th>\n",
       "      <td>-4285.911</td>\n",
       "      <td>-4217.421</td>\n",
       "      <td>-4225.592</td>\n",
       "      <td>-4347.598</td>\n",
       "      <td>-4541.799</td>\n",
       "      <td>-10000000.000</td>\n",
       "    </tr>\n",
       "    <tr>\n",
       "      <th>(106.0, 2, 32.0)</th>\n",
       "      <td>-4158.624</td>\n",
       "      <td>-4098.090</td>\n",
       "      <td>-4094.356</td>\n",
       "      <td>-4221.758</td>\n",
       "      <td>-4413.796</td>\n",
       "      <td>-10000000.000</td>\n",
       "    </tr>\n",
       "    <tr>\n",
       "      <th>(108.0, 2, 32.0)</th>\n",
       "      <td>-4216.420</td>\n",
       "      <td>-4161.670</td>\n",
       "      <td>-4157.318</td>\n",
       "      <td>-4291.225</td>\n",
       "      <td>-4478.711</td>\n",
       "      <td>-10000000.000</td>\n",
       "    </tr>\n",
       "    <tr>\n",
       "      <th>(98.0, 2, 40.0)</th>\n",
       "      <td>-5124.251</td>\n",
       "      <td>-5004.171</td>\n",
       "      <td>-5012.776</td>\n",
       "      <td>-5065.502</td>\n",
       "      <td>-5267.521</td>\n",
       "      <td>-5523.739</td>\n",
       "    </tr>\n",
       "    <tr>\n",
       "      <th>(100.0, 2, 40.0)</th>\n",
       "      <td>-5217.631</td>\n",
       "      <td>-5088.388</td>\n",
       "      <td>-5087.502</td>\n",
       "      <td>-5143.070</td>\n",
       "      <td>-5343.789</td>\n",
       "      <td>-5605.479</td>\n",
       "    </tr>\n",
       "    <tr>\n",
       "      <th>...</th>\n",
       "      <td>...</td>\n",
       "      <td>...</td>\n",
       "      <td>...</td>\n",
       "      <td>...</td>\n",
       "      <td>...</td>\n",
       "      <td>...</td>\n",
       "    </tr>\n",
       "    <tr>\n",
       "      <th>(140.0, 4, 0.0)</th>\n",
       "      <td>-0.000</td>\n",
       "      <td>-10000000.000</td>\n",
       "      <td>-10000000.000</td>\n",
       "      <td>-10000000.000</td>\n",
       "      <td>-10000000.000</td>\n",
       "      <td>-10000000.000</td>\n",
       "    </tr>\n",
       "    <tr>\n",
       "      <th>(136.0, 4, 0.0)</th>\n",
       "      <td>-0.000</td>\n",
       "      <td>-10000000.000</td>\n",
       "      <td>-10000000.000</td>\n",
       "      <td>-10000000.000</td>\n",
       "      <td>-10000000.000</td>\n",
       "      <td>-10000000.000</td>\n",
       "    </tr>\n",
       "    <tr>\n",
       "      <th>(138.0, 4, 0.0)</th>\n",
       "      <td>-0.000</td>\n",
       "      <td>-10000000.000</td>\n",
       "      <td>-10000000.000</td>\n",
       "      <td>-10000000.000</td>\n",
       "      <td>-10000000.000</td>\n",
       "      <td>-10000000.000</td>\n",
       "    </tr>\n",
       "    <tr>\n",
       "      <th>(142.0, 4, 0.0)</th>\n",
       "      <td>-0.000</td>\n",
       "      <td>-10000000.000</td>\n",
       "      <td>-10000000.000</td>\n",
       "      <td>-10000000.000</td>\n",
       "      <td>-10000000.000</td>\n",
       "      <td>-10000000.000</td>\n",
       "    </tr>\n",
       "    <tr>\n",
       "      <th>(144.0, 4, 0.0)</th>\n",
       "      <td>-0.000</td>\n",
       "      <td>-10000000.000</td>\n",
       "      <td>-10000000.000</td>\n",
       "      <td>-10000000.000</td>\n",
       "      <td>-10000000.000</td>\n",
       "      <td>-10000000.000</td>\n",
       "    </tr>\n",
       "    <tr>\n",
       "      <th>(132.0, 4, 8.0)</th>\n",
       "      <td>-10000000.000</td>\n",
       "      <td>-1120.000</td>\n",
       "      <td>-10000000.000</td>\n",
       "      <td>-10000000.000</td>\n",
       "      <td>-10000000.000</td>\n",
       "      <td>-10000000.000</td>\n",
       "    </tr>\n",
       "    <tr>\n",
       "      <th>(128.0, 4, 8.0)</th>\n",
       "      <td>-10000000.000</td>\n",
       "      <td>-1088.000</td>\n",
       "      <td>-10000000.000</td>\n",
       "      <td>-10000000.000</td>\n",
       "      <td>-10000000.000</td>\n",
       "      <td>-10000000.000</td>\n",
       "    </tr>\n",
       "    <tr>\n",
       "      <th>(130.0, 4, 8.0)</th>\n",
       "      <td>-10000000.000</td>\n",
       "      <td>-1104.000</td>\n",
       "      <td>-10000000.000</td>\n",
       "      <td>-10000000.000</td>\n",
       "      <td>-10000000.000</td>\n",
       "      <td>-10000000.000</td>\n",
       "    </tr>\n",
       "    <tr>\n",
       "      <th>(134.0, 4, 8.0)</th>\n",
       "      <td>-10000000.000</td>\n",
       "      <td>-1136.000</td>\n",
       "      <td>-10000000.000</td>\n",
       "      <td>-10000000.000</td>\n",
       "      <td>-10000000.000</td>\n",
       "      <td>-10000000.000</td>\n",
       "    </tr>\n",
       "    <tr>\n",
       "      <th>(136.0, 4, 8.0)</th>\n",
       "      <td>-10000000.000</td>\n",
       "      <td>-1152.000</td>\n",
       "      <td>-10000000.000</td>\n",
       "      <td>-10000000.000</td>\n",
       "      <td>-10000000.000</td>\n",
       "      <td>-10000000.000</td>\n",
       "    </tr>\n",
       "    <tr>\n",
       "      <th>(120.0, 4, 16.0)</th>\n",
       "      <td>-10000000.000</td>\n",
       "      <td>-10000000.000</td>\n",
       "      <td>-2176.000</td>\n",
       "      <td>-10000000.000</td>\n",
       "      <td>-10000000.000</td>\n",
       "      <td>-10000000.000</td>\n",
       "    </tr>\n",
       "    <tr>\n",
       "      <th>(122.0, 4, 16.0)</th>\n",
       "      <td>-10000000.000</td>\n",
       "      <td>-10000000.000</td>\n",
       "      <td>-2208.000</td>\n",
       "      <td>-10000000.000</td>\n",
       "      <td>-10000000.000</td>\n",
       "      <td>-10000000.000</td>\n",
       "    </tr>\n",
       "    <tr>\n",
       "      <th>(128.0, 4, 16.0)</th>\n",
       "      <td>-10000000.000</td>\n",
       "      <td>-10000000.000</td>\n",
       "      <td>-2304.000</td>\n",
       "      <td>-10000000.000</td>\n",
       "      <td>-10000000.000</td>\n",
       "      <td>-10000000.000</td>\n",
       "    </tr>\n",
       "    <tr>\n",
       "      <th>(126.0, 4, 16.0)</th>\n",
       "      <td>-10000000.000</td>\n",
       "      <td>-10000000.000</td>\n",
       "      <td>-2272.000</td>\n",
       "      <td>-10000000.000</td>\n",
       "      <td>-10000000.000</td>\n",
       "      <td>-10000000.000</td>\n",
       "    </tr>\n",
       "    <tr>\n",
       "      <th>(124.0, 4, 16.0)</th>\n",
       "      <td>-10000000.000</td>\n",
       "      <td>-10000000.000</td>\n",
       "      <td>-2240.000</td>\n",
       "      <td>-10000000.000</td>\n",
       "      <td>-10000000.000</td>\n",
       "      <td>-10000000.000</td>\n",
       "    </tr>\n",
       "    <tr>\n",
       "      <th>(116.0, 4, 24.0)</th>\n",
       "      <td>-10000000.000</td>\n",
       "      <td>-10000000.000</td>\n",
       "      <td>-10000000.000</td>\n",
       "      <td>-3360.000</td>\n",
       "      <td>-10000000.000</td>\n",
       "      <td>-10000000.000</td>\n",
       "    </tr>\n",
       "    <tr>\n",
       "      <th>(120.0, 4, 24.0)</th>\n",
       "      <td>-10000000.000</td>\n",
       "      <td>-10000000.000</td>\n",
       "      <td>-10000000.000</td>\n",
       "      <td>-3456.000</td>\n",
       "      <td>-10000000.000</td>\n",
       "      <td>-10000000.000</td>\n",
       "    </tr>\n",
       "    <tr>\n",
       "      <th>(112.0, 4, 24.0)</th>\n",
       "      <td>-10000000.000</td>\n",
       "      <td>-10000000.000</td>\n",
       "      <td>-10000000.000</td>\n",
       "      <td>-3264.000</td>\n",
       "      <td>-10000000.000</td>\n",
       "      <td>-10000000.000</td>\n",
       "    </tr>\n",
       "    <tr>\n",
       "      <th>(114.0, 4, 24.0)</th>\n",
       "      <td>-10000000.000</td>\n",
       "      <td>-10000000.000</td>\n",
       "      <td>-10000000.000</td>\n",
       "      <td>-3312.000</td>\n",
       "      <td>-10000000.000</td>\n",
       "      <td>-10000000.000</td>\n",
       "    </tr>\n",
       "    <tr>\n",
       "      <th>(118.0, 4, 24.0)</th>\n",
       "      <td>-10000000.000</td>\n",
       "      <td>-10000000.000</td>\n",
       "      <td>-10000000.000</td>\n",
       "      <td>-3408.000</td>\n",
       "      <td>-10000000.000</td>\n",
       "      <td>-10000000.000</td>\n",
       "    </tr>\n",
       "    <tr>\n",
       "      <th>(110.0, 4, 32.0)</th>\n",
       "      <td>-10000000.000</td>\n",
       "      <td>-10000000.000</td>\n",
       "      <td>-10000000.000</td>\n",
       "      <td>-10000000.000</td>\n",
       "      <td>-4544.000</td>\n",
       "      <td>-10000000.000</td>\n",
       "    </tr>\n",
       "    <tr>\n",
       "      <th>(104.0, 4, 32.0)</th>\n",
       "      <td>-10000000.000</td>\n",
       "      <td>-10000000.000</td>\n",
       "      <td>-10000000.000</td>\n",
       "      <td>-10000000.000</td>\n",
       "      <td>-4352.000</td>\n",
       "      <td>-10000000.000</td>\n",
       "    </tr>\n",
       "    <tr>\n",
       "      <th>(112.0, 4, 32.0)</th>\n",
       "      <td>-10000000.000</td>\n",
       "      <td>-10000000.000</td>\n",
       "      <td>-10000000.000</td>\n",
       "      <td>-10000000.000</td>\n",
       "      <td>-4608.000</td>\n",
       "      <td>-10000000.000</td>\n",
       "    </tr>\n",
       "    <tr>\n",
       "      <th>(106.0, 4, 32.0)</th>\n",
       "      <td>-10000000.000</td>\n",
       "      <td>-10000000.000</td>\n",
       "      <td>-10000000.000</td>\n",
       "      <td>-10000000.000</td>\n",
       "      <td>-4416.000</td>\n",
       "      <td>-10000000.000</td>\n",
       "    </tr>\n",
       "    <tr>\n",
       "      <th>(108.0, 4, 32.0)</th>\n",
       "      <td>-10000000.000</td>\n",
       "      <td>-10000000.000</td>\n",
       "      <td>-10000000.000</td>\n",
       "      <td>-10000000.000</td>\n",
       "      <td>-4480.000</td>\n",
       "      <td>-10000000.000</td>\n",
       "    </tr>\n",
       "    <tr>\n",
       "      <th>(104.0, 4, 40.0)</th>\n",
       "      <td>-10000000.000</td>\n",
       "      <td>-10000000.000</td>\n",
       "      <td>-10000000.000</td>\n",
       "      <td>-10000000.000</td>\n",
       "      <td>-10000000.000</td>\n",
       "      <td>-5760.000</td>\n",
       "    </tr>\n",
       "    <tr>\n",
       "      <th>(100.0, 4, 40.0)</th>\n",
       "      <td>-10000000.000</td>\n",
       "      <td>-10000000.000</td>\n",
       "      <td>-10000000.000</td>\n",
       "      <td>-10000000.000</td>\n",
       "      <td>-10000000.000</td>\n",
       "      <td>-5600.000</td>\n",
       "    </tr>\n",
       "    <tr>\n",
       "      <th>(96.0, 4, 40.0)</th>\n",
       "      <td>-10000000.000</td>\n",
       "      <td>-10000000.000</td>\n",
       "      <td>-10000000.000</td>\n",
       "      <td>-10000000.000</td>\n",
       "      <td>-10000000.000</td>\n",
       "      <td>-5440.000</td>\n",
       "    </tr>\n",
       "    <tr>\n",
       "      <th>(98.0, 4, 40.0)</th>\n",
       "      <td>-10000000.000</td>\n",
       "      <td>-10000000.000</td>\n",
       "      <td>-10000000.000</td>\n",
       "      <td>-10000000.000</td>\n",
       "      <td>-10000000.000</td>\n",
       "      <td>-5520.000</td>\n",
       "    </tr>\n",
       "    <tr>\n",
       "      <th>(102.0, 4, 40.0)</th>\n",
       "      <td>-10000000.000</td>\n",
       "      <td>-10000000.000</td>\n",
       "      <td>-10000000.000</td>\n",
       "      <td>-10000000.000</td>\n",
       "      <td>-10000000.000</td>\n",
       "      <td>-5680.000</td>\n",
       "    </tr>\n",
       "  </tbody>\n",
       "</table>\n",
       "<p>85 rows × 6 columns</p>\n",
       "</div>"
      ],
      "text/plain": [
       "                        0.000         8.000         16.000        24.000  \\\n",
       "(100.0, 0, 40.0)     -5025.715     -4957.776     -5028.218     -5154.094   \n",
       "(141.0, 1, 0.0)          0.000 -10000000.000 -10000000.000 -10000000.000   \n",
       "(139.0, 1, 0.0)          0.000 -10000000.000 -10000000.000 -10000000.000   \n",
       "(133.0, 1, 8.0)      -1126.546     -1127.397 -10000000.000 -10000000.000   \n",
       "(131.0, 1, 8.0)      -1110.457     -1111.742 -10000000.000 -10000000.000   \n",
       "(125.0, 1, 16.0)     -2189.831     -2193.616     -2257.175 -10000000.000   \n",
       "(123.0, 1, 16.0)     -2158.046     -2159.539     -2223.256 -10000000.000   \n",
       "(115.0, 1, 24.0)     -3145.426     -3145.200     -3207.542     -3337.567   \n",
       "(117.0, 1, 24.0)     -3194.170     -3190.305     -3257.460     -3383.872   \n",
       "(109.0, 1, 32.0)     -4190.191     -4121.236     -4194.122     -4323.908   \n",
       "(107.0, 1, 32.0)     -4132.672     -4065.922     -4131.179     -4249.436   \n",
       "(101.0, 1, 40.0)     -5122.440     -5067.628     -5072.441     -5186.870   \n",
       "(99.0, 1, 40.0)      -5045.728     -4980.704     -4988.328     -5108.331   \n",
       "(138.0, 2, 0.0)          0.000 -10000000.000 -10000000.000 -10000000.000   \n",
       "(140.0, 2, 0.0)          0.000 -10000000.000 -10000000.000 -10000000.000   \n",
       "(142.0, 2, 0.0)          0.000 -10000000.000 -10000000.000 -10000000.000   \n",
       "(130.0, 2, 8.0)      -1103.553     -1103.303 -10000000.000 -10000000.000   \n",
       "(132.0, 2, 8.0)      -1120.011     -1120.605 -10000000.000 -10000000.000   \n",
       "(134.0, 2, 8.0)      -1135.899     -1135.590 -10000000.000 -10000000.000   \n",
       "(126.0, 2, 16.0)     -2207.371     -2208.018     -2271.213 -10000000.000   \n",
       "(122.0, 2, 16.0)     -2140.639     -2143.621     -2206.489 -10000000.000   \n",
       "(124.0, 2, 16.0)     -2175.685     -2175.448     -2240.086 -10000000.000   \n",
       "(114.0, 2, 24.0)     -3184.706     -3118.899     -3183.952     -3311.980   \n",
       "(118.0, 2, 24.0)     -3279.303     -3216.003     -3280.423     -3406.145   \n",
       "(116.0, 2, 24.0)     -3231.404     -3168.143     -3233.420     -3360.583   \n",
       "(110.0, 2, 32.0)     -4285.911     -4217.421     -4225.592     -4347.598   \n",
       "(106.0, 2, 32.0)     -4158.624     -4098.090     -4094.356     -4221.758   \n",
       "(108.0, 2, 32.0)     -4216.420     -4161.670     -4157.318     -4291.225   \n",
       "(98.0, 2, 40.0)      -5124.251     -5004.171     -5012.776     -5065.502   \n",
       "(100.0, 2, 40.0)     -5217.631     -5088.388     -5087.502     -5143.070   \n",
       "...                        ...           ...           ...           ...   \n",
       "(140.0, 4, 0.0)         -0.000 -10000000.000 -10000000.000 -10000000.000   \n",
       "(136.0, 4, 0.0)         -0.000 -10000000.000 -10000000.000 -10000000.000   \n",
       "(138.0, 4, 0.0)         -0.000 -10000000.000 -10000000.000 -10000000.000   \n",
       "(142.0, 4, 0.0)         -0.000 -10000000.000 -10000000.000 -10000000.000   \n",
       "(144.0, 4, 0.0)         -0.000 -10000000.000 -10000000.000 -10000000.000   \n",
       "(132.0, 4, 8.0)  -10000000.000     -1120.000 -10000000.000 -10000000.000   \n",
       "(128.0, 4, 8.0)  -10000000.000     -1088.000 -10000000.000 -10000000.000   \n",
       "(130.0, 4, 8.0)  -10000000.000     -1104.000 -10000000.000 -10000000.000   \n",
       "(134.0, 4, 8.0)  -10000000.000     -1136.000 -10000000.000 -10000000.000   \n",
       "(136.0, 4, 8.0)  -10000000.000     -1152.000 -10000000.000 -10000000.000   \n",
       "(120.0, 4, 16.0) -10000000.000 -10000000.000     -2176.000 -10000000.000   \n",
       "(122.0, 4, 16.0) -10000000.000 -10000000.000     -2208.000 -10000000.000   \n",
       "(128.0, 4, 16.0) -10000000.000 -10000000.000     -2304.000 -10000000.000   \n",
       "(126.0, 4, 16.0) -10000000.000 -10000000.000     -2272.000 -10000000.000   \n",
       "(124.0, 4, 16.0) -10000000.000 -10000000.000     -2240.000 -10000000.000   \n",
       "(116.0, 4, 24.0) -10000000.000 -10000000.000 -10000000.000     -3360.000   \n",
       "(120.0, 4, 24.0) -10000000.000 -10000000.000 -10000000.000     -3456.000   \n",
       "(112.0, 4, 24.0) -10000000.000 -10000000.000 -10000000.000     -3264.000   \n",
       "(114.0, 4, 24.0) -10000000.000 -10000000.000 -10000000.000     -3312.000   \n",
       "(118.0, 4, 24.0) -10000000.000 -10000000.000 -10000000.000     -3408.000   \n",
       "(110.0, 4, 32.0) -10000000.000 -10000000.000 -10000000.000 -10000000.000   \n",
       "(104.0, 4, 32.0) -10000000.000 -10000000.000 -10000000.000 -10000000.000   \n",
       "(112.0, 4, 32.0) -10000000.000 -10000000.000 -10000000.000 -10000000.000   \n",
       "(106.0, 4, 32.0) -10000000.000 -10000000.000 -10000000.000 -10000000.000   \n",
       "(108.0, 4, 32.0) -10000000.000 -10000000.000 -10000000.000 -10000000.000   \n",
       "(104.0, 4, 40.0) -10000000.000 -10000000.000 -10000000.000 -10000000.000   \n",
       "(100.0, 4, 40.0) -10000000.000 -10000000.000 -10000000.000 -10000000.000   \n",
       "(96.0, 4, 40.0)  -10000000.000 -10000000.000 -10000000.000 -10000000.000   \n",
       "(98.0, 4, 40.0)  -10000000.000 -10000000.000 -10000000.000 -10000000.000   \n",
       "(102.0, 4, 40.0) -10000000.000 -10000000.000 -10000000.000 -10000000.000   \n",
       "\n",
       "                        32.000        40.000  \n",
       "(100.0, 0, 40.0)     -5345.597     -5604.261  \n",
       "(141.0, 1, 0.0)  -10000000.000 -10000000.000  \n",
       "(139.0, 1, 0.0)  -10000000.000 -10000000.000  \n",
       "(133.0, 1, 8.0)  -10000000.000 -10000000.000  \n",
       "(131.0, 1, 8.0)  -10000000.000 -10000000.000  \n",
       "(125.0, 1, 16.0) -10000000.000 -10000000.000  \n",
       "(123.0, 1, 16.0) -10000000.000 -10000000.000  \n",
       "(115.0, 1, 24.0) -10000000.000 -10000000.000  \n",
       "(117.0, 1, 24.0) -10000000.000 -10000000.000  \n",
       "(109.0, 1, 32.0)     -4515.405 -10000000.000  \n",
       "(107.0, 1, 32.0)     -4445.413 -10000000.000  \n",
       "(101.0, 1, 40.0)     -5378.495     -5640.667  \n",
       "(99.0, 1, 40.0)      -5306.849     -5558.389  \n",
       "(138.0, 2, 0.0)  -10000000.000 -10000000.000  \n",
       "(140.0, 2, 0.0)  -10000000.000 -10000000.000  \n",
       "(142.0, 2, 0.0)  -10000000.000 -10000000.000  \n",
       "(130.0, 2, 8.0)  -10000000.000 -10000000.000  \n",
       "(132.0, 2, 8.0)  -10000000.000 -10000000.000  \n",
       "(134.0, 2, 8.0)  -10000000.000 -10000000.000  \n",
       "(126.0, 2, 16.0) -10000000.000 -10000000.000  \n",
       "(122.0, 2, 16.0) -10000000.000 -10000000.000  \n",
       "(124.0, 2, 16.0) -10000000.000 -10000000.000  \n",
       "(114.0, 2, 24.0) -10000000.000 -10000000.000  \n",
       "(118.0, 2, 24.0) -10000000.000 -10000000.000  \n",
       "(116.0, 2, 24.0) -10000000.000 -10000000.000  \n",
       "(110.0, 2, 32.0)     -4541.799 -10000000.000  \n",
       "(106.0, 2, 32.0)     -4413.796 -10000000.000  \n",
       "(108.0, 2, 32.0)     -4478.711 -10000000.000  \n",
       "(98.0, 2, 40.0)      -5267.521     -5523.739  \n",
       "(100.0, 2, 40.0)     -5343.789     -5605.479  \n",
       "...                        ...           ...  \n",
       "(140.0, 4, 0.0)  -10000000.000 -10000000.000  \n",
       "(136.0, 4, 0.0)  -10000000.000 -10000000.000  \n",
       "(138.0, 4, 0.0)  -10000000.000 -10000000.000  \n",
       "(142.0, 4, 0.0)  -10000000.000 -10000000.000  \n",
       "(144.0, 4, 0.0)  -10000000.000 -10000000.000  \n",
       "(132.0, 4, 8.0)  -10000000.000 -10000000.000  \n",
       "(128.0, 4, 8.0)  -10000000.000 -10000000.000  \n",
       "(130.0, 4, 8.0)  -10000000.000 -10000000.000  \n",
       "(134.0, 4, 8.0)  -10000000.000 -10000000.000  \n",
       "(136.0, 4, 8.0)  -10000000.000 -10000000.000  \n",
       "(120.0, 4, 16.0) -10000000.000 -10000000.000  \n",
       "(122.0, 4, 16.0) -10000000.000 -10000000.000  \n",
       "(128.0, 4, 16.0) -10000000.000 -10000000.000  \n",
       "(126.0, 4, 16.0) -10000000.000 -10000000.000  \n",
       "(124.0, 4, 16.0) -10000000.000 -10000000.000  \n",
       "(116.0, 4, 24.0) -10000000.000 -10000000.000  \n",
       "(120.0, 4, 24.0) -10000000.000 -10000000.000  \n",
       "(112.0, 4, 24.0) -10000000.000 -10000000.000  \n",
       "(114.0, 4, 24.0) -10000000.000 -10000000.000  \n",
       "(118.0, 4, 24.0) -10000000.000 -10000000.000  \n",
       "(110.0, 4, 32.0)     -4544.000 -10000000.000  \n",
       "(104.0, 4, 32.0)     -4352.000 -10000000.000  \n",
       "(112.0, 4, 32.0)     -4608.000 -10000000.000  \n",
       "(106.0, 4, 32.0)     -4416.000 -10000000.000  \n",
       "(108.0, 4, 32.0)     -4480.000 -10000000.000  \n",
       "(104.0, 4, 40.0) -10000000.000     -5760.000  \n",
       "(100.0, 4, 40.0) -10000000.000     -5600.000  \n",
       "(96.0, 4, 40.0)  -10000000.000     -5440.000  \n",
       "(98.0, 4, 40.0)  -10000000.000     -5520.000  \n",
       "(102.0, 4, 40.0) -10000000.000     -5680.000  \n",
       "\n",
       "[85 rows x 6 columns]"
      ]
     },
     "execution_count": 570,
     "metadata": {
      "tags": []
     },
     "output_type": "execute_result"
    }
   ],
   "source": [
    "#resulting Matrix\n",
    "Q"
   ]
  },
  {
   "cell_type": "code",
   "execution_count": 0,
   "metadata": {
    "colab": {
     "base_uri": "https://localhost:8080/",
     "height": 1906
    },
    "colab_type": "code",
    "id": "tgDth1yBficp",
    "outputId": "63e19585-d344-414b-931a-7e5ee2f59cac"
   },
   "outputs": [
    {
     "data": {
      "text/html": [
       "<div>\n",
       "<style scoped>\n",
       "    .dataframe tbody tr th:only-of-type {\n",
       "        vertical-align: middle;\n",
       "    }\n",
       "\n",
       "    .dataframe tbody tr th {\n",
       "        vertical-align: top;\n",
       "    }\n",
       "\n",
       "    .dataframe thead th {\n",
       "        text-align: right;\n",
       "    }\n",
       "</style>\n",
       "<table border=\"1\" class=\"dataframe\">\n",
       "  <thead>\n",
       "    <tr style=\"text-align: right;\">\n",
       "      <th></th>\n",
       "      <th>0.0</th>\n",
       "      <th>8.0</th>\n",
       "      <th>16.0</th>\n",
       "      <th>24.0</th>\n",
       "      <th>32.0</th>\n",
       "      <th>40.0</th>\n",
       "    </tr>\n",
       "  </thead>\n",
       "  <tbody>\n",
       "    <tr>\n",
       "      <th>(100.0, 0, 40.0)</th>\n",
       "      <td>602.000</td>\n",
       "      <td>647.000</td>\n",
       "      <td>604.000</td>\n",
       "      <td>572.000</td>\n",
       "      <td>585.000</td>\n",
       "      <td>562.000</td>\n",
       "    </tr>\n",
       "    <tr>\n",
       "      <th>(141.0, 1, 0.0)</th>\n",
       "      <td>3912.000</td>\n",
       "      <td>0.000</td>\n",
       "      <td>0.000</td>\n",
       "      <td>0.000</td>\n",
       "      <td>0.000</td>\n",
       "      <td>0.000</td>\n",
       "    </tr>\n",
       "    <tr>\n",
       "      <th>(139.0, 1, 0.0)</th>\n",
       "      <td>3910.000</td>\n",
       "      <td>0.000</td>\n",
       "      <td>0.000</td>\n",
       "      <td>0.000</td>\n",
       "      <td>0.000</td>\n",
       "      <td>0.000</td>\n",
       "    </tr>\n",
       "    <tr>\n",
       "      <th>(133.0, 1, 8.0)</th>\n",
       "      <td>1940.000</td>\n",
       "      <td>1901.000</td>\n",
       "      <td>0.000</td>\n",
       "      <td>0.000</td>\n",
       "      <td>0.000</td>\n",
       "      <td>0.000</td>\n",
       "    </tr>\n",
       "    <tr>\n",
       "      <th>(131.0, 1, 8.0)</th>\n",
       "      <td>1939.000</td>\n",
       "      <td>2015.000</td>\n",
       "      <td>0.000</td>\n",
       "      <td>0.000</td>\n",
       "      <td>0.000</td>\n",
       "      <td>0.000</td>\n",
       "    </tr>\n",
       "    <tr>\n",
       "      <th>(125.0, 1, 16.0)</th>\n",
       "      <td>1250.000</td>\n",
       "      <td>1337.000</td>\n",
       "      <td>1307.000</td>\n",
       "      <td>0.000</td>\n",
       "      <td>0.000</td>\n",
       "      <td>0.000</td>\n",
       "    </tr>\n",
       "    <tr>\n",
       "      <th>(123.0, 1, 16.0)</th>\n",
       "      <td>1394.000</td>\n",
       "      <td>1263.000</td>\n",
       "      <td>1291.000</td>\n",
       "      <td>0.000</td>\n",
       "      <td>0.000</td>\n",
       "      <td>0.000</td>\n",
       "    </tr>\n",
       "    <tr>\n",
       "      <th>(115.0, 1, 24.0)</th>\n",
       "      <td>1058.000</td>\n",
       "      <td>1024.000</td>\n",
       "      <td>1031.000</td>\n",
       "      <td>988.000</td>\n",
       "      <td>0.000</td>\n",
       "      <td>0.000</td>\n",
       "    </tr>\n",
       "    <tr>\n",
       "      <th>(117.0, 1, 24.0)</th>\n",
       "      <td>1065.000</td>\n",
       "      <td>978.000</td>\n",
       "      <td>1009.000</td>\n",
       "      <td>937.000</td>\n",
       "      <td>0.000</td>\n",
       "      <td>0.000</td>\n",
       "    </tr>\n",
       "    <tr>\n",
       "      <th>(109.0, 1, 32.0)</th>\n",
       "      <td>865.000</td>\n",
       "      <td>810.000</td>\n",
       "      <td>777.000</td>\n",
       "      <td>753.000</td>\n",
       "      <td>743.000</td>\n",
       "      <td>0.000</td>\n",
       "    </tr>\n",
       "    <tr>\n",
       "      <th>(107.0, 1, 32.0)</th>\n",
       "      <td>830.000</td>\n",
       "      <td>808.000</td>\n",
       "      <td>781.000</td>\n",
       "      <td>846.000</td>\n",
       "      <td>724.000</td>\n",
       "      <td>0.000</td>\n",
       "    </tr>\n",
       "    <tr>\n",
       "      <th>(101.0, 1, 40.0)</th>\n",
       "      <td>691.000</td>\n",
       "      <td>692.000</td>\n",
       "      <td>685.000</td>\n",
       "      <td>683.000</td>\n",
       "      <td>672.000</td>\n",
       "      <td>594.000</td>\n",
       "    </tr>\n",
       "    <tr>\n",
       "      <th>(99.0, 1, 40.0)</th>\n",
       "      <td>691.000</td>\n",
       "      <td>648.000</td>\n",
       "      <td>670.000</td>\n",
       "      <td>648.000</td>\n",
       "      <td>671.000</td>\n",
       "      <td>665.000</td>\n",
       "    </tr>\n",
       "    <tr>\n",
       "      <th>(138.0, 2, 0.0)</th>\n",
       "      <td>8472.000</td>\n",
       "      <td>0.000</td>\n",
       "      <td>0.000</td>\n",
       "      <td>0.000</td>\n",
       "      <td>0.000</td>\n",
       "      <td>0.000</td>\n",
       "    </tr>\n",
       "    <tr>\n",
       "      <th>(140.0, 2, 0.0)</th>\n",
       "      <td>13003.000</td>\n",
       "      <td>0.000</td>\n",
       "      <td>0.000</td>\n",
       "      <td>0.000</td>\n",
       "      <td>0.000</td>\n",
       "      <td>0.000</td>\n",
       "    </tr>\n",
       "    <tr>\n",
       "      <th>(142.0, 2, 0.0)</th>\n",
       "      <td>8379.000</td>\n",
       "      <td>0.000</td>\n",
       "      <td>0.000</td>\n",
       "      <td>0.000</td>\n",
       "      <td>0.000</td>\n",
       "      <td>0.000</td>\n",
       "    </tr>\n",
       "    <tr>\n",
       "      <th>(130.0, 2, 8.0)</th>\n",
       "      <td>3190.000</td>\n",
       "      <td>3309.000</td>\n",
       "      <td>0.000</td>\n",
       "      <td>0.000</td>\n",
       "      <td>0.000</td>\n",
       "      <td>0.000</td>\n",
       "    </tr>\n",
       "    <tr>\n",
       "      <th>(132.0, 2, 8.0)</th>\n",
       "      <td>4750.000</td>\n",
       "      <td>4627.000</td>\n",
       "      <td>0.000</td>\n",
       "      <td>0.000</td>\n",
       "      <td>0.000</td>\n",
       "      <td>0.000</td>\n",
       "    </tr>\n",
       "    <tr>\n",
       "      <th>(134.0, 2, 8.0)</th>\n",
       "      <td>3225.000</td>\n",
       "      <td>3230.000</td>\n",
       "      <td>0.000</td>\n",
       "      <td>0.000</td>\n",
       "      <td>0.000</td>\n",
       "      <td>0.000</td>\n",
       "    </tr>\n",
       "    <tr>\n",
       "      <th>(126.0, 2, 16.0)</th>\n",
       "      <td>1759.000</td>\n",
       "      <td>1817.000</td>\n",
       "      <td>1737.000</td>\n",
       "      <td>0.000</td>\n",
       "      <td>0.000</td>\n",
       "      <td>0.000</td>\n",
       "    </tr>\n",
       "    <tr>\n",
       "      <th>(122.0, 2, 16.0)</th>\n",
       "      <td>1923.000</td>\n",
       "      <td>1881.000</td>\n",
       "      <td>1831.000</td>\n",
       "      <td>0.000</td>\n",
       "      <td>0.000</td>\n",
       "      <td>0.000</td>\n",
       "    </tr>\n",
       "    <tr>\n",
       "      <th>(124.0, 2, 16.0)</th>\n",
       "      <td>2507.000</td>\n",
       "      <td>2500.000</td>\n",
       "      <td>2393.000</td>\n",
       "      <td>0.000</td>\n",
       "      <td>0.000</td>\n",
       "      <td>0.000</td>\n",
       "    </tr>\n",
       "    <tr>\n",
       "      <th>(114.0, 2, 24.0)</th>\n",
       "      <td>1302.000</td>\n",
       "      <td>1286.000</td>\n",
       "      <td>1189.000</td>\n",
       "      <td>1183.000</td>\n",
       "      <td>0.000</td>\n",
       "      <td>0.000</td>\n",
       "    </tr>\n",
       "    <tr>\n",
       "      <th>(118.0, 2, 24.0)</th>\n",
       "      <td>1265.000</td>\n",
       "      <td>1274.000</td>\n",
       "      <td>1209.000</td>\n",
       "      <td>1119.000</td>\n",
       "      <td>0.000</td>\n",
       "      <td>0.000</td>\n",
       "    </tr>\n",
       "    <tr>\n",
       "      <th>(116.0, 2, 24.0)</th>\n",
       "      <td>1526.000</td>\n",
       "      <td>1576.000</td>\n",
       "      <td>1529.000</td>\n",
       "      <td>1538.000</td>\n",
       "      <td>0.000</td>\n",
       "      <td>0.000</td>\n",
       "    </tr>\n",
       "    <tr>\n",
       "      <th>(110.0, 2, 32.0)</th>\n",
       "      <td>909.000</td>\n",
       "      <td>917.000</td>\n",
       "      <td>946.000</td>\n",
       "      <td>893.000</td>\n",
       "      <td>831.000</td>\n",
       "      <td>0.000</td>\n",
       "    </tr>\n",
       "    <tr>\n",
       "      <th>(106.0, 2, 32.0)</th>\n",
       "      <td>887.000</td>\n",
       "      <td>945.000</td>\n",
       "      <td>889.000</td>\n",
       "      <td>852.000</td>\n",
       "      <td>819.000</td>\n",
       "      <td>0.000</td>\n",
       "    </tr>\n",
       "    <tr>\n",
       "      <th>(108.0, 2, 32.0)</th>\n",
       "      <td>1069.000</td>\n",
       "      <td>1094.000</td>\n",
       "      <td>994.000</td>\n",
       "      <td>1035.000</td>\n",
       "      <td>959.000</td>\n",
       "      <td>0.000</td>\n",
       "    </tr>\n",
       "    <tr>\n",
       "      <th>(98.0, 2, 40.0)</th>\n",
       "      <td>663.000</td>\n",
       "      <td>759.000</td>\n",
       "      <td>619.000</td>\n",
       "      <td>666.000</td>\n",
       "      <td>694.000</td>\n",
       "      <td>646.000</td>\n",
       "    </tr>\n",
       "    <tr>\n",
       "      <th>(100.0, 2, 40.0)</th>\n",
       "      <td>716.000</td>\n",
       "      <td>764.000</td>\n",
       "      <td>705.000</td>\n",
       "      <td>729.000</td>\n",
       "      <td>735.000</td>\n",
       "      <td>657.000</td>\n",
       "    </tr>\n",
       "    <tr>\n",
       "      <th>...</th>\n",
       "      <td>...</td>\n",
       "      <td>...</td>\n",
       "      <td>...</td>\n",
       "      <td>...</td>\n",
       "      <td>...</td>\n",
       "      <td>...</td>\n",
       "    </tr>\n",
       "    <tr>\n",
       "      <th>(140.0, 4, 0.0)</th>\n",
       "      <td>0.000</td>\n",
       "      <td>0.000</td>\n",
       "      <td>0.000</td>\n",
       "      <td>0.000</td>\n",
       "      <td>0.000</td>\n",
       "      <td>0.000</td>\n",
       "    </tr>\n",
       "    <tr>\n",
       "      <th>(136.0, 4, 0.0)</th>\n",
       "      <td>0.000</td>\n",
       "      <td>0.000</td>\n",
       "      <td>0.000</td>\n",
       "      <td>0.000</td>\n",
       "      <td>0.000</td>\n",
       "      <td>0.000</td>\n",
       "    </tr>\n",
       "    <tr>\n",
       "      <th>(138.0, 4, 0.0)</th>\n",
       "      <td>0.000</td>\n",
       "      <td>0.000</td>\n",
       "      <td>0.000</td>\n",
       "      <td>0.000</td>\n",
       "      <td>0.000</td>\n",
       "      <td>0.000</td>\n",
       "    </tr>\n",
       "    <tr>\n",
       "      <th>(142.0, 4, 0.0)</th>\n",
       "      <td>0.000</td>\n",
       "      <td>0.000</td>\n",
       "      <td>0.000</td>\n",
       "      <td>0.000</td>\n",
       "      <td>0.000</td>\n",
       "      <td>0.000</td>\n",
       "    </tr>\n",
       "    <tr>\n",
       "      <th>(144.0, 4, 0.0)</th>\n",
       "      <td>0.000</td>\n",
       "      <td>0.000</td>\n",
       "      <td>0.000</td>\n",
       "      <td>0.000</td>\n",
       "      <td>0.000</td>\n",
       "      <td>0.000</td>\n",
       "    </tr>\n",
       "    <tr>\n",
       "      <th>(132.0, 4, 8.0)</th>\n",
       "      <td>0.000</td>\n",
       "      <td>0.000</td>\n",
       "      <td>0.000</td>\n",
       "      <td>0.000</td>\n",
       "      <td>0.000</td>\n",
       "      <td>0.000</td>\n",
       "    </tr>\n",
       "    <tr>\n",
       "      <th>(128.0, 4, 8.0)</th>\n",
       "      <td>0.000</td>\n",
       "      <td>0.000</td>\n",
       "      <td>0.000</td>\n",
       "      <td>0.000</td>\n",
       "      <td>0.000</td>\n",
       "      <td>0.000</td>\n",
       "    </tr>\n",
       "    <tr>\n",
       "      <th>(130.0, 4, 8.0)</th>\n",
       "      <td>0.000</td>\n",
       "      <td>0.000</td>\n",
       "      <td>0.000</td>\n",
       "      <td>0.000</td>\n",
       "      <td>0.000</td>\n",
       "      <td>0.000</td>\n",
       "    </tr>\n",
       "    <tr>\n",
       "      <th>(134.0, 4, 8.0)</th>\n",
       "      <td>0.000</td>\n",
       "      <td>0.000</td>\n",
       "      <td>0.000</td>\n",
       "      <td>0.000</td>\n",
       "      <td>0.000</td>\n",
       "      <td>0.000</td>\n",
       "    </tr>\n",
       "    <tr>\n",
       "      <th>(136.0, 4, 8.0)</th>\n",
       "      <td>0.000</td>\n",
       "      <td>0.000</td>\n",
       "      <td>0.000</td>\n",
       "      <td>0.000</td>\n",
       "      <td>0.000</td>\n",
       "      <td>0.000</td>\n",
       "    </tr>\n",
       "    <tr>\n",
       "      <th>(120.0, 4, 16.0)</th>\n",
       "      <td>0.000</td>\n",
       "      <td>0.000</td>\n",
       "      <td>0.000</td>\n",
       "      <td>0.000</td>\n",
       "      <td>0.000</td>\n",
       "      <td>0.000</td>\n",
       "    </tr>\n",
       "    <tr>\n",
       "      <th>(122.0, 4, 16.0)</th>\n",
       "      <td>0.000</td>\n",
       "      <td>0.000</td>\n",
       "      <td>0.000</td>\n",
       "      <td>0.000</td>\n",
       "      <td>0.000</td>\n",
       "      <td>0.000</td>\n",
       "    </tr>\n",
       "    <tr>\n",
       "      <th>(128.0, 4, 16.0)</th>\n",
       "      <td>0.000</td>\n",
       "      <td>0.000</td>\n",
       "      <td>0.000</td>\n",
       "      <td>0.000</td>\n",
       "      <td>0.000</td>\n",
       "      <td>0.000</td>\n",
       "    </tr>\n",
       "    <tr>\n",
       "      <th>(126.0, 4, 16.0)</th>\n",
       "      <td>0.000</td>\n",
       "      <td>0.000</td>\n",
       "      <td>0.000</td>\n",
       "      <td>0.000</td>\n",
       "      <td>0.000</td>\n",
       "      <td>0.000</td>\n",
       "    </tr>\n",
       "    <tr>\n",
       "      <th>(124.0, 4, 16.0)</th>\n",
       "      <td>0.000</td>\n",
       "      <td>0.000</td>\n",
       "      <td>0.000</td>\n",
       "      <td>0.000</td>\n",
       "      <td>0.000</td>\n",
       "      <td>0.000</td>\n",
       "    </tr>\n",
       "    <tr>\n",
       "      <th>(116.0, 4, 24.0)</th>\n",
       "      <td>0.000</td>\n",
       "      <td>0.000</td>\n",
       "      <td>0.000</td>\n",
       "      <td>0.000</td>\n",
       "      <td>0.000</td>\n",
       "      <td>0.000</td>\n",
       "    </tr>\n",
       "    <tr>\n",
       "      <th>(120.0, 4, 24.0)</th>\n",
       "      <td>0.000</td>\n",
       "      <td>0.000</td>\n",
       "      <td>0.000</td>\n",
       "      <td>0.000</td>\n",
       "      <td>0.000</td>\n",
       "      <td>0.000</td>\n",
       "    </tr>\n",
       "    <tr>\n",
       "      <th>(112.0, 4, 24.0)</th>\n",
       "      <td>0.000</td>\n",
       "      <td>0.000</td>\n",
       "      <td>0.000</td>\n",
       "      <td>0.000</td>\n",
       "      <td>0.000</td>\n",
       "      <td>0.000</td>\n",
       "    </tr>\n",
       "    <tr>\n",
       "      <th>(114.0, 4, 24.0)</th>\n",
       "      <td>0.000</td>\n",
       "      <td>0.000</td>\n",
       "      <td>0.000</td>\n",
       "      <td>0.000</td>\n",
       "      <td>0.000</td>\n",
       "      <td>0.000</td>\n",
       "    </tr>\n",
       "    <tr>\n",
       "      <th>(118.0, 4, 24.0)</th>\n",
       "      <td>0.000</td>\n",
       "      <td>0.000</td>\n",
       "      <td>0.000</td>\n",
       "      <td>0.000</td>\n",
       "      <td>0.000</td>\n",
       "      <td>0.000</td>\n",
       "    </tr>\n",
       "    <tr>\n",
       "      <th>(110.0, 4, 32.0)</th>\n",
       "      <td>0.000</td>\n",
       "      <td>0.000</td>\n",
       "      <td>0.000</td>\n",
       "      <td>0.000</td>\n",
       "      <td>0.000</td>\n",
       "      <td>0.000</td>\n",
       "    </tr>\n",
       "    <tr>\n",
       "      <th>(104.0, 4, 32.0)</th>\n",
       "      <td>0.000</td>\n",
       "      <td>0.000</td>\n",
       "      <td>0.000</td>\n",
       "      <td>0.000</td>\n",
       "      <td>0.000</td>\n",
       "      <td>0.000</td>\n",
       "    </tr>\n",
       "    <tr>\n",
       "      <th>(112.0, 4, 32.0)</th>\n",
       "      <td>0.000</td>\n",
       "      <td>0.000</td>\n",
       "      <td>0.000</td>\n",
       "      <td>0.000</td>\n",
       "      <td>0.000</td>\n",
       "      <td>0.000</td>\n",
       "    </tr>\n",
       "    <tr>\n",
       "      <th>(106.0, 4, 32.0)</th>\n",
       "      <td>0.000</td>\n",
       "      <td>0.000</td>\n",
       "      <td>0.000</td>\n",
       "      <td>0.000</td>\n",
       "      <td>0.000</td>\n",
       "      <td>0.000</td>\n",
       "    </tr>\n",
       "    <tr>\n",
       "      <th>(108.0, 4, 32.0)</th>\n",
       "      <td>0.000</td>\n",
       "      <td>0.000</td>\n",
       "      <td>0.000</td>\n",
       "      <td>0.000</td>\n",
       "      <td>0.000</td>\n",
       "      <td>0.000</td>\n",
       "    </tr>\n",
       "    <tr>\n",
       "      <th>(104.0, 4, 40.0)</th>\n",
       "      <td>0.000</td>\n",
       "      <td>0.000</td>\n",
       "      <td>0.000</td>\n",
       "      <td>0.000</td>\n",
       "      <td>0.000</td>\n",
       "      <td>0.000</td>\n",
       "    </tr>\n",
       "    <tr>\n",
       "      <th>(100.0, 4, 40.0)</th>\n",
       "      <td>0.000</td>\n",
       "      <td>0.000</td>\n",
       "      <td>0.000</td>\n",
       "      <td>0.000</td>\n",
       "      <td>0.000</td>\n",
       "      <td>0.000</td>\n",
       "    </tr>\n",
       "    <tr>\n",
       "      <th>(96.0, 4, 40.0)</th>\n",
       "      <td>0.000</td>\n",
       "      <td>0.000</td>\n",
       "      <td>0.000</td>\n",
       "      <td>0.000</td>\n",
       "      <td>0.000</td>\n",
       "      <td>0.000</td>\n",
       "    </tr>\n",
       "    <tr>\n",
       "      <th>(98.0, 4, 40.0)</th>\n",
       "      <td>0.000</td>\n",
       "      <td>0.000</td>\n",
       "      <td>0.000</td>\n",
       "      <td>0.000</td>\n",
       "      <td>0.000</td>\n",
       "      <td>0.000</td>\n",
       "    </tr>\n",
       "    <tr>\n",
       "      <th>(102.0, 4, 40.0)</th>\n",
       "      <td>0.000</td>\n",
       "      <td>0.000</td>\n",
       "      <td>0.000</td>\n",
       "      <td>0.000</td>\n",
       "      <td>0.000</td>\n",
       "      <td>0.000</td>\n",
       "    </tr>\n",
       "  </tbody>\n",
       "</table>\n",
       "<p>85 rows × 6 columns</p>\n",
       "</div>"
      ],
      "text/plain": [
       "                    0.000    8.000    16.000   24.000  32.000  40.000\n",
       "(100.0, 0, 40.0)   602.000  647.000  604.000  572.000 585.000 562.000\n",
       "(141.0, 1, 0.0)   3912.000    0.000    0.000    0.000   0.000   0.000\n",
       "(139.0, 1, 0.0)   3910.000    0.000    0.000    0.000   0.000   0.000\n",
       "(133.0, 1, 8.0)   1940.000 1901.000    0.000    0.000   0.000   0.000\n",
       "(131.0, 1, 8.0)   1939.000 2015.000    0.000    0.000   0.000   0.000\n",
       "(125.0, 1, 16.0)  1250.000 1337.000 1307.000    0.000   0.000   0.000\n",
       "(123.0, 1, 16.0)  1394.000 1263.000 1291.000    0.000   0.000   0.000\n",
       "(115.0, 1, 24.0)  1058.000 1024.000 1031.000  988.000   0.000   0.000\n",
       "(117.0, 1, 24.0)  1065.000  978.000 1009.000  937.000   0.000   0.000\n",
       "(109.0, 1, 32.0)   865.000  810.000  777.000  753.000 743.000   0.000\n",
       "(107.0, 1, 32.0)   830.000  808.000  781.000  846.000 724.000   0.000\n",
       "(101.0, 1, 40.0)   691.000  692.000  685.000  683.000 672.000 594.000\n",
       "(99.0, 1, 40.0)    691.000  648.000  670.000  648.000 671.000 665.000\n",
       "(138.0, 2, 0.0)   8472.000    0.000    0.000    0.000   0.000   0.000\n",
       "(140.0, 2, 0.0)  13003.000    0.000    0.000    0.000   0.000   0.000\n",
       "(142.0, 2, 0.0)   8379.000    0.000    0.000    0.000   0.000   0.000\n",
       "(130.0, 2, 8.0)   3190.000 3309.000    0.000    0.000   0.000   0.000\n",
       "(132.0, 2, 8.0)   4750.000 4627.000    0.000    0.000   0.000   0.000\n",
       "(134.0, 2, 8.0)   3225.000 3230.000    0.000    0.000   0.000   0.000\n",
       "(126.0, 2, 16.0)  1759.000 1817.000 1737.000    0.000   0.000   0.000\n",
       "(122.0, 2, 16.0)  1923.000 1881.000 1831.000    0.000   0.000   0.000\n",
       "(124.0, 2, 16.0)  2507.000 2500.000 2393.000    0.000   0.000   0.000\n",
       "(114.0, 2, 24.0)  1302.000 1286.000 1189.000 1183.000   0.000   0.000\n",
       "(118.0, 2, 24.0)  1265.000 1274.000 1209.000 1119.000   0.000   0.000\n",
       "(116.0, 2, 24.0)  1526.000 1576.000 1529.000 1538.000   0.000   0.000\n",
       "(110.0, 2, 32.0)   909.000  917.000  946.000  893.000 831.000   0.000\n",
       "(106.0, 2, 32.0)   887.000  945.000  889.000  852.000 819.000   0.000\n",
       "(108.0, 2, 32.0)  1069.000 1094.000  994.000 1035.000 959.000   0.000\n",
       "(98.0, 2, 40.0)    663.000  759.000  619.000  666.000 694.000 646.000\n",
       "(100.0, 2, 40.0)   716.000  764.000  705.000  729.000 735.000 657.000\n",
       "...                    ...      ...      ...      ...     ...     ...\n",
       "(140.0, 4, 0.0)      0.000    0.000    0.000    0.000   0.000   0.000\n",
       "(136.0, 4, 0.0)      0.000    0.000    0.000    0.000   0.000   0.000\n",
       "(138.0, 4, 0.0)      0.000    0.000    0.000    0.000   0.000   0.000\n",
       "(142.0, 4, 0.0)      0.000    0.000    0.000    0.000   0.000   0.000\n",
       "(144.0, 4, 0.0)      0.000    0.000    0.000    0.000   0.000   0.000\n",
       "(132.0, 4, 8.0)      0.000    0.000    0.000    0.000   0.000   0.000\n",
       "(128.0, 4, 8.0)      0.000    0.000    0.000    0.000   0.000   0.000\n",
       "(130.0, 4, 8.0)      0.000    0.000    0.000    0.000   0.000   0.000\n",
       "(134.0, 4, 8.0)      0.000    0.000    0.000    0.000   0.000   0.000\n",
       "(136.0, 4, 8.0)      0.000    0.000    0.000    0.000   0.000   0.000\n",
       "(120.0, 4, 16.0)     0.000    0.000    0.000    0.000   0.000   0.000\n",
       "(122.0, 4, 16.0)     0.000    0.000    0.000    0.000   0.000   0.000\n",
       "(128.0, 4, 16.0)     0.000    0.000    0.000    0.000   0.000   0.000\n",
       "(126.0, 4, 16.0)     0.000    0.000    0.000    0.000   0.000   0.000\n",
       "(124.0, 4, 16.0)     0.000    0.000    0.000    0.000   0.000   0.000\n",
       "(116.0, 4, 24.0)     0.000    0.000    0.000    0.000   0.000   0.000\n",
       "(120.0, 4, 24.0)     0.000    0.000    0.000    0.000   0.000   0.000\n",
       "(112.0, 4, 24.0)     0.000    0.000    0.000    0.000   0.000   0.000\n",
       "(114.0, 4, 24.0)     0.000    0.000    0.000    0.000   0.000   0.000\n",
       "(118.0, 4, 24.0)     0.000    0.000    0.000    0.000   0.000   0.000\n",
       "(110.0, 4, 32.0)     0.000    0.000    0.000    0.000   0.000   0.000\n",
       "(104.0, 4, 32.0)     0.000    0.000    0.000    0.000   0.000   0.000\n",
       "(112.0, 4, 32.0)     0.000    0.000    0.000    0.000   0.000   0.000\n",
       "(106.0, 4, 32.0)     0.000    0.000    0.000    0.000   0.000   0.000\n",
       "(108.0, 4, 32.0)     0.000    0.000    0.000    0.000   0.000   0.000\n",
       "(104.0, 4, 40.0)     0.000    0.000    0.000    0.000   0.000   0.000\n",
       "(100.0, 4, 40.0)     0.000    0.000    0.000    0.000   0.000   0.000\n",
       "(96.0, 4, 40.0)      0.000    0.000    0.000    0.000   0.000   0.000\n",
       "(98.0, 4, 40.0)      0.000    0.000    0.000    0.000   0.000   0.000\n",
       "(102.0, 4, 40.0)     0.000    0.000    0.000    0.000   0.000   0.000\n",
       "\n",
       "[85 rows x 6 columns]"
      ]
     },
     "execution_count": 571,
     "metadata": {
      "tags": []
     },
     "output_type": "execute_result"
    }
   ],
   "source": [
    "#checking the number of visit\n",
    "C"
   ]
  },
  {
   "cell_type": "code",
   "execution_count": 0,
   "metadata": {
    "colab": {
     "base_uri": "https://localhost:8080/",
     "height": 283
    },
    "colab_type": "code",
    "id": "hcktMvUtuGoB",
    "outputId": "b6ef1d20-a2dd-4ffc-fddf-599a2914bd8a"
   },
   "outputs": [
    {
     "data": {
      "text/plain": [
       "[(100.0, 0, 40.0),\n",
       " (109.0, 1, 32.0),\n",
       " (107.0, 1, 32.0),\n",
       " (114.0, 2, 24.0),\n",
       " (118.0, 2, 24.0),\n",
       " (116.0, 2, 24.0),\n",
       " (121.0, 3, 16.0),\n",
       " (125.0, 3, 16.0),\n",
       " (127.0, 3, 16.0),\n",
       " (123.0, 3, 16.0),\n",
       " (132.0, 4, 8.0),\n",
       " (128.0, 4, 8.0),\n",
       " (130.0, 4, 8.0),\n",
       " (134.0, 4, 8.0),\n",
       " (136.0, 4, 8.0)]"
      ]
     },
     "execution_count": 572,
     "metadata": {
      "tags": []
     },
     "output_type": "execute_result"
    }
   ],
   "source": [
    "#Base on the theory we developed in class and observing the resulting matrix, below is the optimal route states\n",
    "Optimal = []\n",
    "for i in S:\n",
    "    if i[2] == N - i[1]*A[1]:\n",
    "        Optimal.append(i) \n",
    "Optimal"
   ]
  },
  {
   "cell_type": "code",
   "execution_count": 0,
   "metadata": {
    "colab": {
     "base_uri": "https://localhost:8080/",
     "height": 301
    },
    "colab_type": "code",
    "id": "cuzg1XLauGoF",
    "outputId": "98100b95-5d9a-4581-b026-da6f01d5eddf"
   },
   "outputs": [
    {
     "data": {
      "text/plain": [
       "(100.0, 0, 40.0)   8.000\n",
       "(109.0, 1, 32.0)   8.000\n",
       "(107.0, 1, 32.0)   8.000\n",
       "(114.0, 2, 24.0)   8.000\n",
       "(118.0, 2, 24.0)   8.000\n",
       "(116.0, 2, 24.0)   8.000\n",
       "(121.0, 3, 16.0)   8.000\n",
       "(125.0, 3, 16.0)   8.000\n",
       "(127.0, 3, 16.0)   8.000\n",
       "(123.0, 3, 16.0)   8.000\n",
       "(132.0, 4, 8.0)    8.000\n",
       "(128.0, 4, 8.0)    8.000\n",
       "(130.0, 4, 8.0)    8.000\n",
       "(134.0, 4, 8.0)    8.000\n",
       "(136.0, 4, 8.0)    8.000\n",
       "dtype: float64"
      ]
     },
     "execution_count": 573,
     "metadata": {
      "tags": []
     },
     "output_type": "execute_result"
    }
   ],
   "source": [
    "#Here we can check the optimal strategy if we just start at initial time and follow the optimal route, and notice how when you are at the same time period with same number\n",
    "#of shares left to buy, the price doesn't affect your action within the optimal route, and the optimal strategy is to sell 40/5 (N/T) = 8 shares each time\n",
    "Q.loc[Optimal].idxmax(axis =1)"
   ]
  },
  {
   "cell_type": "markdown",
   "metadata": {
    "colab_type": "text",
    "id": "jeWpnMADuGoI"
   },
   "source": [
    "Above we can see the optimal strategy starting at time = 0, the optimal strategy is always to sell 40/5 = 8 shares at the given time with the right amount of shares. \n"
   ]
  },
  {
   "cell_type": "code",
   "execution_count": 0,
   "metadata": {
    "colab": {
     "base_uri": "https://localhost:8080/",
     "height": 497
    },
    "colab_type": "code",
    "id": "jf-Hgconeku2",
    "outputId": "3d91dfb5-072f-4d51-981b-ff9590f38290"
   },
   "outputs": [
    {
     "data": {
      "text/html": [
       "<div>\n",
       "<style scoped>\n",
       "    .dataframe tbody tr th:only-of-type {\n",
       "        vertical-align: middle;\n",
       "    }\n",
       "\n",
       "    .dataframe tbody tr th {\n",
       "        vertical-align: top;\n",
       "    }\n",
       "\n",
       "    .dataframe thead th {\n",
       "        text-align: right;\n",
       "    }\n",
       "</style>\n",
       "<table border=\"1\" class=\"dataframe\">\n",
       "  <thead>\n",
       "    <tr style=\"text-align: right;\">\n",
       "      <th></th>\n",
       "      <th>0.0</th>\n",
       "      <th>8.0</th>\n",
       "      <th>16.0</th>\n",
       "      <th>24.0</th>\n",
       "      <th>32.0</th>\n",
       "      <th>40.0</th>\n",
       "    </tr>\n",
       "  </thead>\n",
       "  <tbody>\n",
       "    <tr>\n",
       "      <th>(100.0, 0, 40.0)</th>\n",
       "      <td>-5025.715</td>\n",
       "      <td>-4957.776</td>\n",
       "      <td>-5028.218</td>\n",
       "      <td>-5154.094</td>\n",
       "      <td>-5345.597</td>\n",
       "      <td>-5604.261</td>\n",
       "    </tr>\n",
       "    <tr>\n",
       "      <th>(109.0, 1, 32.0)</th>\n",
       "      <td>-4190.191</td>\n",
       "      <td>-4121.236</td>\n",
       "      <td>-4194.122</td>\n",
       "      <td>-4323.908</td>\n",
       "      <td>-4515.405</td>\n",
       "      <td>-10000000.000</td>\n",
       "    </tr>\n",
       "    <tr>\n",
       "      <th>(107.0, 1, 32.0)</th>\n",
       "      <td>-4132.672</td>\n",
       "      <td>-4065.922</td>\n",
       "      <td>-4131.179</td>\n",
       "      <td>-4249.436</td>\n",
       "      <td>-4445.413</td>\n",
       "      <td>-10000000.000</td>\n",
       "    </tr>\n",
       "    <tr>\n",
       "      <th>(114.0, 2, 24.0)</th>\n",
       "      <td>-3184.706</td>\n",
       "      <td>-3118.899</td>\n",
       "      <td>-3183.952</td>\n",
       "      <td>-3311.980</td>\n",
       "      <td>-10000000.000</td>\n",
       "      <td>-10000000.000</td>\n",
       "    </tr>\n",
       "    <tr>\n",
       "      <th>(118.0, 2, 24.0)</th>\n",
       "      <td>-3279.303</td>\n",
       "      <td>-3216.003</td>\n",
       "      <td>-3280.423</td>\n",
       "      <td>-3406.145</td>\n",
       "      <td>-10000000.000</td>\n",
       "      <td>-10000000.000</td>\n",
       "    </tr>\n",
       "    <tr>\n",
       "      <th>(116.0, 2, 24.0)</th>\n",
       "      <td>-3231.404</td>\n",
       "      <td>-3168.143</td>\n",
       "      <td>-3233.420</td>\n",
       "      <td>-3360.583</td>\n",
       "      <td>-10000000.000</td>\n",
       "      <td>-10000000.000</td>\n",
       "    </tr>\n",
       "    <tr>\n",
       "      <th>(121.0, 3, 16.0)</th>\n",
       "      <td>-2190.893</td>\n",
       "      <td>-2125.331</td>\n",
       "      <td>-2190.427</td>\n",
       "      <td>-10000000.000</td>\n",
       "      <td>-10000000.000</td>\n",
       "      <td>-10000000.000</td>\n",
       "    </tr>\n",
       "    <tr>\n",
       "      <th>(125.0, 3, 16.0)</th>\n",
       "      <td>-2257.099</td>\n",
       "      <td>-2191.945</td>\n",
       "      <td>-2255.422</td>\n",
       "      <td>-10000000.000</td>\n",
       "      <td>-10000000.000</td>\n",
       "      <td>-10000000.000</td>\n",
       "    </tr>\n",
       "    <tr>\n",
       "      <th>(127.0, 3, 16.0)</th>\n",
       "      <td>-2289.071</td>\n",
       "      <td>-2223.711</td>\n",
       "      <td>-2287.613</td>\n",
       "      <td>-10000000.000</td>\n",
       "      <td>-10000000.000</td>\n",
       "      <td>-10000000.000</td>\n",
       "    </tr>\n",
       "    <tr>\n",
       "      <th>(123.0, 3, 16.0)</th>\n",
       "      <td>-2224.610</td>\n",
       "      <td>-2159.484</td>\n",
       "      <td>-2224.951</td>\n",
       "      <td>-10000000.000</td>\n",
       "      <td>-10000000.000</td>\n",
       "      <td>-10000000.000</td>\n",
       "    </tr>\n",
       "    <tr>\n",
       "      <th>(132.0, 4, 8.0)</th>\n",
       "      <td>-10000000.000</td>\n",
       "      <td>-1120.000</td>\n",
       "      <td>-10000000.000</td>\n",
       "      <td>-10000000.000</td>\n",
       "      <td>-10000000.000</td>\n",
       "      <td>-10000000.000</td>\n",
       "    </tr>\n",
       "    <tr>\n",
       "      <th>(128.0, 4, 8.0)</th>\n",
       "      <td>-10000000.000</td>\n",
       "      <td>-1088.000</td>\n",
       "      <td>-10000000.000</td>\n",
       "      <td>-10000000.000</td>\n",
       "      <td>-10000000.000</td>\n",
       "      <td>-10000000.000</td>\n",
       "    </tr>\n",
       "    <tr>\n",
       "      <th>(130.0, 4, 8.0)</th>\n",
       "      <td>-10000000.000</td>\n",
       "      <td>-1104.000</td>\n",
       "      <td>-10000000.000</td>\n",
       "      <td>-10000000.000</td>\n",
       "      <td>-10000000.000</td>\n",
       "      <td>-10000000.000</td>\n",
       "    </tr>\n",
       "    <tr>\n",
       "      <th>(134.0, 4, 8.0)</th>\n",
       "      <td>-10000000.000</td>\n",
       "      <td>-1136.000</td>\n",
       "      <td>-10000000.000</td>\n",
       "      <td>-10000000.000</td>\n",
       "      <td>-10000000.000</td>\n",
       "      <td>-10000000.000</td>\n",
       "    </tr>\n",
       "    <tr>\n",
       "      <th>(136.0, 4, 8.0)</th>\n",
       "      <td>-10000000.000</td>\n",
       "      <td>-1152.000</td>\n",
       "      <td>-10000000.000</td>\n",
       "      <td>-10000000.000</td>\n",
       "      <td>-10000000.000</td>\n",
       "      <td>-10000000.000</td>\n",
       "    </tr>\n",
       "  </tbody>\n",
       "</table>\n",
       "</div>"
      ],
      "text/plain": [
       "                        0.000     8.000         16.000        24.000  \\\n",
       "(100.0, 0, 40.0)     -5025.715 -4957.776     -5028.218     -5154.094   \n",
       "(109.0, 1, 32.0)     -4190.191 -4121.236     -4194.122     -4323.908   \n",
       "(107.0, 1, 32.0)     -4132.672 -4065.922     -4131.179     -4249.436   \n",
       "(114.0, 2, 24.0)     -3184.706 -3118.899     -3183.952     -3311.980   \n",
       "(118.0, 2, 24.0)     -3279.303 -3216.003     -3280.423     -3406.145   \n",
       "(116.0, 2, 24.0)     -3231.404 -3168.143     -3233.420     -3360.583   \n",
       "(121.0, 3, 16.0)     -2190.893 -2125.331     -2190.427 -10000000.000   \n",
       "(125.0, 3, 16.0)     -2257.099 -2191.945     -2255.422 -10000000.000   \n",
       "(127.0, 3, 16.0)     -2289.071 -2223.711     -2287.613 -10000000.000   \n",
       "(123.0, 3, 16.0)     -2224.610 -2159.484     -2224.951 -10000000.000   \n",
       "(132.0, 4, 8.0)  -10000000.000 -1120.000 -10000000.000 -10000000.000   \n",
       "(128.0, 4, 8.0)  -10000000.000 -1088.000 -10000000.000 -10000000.000   \n",
       "(130.0, 4, 8.0)  -10000000.000 -1104.000 -10000000.000 -10000000.000   \n",
       "(134.0, 4, 8.0)  -10000000.000 -1136.000 -10000000.000 -10000000.000   \n",
       "(136.0, 4, 8.0)  -10000000.000 -1152.000 -10000000.000 -10000000.000   \n",
       "\n",
       "                        32.000        40.000  \n",
       "(100.0, 0, 40.0)     -5345.597     -5604.261  \n",
       "(109.0, 1, 32.0)     -4515.405 -10000000.000  \n",
       "(107.0, 1, 32.0)     -4445.413 -10000000.000  \n",
       "(114.0, 2, 24.0) -10000000.000 -10000000.000  \n",
       "(118.0, 2, 24.0) -10000000.000 -10000000.000  \n",
       "(116.0, 2, 24.0) -10000000.000 -10000000.000  \n",
       "(121.0, 3, 16.0) -10000000.000 -10000000.000  \n",
       "(125.0, 3, 16.0) -10000000.000 -10000000.000  \n",
       "(127.0, 3, 16.0) -10000000.000 -10000000.000  \n",
       "(123.0, 3, 16.0) -10000000.000 -10000000.000  \n",
       "(132.0, 4, 8.0)  -10000000.000 -10000000.000  \n",
       "(128.0, 4, 8.0)  -10000000.000 -10000000.000  \n",
       "(130.0, 4, 8.0)  -10000000.000 -10000000.000  \n",
       "(134.0, 4, 8.0)  -10000000.000 -10000000.000  \n",
       "(136.0, 4, 8.0)  -10000000.000 -10000000.000  "
      ]
     },
     "execution_count": 574,
     "metadata": {
      "tags": []
     },
     "output_type": "execute_result"
    }
   ],
   "source": [
    "#See below for the actually row values along the optimal route\n",
    "Q.loc[Optimal]"
   ]
  },
  {
   "cell_type": "markdown",
   "metadata": {},
   "source": [
    "__Plot analysis of stock price vs action and also naive appraoch vs optimal approach__"
   ]
  },
  {
   "cell_type": "code",
   "execution_count": 84,
   "metadata": {
    "colab": {},
    "colab_type": "code",
    "id": "5WugfHnPBPuS"
   },
   "outputs": [],
   "source": [
    "#Here I want to plot how stock price changes vs our action\n",
    "price_change = [0 for i in range(100)]\n",
    "naive = [[] for i in range(100)] #This is also calculating a naive\n",
    "for i in range(100):\n",
    "    d = (P_0, 0 ,N)\n",
    "    price_change[i] = []\n",
    "    price_change[i].append(P_0)\n",
    "    while d[1] != T-1:\n",
    "        Action = rm.choice(A)\n",
    "        if d[2] >= Action:\n",
    "            price = d[0] + R_walk()[0] + Theta*Action\n",
    "            naive[i].append(price * Action)\n",
    "            price_change[i].append(price)\n",
    "            d = (price, d[1] + 1, d[2] - Action)\n",
    "    price = d[0] + R_walk()[0] + Theta*d[1]\n",
    "    naive[i].append(price*d[1])\n",
    "            "
   ]
  },
  {
   "cell_type": "code",
   "execution_count": 85,
   "metadata": {
    "colab": {},
    "colab_type": "code",
    "id": "5WugfHnPBPuS"
   },
   "outputs": [
    {
     "name": "stdout",
     "output_type": "stream",
     "text": [
      "Average cost for naive appraoch: 5443.28\n"
     ]
    }
   ],
   "source": [
    "#Looking at the naive solution\n",
    "averagecost = 0\n",
    "for i in naive:\n",
    "    averagecost += sum(i)\n",
    "    \n",
    "averagecost = averagecost/len(naive)\n",
    "print(\"Average cost for naive appraoch:\",averagecost)"
   ]
  },
  {
   "cell_type": "code",
   "execution_count": 88,
   "metadata": {
    "colab": {},
    "colab_type": "code",
    "id": "5WugfHnPBPuS"
   },
   "outputs": [],
   "source": [
    "optimal = [[] for i in range(100)]\n",
    "for i in range(100):\n",
    "    d = (P_0, 0 ,N)\n",
    "    while d[1] != T-1:\n",
    "        Action = 8\n",
    "        if d[2] >= Action:\n",
    "            price = d[0] + R_walk()[0] + Theta*Action\n",
    "            optimal[i].append(price * Action)\n",
    "            d = (price, d[1] + 1, d[2] - Action)\n",
    "    price = d[0] + R_walk()[0] + Theta*d[1]\n",
    "    optimal[i].append(price*d[1])\n",
    "            "
   ]
  },
  {
   "cell_type": "code",
   "execution_count": 89,
   "metadata": {
    "colab": {},
    "colab_type": "code",
    "id": "5WugfHnPBPuS"
   },
   "outputs": [
    {
     "name": "stdout",
     "output_type": "stream",
     "text": [
      "Average cost for optimal appraoch: 4382.16\n"
     ]
    }
   ],
   "source": [
    "averagecost_o = 0\n",
    "for i in optimal:\n",
    "    averagecost_o += sum(i)\n",
    "averagecost_o = averagecost_o/len(optimal)\n",
    "print(\"Average cost for optimal appraoch:\",averagecost_o)"
   ]
  },
  {
   "cell_type": "markdown",
   "metadata": {},
   "source": [
    "We can see a huge decrease in cost, __4382.16 vs 5443.28__, in using our optimal solution of selling 8 shares per time step vs just choosing random action each time over the long run. thus proving our solution is a better solution than the naive appraoch"
   ]
  },
  {
   "cell_type": "code",
   "execution_count": 12,
   "metadata": {
    "colab": {},
    "colab_type": "code",
    "id": "06x1F6P-BPuV",
    "outputId": "f2ef6ba9-c78d-4c0c-976e-2b9ea34de96d"
   },
   "outputs": [
    {
     "data": {
      "text/plain": [
       "Text(0.5, 0, 'Time Period')"
      ]
     },
     "execution_count": 12,
     "metadata": {},
     "output_type": "execute_result"
    },
    {
     "data": {
      "image/png": "[encoded data removed]",
      "text/plain": [
       "<Figure size 432x288 with 1 Axes>"
      ]
     },
     "metadata": {
      "needs_background": "light"
     },
     "output_type": "display_data"
    }
   ],
   "source": [
    "#Below we can see some price changes through the period of time just through our action \n",
    "#of buying random sharese, since the impact is permanent we see that\n",
    "#there is no decrease in price, and it only differes in the noise\n",
    "plt.plot(price_change[0])\n",
    "plt.plot(price_change[1])\n",
    "plt.plot(price_change[2])\n",
    "plt.plot(price_change[3])\n",
    "\n",
    "plt.xticks(np.arange(0, 4+1, 1.0))\n",
    "plt.title(\"Stock Price vs Time Period\")\n",
    "plt.ylabel(\"Stock Price\")\n",
    "plt.xlabel(\"Time Period\")"
   ]
  },
  {
   "cell_type": "markdown",
   "metadata": {
    "colab_type": "text",
    "id": "XUYoIoFAuGod"
   },
   "source": [
    "<font size = '5'> __Part 2b) Quadratic Temporary Price Impact Model__ </font>"
   ]
  },
  {
   "cell_type": "markdown",
   "metadata": {
    "colab_type": "text",
    "id": "VF2Knq7YuGoe"
   },
   "source": [
    "The __Quadratic Temporary Price Impact Model__ assumes the relation of the following:\n",
    "    \n",
    "    Pt = P0+ ϵt + a(St)^2 + b(St)\n",
    "Notice it is adding P0 instead of P_t-1, as this is the temporary price model, so your action only affects the immediate buying price, and then the next price will not depend on the previous price anymore but just depend on the initial price and your immediate next action, thus temporary impact.\n",
    "\n",
    "Which means that the next price is a linear combination of the previous price and theta*(# of shares you are purchasing) + some random noise that is independent from S and P.\n",
    "\n",
    "We will be sampling ϵ from a random walk with taking value in {-1, 1} with equal probabilities , and with the other parameters stated above (θ = 0.5, P0 = 10)."
   ]
  },
  {
   "cell_type": "code",
   "execution_count": 0,
   "metadata": {
    "colab": {},
    "colab_type": "code",
    "id": "0oVowR6luGof"
   },
   "outputs": [],
   "source": [
    "# we will be using the same parameters as above, with new paramaters a,b. I will just redefine them again here\n",
    "T = 5 # Time periods\n",
    "N = 40 # Amount of shares\n",
    "P_0 = 100 #Initial Stock Price\n",
    "a = 0.5\n",
    "b = 1"
   ]
  },
  {
   "cell_type": "code",
   "execution_count": 34,
   "metadata": {
    "colab": {
     "base_uri": "https://localhost:8080/",
     "height": 35
    },
    "colab_type": "code",
    "id": "TlLvacJ2uGoh",
    "outputId": "cb85fabc-1a22-4184-a1e0-8777951ef6cc"
   },
   "outputs": [
    {
     "data": {
      "text/plain": [
       "[0.0, 8.0, 16.0, 24.0, 32.0, 40.0]"
      ]
     },
     "execution_count": 34,
     "metadata": {
      "tags": []
     },
     "output_type": "execute_result"
    }
   ],
   "source": [
    "#Same possible Action\n",
    "A"
   ]
  },
  {
   "cell_type": "code",
   "execution_count": 0,
   "metadata": {
    "colab": {},
    "colab_type": "code",
    "id": "I7pCVA1juGol"
   },
   "outputs": [],
   "source": [
    "#Defining the new functions for state and price because the model is different\n",
    "def Next_state_q(state, action):\n",
    "    Price = Next_Price_q(state[0], action)\n",
    "    return (Price, state[1]+1, state[2] - action)\n",
    "\n",
    "def Next_Price_q(Price, Share):\n",
    "    noise = R_walk()\n",
    "    return P_0 + noise[0] + a*(Share*Share) + b*Share"
   ]
  },
  {
   "cell_type": "code",
   "execution_count": 50,
   "metadata": {
    "colab": {
     "base_uri": "https://localhost:8080/",
     "height": 381
    },
    "colab_type": "code",
    "id": "1fF_GjkQuGop",
    "outputId": "a834cb76-a933-4d72-86f8-126120cadd3d"
   },
   "outputs": [
    {
     "data": {
      "text/plain": [
       "[(100.0, 0, 40.0),\n",
       " (941.0, 1, 0.0),\n",
       " (939.0, 1, 0.0),\n",
       " (645.0, 1, 8.0),\n",
       " (643.0, 1, 8.0),\n",
       " (413.0, 1, 16.0),\n",
       " (411.0, 1, 16.0),\n",
       " (243.0, 1, 24.0),\n",
       " (245.0, 1, 24.0),\n",
       " (139.0, 1, 32.0),\n",
       " (141.0, 1, 32.0),\n",
       " (101.0, 1, 40.0),\n",
       " (99.0, 1, 40.0),\n",
       " (941.0, 2, 0.0),\n",
       " (245.0, 2, 0.0),\n",
       " (99.0, 2, 0.0),\n",
       " (643.0, 2, 0.0),\n",
       " (411.0, 2, 0.0),\n",
       " (139.0, 2, 0.0),\n",
       " (101.0, 2, 0.0)]"
      ]
     },
     "execution_count": 50,
     "metadata": {
      "tags": []
     },
     "output_type": "execute_result"
    }
   ],
   "source": [
    "#Constructing the States again\n",
    "States_q = []\n",
    "States_q.append((P_0*1.0, 0 ,N*1.0))\n",
    "for i in range(200000):\n",
    "    C = (P_0, 0 ,N)\n",
    "    while C[1] != T-1:\n",
    "        Action = rm.choice(A)\n",
    "        if C[2] >= Action:\n",
    "            price = round(Next_Price_q(C[0], Action)) * 1.0\n",
    "            C = (price, C[1] + 1, C[2] - Action)\n",
    "            States_q.append(C)\n",
    "States_q = set(States_q)\n",
    "States_q = list(States_q)\n",
    "S_q = States_q\n",
    "S_q.sort(key = lambda tup: (tup[1],tup[2]))\n",
    "S_q[0:20]"
   ]
  },
  {
   "cell_type": "code",
   "execution_count": 51,
   "metadata": {
    "colab": {
     "base_uri": "https://localhost:8080/",
     "height": 35
    },
    "colab_type": "code",
    "id": "YAVYBTCAuGot",
    "outputId": "79c4857e-365a-46b9-a0fb-30d6bcf74ceb"
   },
   "outputs": [
    {
     "data": {
      "text/plain": [
       "139"
      ]
     },
     "execution_count": 51,
     "metadata": {
      "tags": []
     },
     "output_type": "execute_result"
    }
   ],
   "source": [
    "len(S_q)"
   ]
  },
  {
   "cell_type": "code",
   "execution_count": 52,
   "metadata": {
    "colab": {
     "base_uri": "https://localhost:8080/",
     "height": 35
    },
    "colab_type": "code",
    "id": "riEvoI-ouGoy",
    "outputId": "8e09ff30-e9da-4db8-a233-57f58fb8127f"
   },
   "outputs": [
    {
     "data": {
      "text/plain": [
       "97"
      ]
     },
     "execution_count": 52,
     "metadata": {
      "tags": []
     },
     "output_type": "execute_result"
    }
   ],
   "source": [
    "#Setting up for initializing the Q_matrix\n",
    "End_state_q = []\n",
    "Other_state_q = []\n",
    "for i in S_q:\n",
    "    if i[1] == T - 1:\n",
    "        End_state_q.append(i)\n",
    "    else:\n",
    "        Other_state_q.append(i)\n",
    "len(Other_state_q)"
   ]
  },
  {
   "cell_type": "code",
   "execution_count": 0,
   "metadata": {
    "colab": {},
    "colab_type": "code",
    "id": "3L1JxW-5uGo5"
   },
   "outputs": [],
   "source": [
    "#Setting up the Q-Matrix\n",
    "row_index = {}\n",
    "col_index = {}\n",
    "for i in range(len(S_q)):\n",
    "    row_index[i] = S_q[i]\n",
    "for i in range(len(A)):\n",
    "    col_index[i] = A[i]\n",
    "    \n",
    "Q_q = np.zeros((len(S_q),len(A)))\n",
    "Q_q = pd.DataFrame(Q_q)\n",
    "Q_q.rename(index = row_index, inplace = True)\n",
    "Q_q.rename(columns= col_index, inplace=True)"
   ]
  },
  {
   "cell_type": "code",
   "execution_count": 0,
   "metadata": {
    "colab": {},
    "colab_type": "code",
    "id": "F7SLilIxuGo8"
   },
   "outputs": [],
   "source": [
    "#Again creating a copy of the matrix for dynamic learning rate = 1/(1+#ofvisit)\n",
    "C_q = Q_q.copy()"
   ]
  },
  {
   "cell_type": "code",
   "execution_count": 0,
   "metadata": {
    "colab": {},
    "colab_type": "code",
    "id": "zlpgz-ONuGpC"
   },
   "outputs": [],
   "source": [
    "#notice I didn't add the noise term in calculating the final reward, as e has expectation 0, so in the long term the \n",
    "#noise term should cancel out, setting up initial award and infeasible actions\n",
    "price = 0\n",
    "for state in End_state_q:\n",
    "    for action in A:\n",
    "        if state[2] != action:\n",
    "            Q_q.at[state,action] = -10000000\n",
    "        else:\n",
    "            price = round(Next_Price_q(state[0], action)) *1.0\n",
    "            reward = -1*(price*state[2])\n",
    "            Q_q.at[state,action] = reward\n",
    "\n",
    "for state in Other_state_q:\n",
    "    for action in A:\n",
    "        if state[2] < action:\n",
    "            Q_q.at[state,action] = -10000000\n"
   ]
  },
  {
   "cell_type": "code",
   "execution_count": 41,
   "metadata": {
    "colab": {
     "base_uri": "https://localhost:8080/",
     "height": 198
    },
    "colab_type": "code",
    "id": "6gCXHmMtuGpI",
    "outputId": "a1bb99b2-31cf-4e77-8f7c-658ded3df64b"
   },
   "outputs": [
    {
     "data": {
      "text/html": [
       "<div>\n",
       "<style scoped>\n",
       "    .dataframe tbody tr th:only-of-type {\n",
       "        vertical-align: middle;\n",
       "    }\n",
       "\n",
       "    .dataframe tbody tr th {\n",
       "        vertical-align: top;\n",
       "    }\n",
       "\n",
       "    .dataframe thead th {\n",
       "        text-align: right;\n",
       "    }\n",
       "</style>\n",
       "<table border=\"1\" class=\"dataframe\">\n",
       "  <thead>\n",
       "    <tr style=\"text-align: right;\">\n",
       "      <th></th>\n",
       "      <th>0.0</th>\n",
       "      <th>8.0</th>\n",
       "      <th>16.0</th>\n",
       "      <th>24.0</th>\n",
       "      <th>32.0</th>\n",
       "      <th>40.0</th>\n",
       "    </tr>\n",
       "  </thead>\n",
       "  <tbody>\n",
       "    <tr>\n",
       "      <th>(100.0, 0, 40.0)</th>\n",
       "      <td>0.000</td>\n",
       "      <td>0.000</td>\n",
       "      <td>0.000</td>\n",
       "      <td>0.000</td>\n",
       "      <td>0.000</td>\n",
       "      <td>0.000</td>\n",
       "    </tr>\n",
       "    <tr>\n",
       "      <th>(301.0, 1, 0.0)</th>\n",
       "      <td>0.000</td>\n",
       "      <td>-10000000.000</td>\n",
       "      <td>-10000000.000</td>\n",
       "      <td>-10000000.000</td>\n",
       "      <td>-10000000.000</td>\n",
       "      <td>-10000000.000</td>\n",
       "    </tr>\n",
       "    <tr>\n",
       "      <th>(299.0, 1, 0.0)</th>\n",
       "      <td>0.000</td>\n",
       "      <td>-10000000.000</td>\n",
       "      <td>-10000000.000</td>\n",
       "      <td>-10000000.000</td>\n",
       "      <td>-10000000.000</td>\n",
       "      <td>-10000000.000</td>\n",
       "    </tr>\n",
       "    <tr>\n",
       "      <th>(233.0, 1, 8.0)</th>\n",
       "      <td>0.000</td>\n",
       "      <td>0.000</td>\n",
       "      <td>-10000000.000</td>\n",
       "      <td>-10000000.000</td>\n",
       "      <td>-10000000.000</td>\n",
       "      <td>-10000000.000</td>\n",
       "    </tr>\n",
       "    <tr>\n",
       "      <th>(235.0, 1, 8.0)</th>\n",
       "      <td>0.000</td>\n",
       "      <td>0.000</td>\n",
       "      <td>-10000000.000</td>\n",
       "      <td>-10000000.000</td>\n",
       "      <td>-10000000.000</td>\n",
       "      <td>-10000000.000</td>\n",
       "    </tr>\n",
       "  </tbody>\n",
       "</table>\n",
       "</div>"
      ],
      "text/plain": [
       "                  0.000         8.000         16.000        24.000  \\\n",
       "(100.0, 0, 40.0)   0.000         0.000         0.000         0.000   \n",
       "(301.0, 1, 0.0)    0.000 -10000000.000 -10000000.000 -10000000.000   \n",
       "(299.0, 1, 0.0)    0.000 -10000000.000 -10000000.000 -10000000.000   \n",
       "(233.0, 1, 8.0)    0.000         0.000 -10000000.000 -10000000.000   \n",
       "(235.0, 1, 8.0)    0.000         0.000 -10000000.000 -10000000.000   \n",
       "\n",
       "                        32.000        40.000  \n",
       "(100.0, 0, 40.0)         0.000         0.000  \n",
       "(301.0, 1, 0.0)  -10000000.000 -10000000.000  \n",
       "(299.0, 1, 0.0)  -10000000.000 -10000000.000  \n",
       "(233.0, 1, 8.0)  -10000000.000 -10000000.000  \n",
       "(235.0, 1, 8.0)  -10000000.000 -10000000.000  "
      ]
     },
     "execution_count": 41,
     "metadata": {
      "tags": []
     },
     "output_type": "execute_result"
    }
   ],
   "source": [
    "Q_q.head()"
   ]
  },
  {
   "cell_type": "code",
   "execution_count": 56,
   "metadata": {
    "colab": {
     "base_uri": "https://localhost:8080/",
     "height": 35
    },
    "colab_type": "code",
    "id": "MxPy55qXuGpL",
    "outputId": "6df8fad0-39fb-4ee8-9ff7-aa4c44d6dfb9"
   },
   "outputs": [
    {
     "data": {
      "text/plain": [
       "97"
      ]
     },
     "execution_count": 56,
     "metadata": {
      "tags": []
     },
     "output_type": "execute_result"
    }
   ],
   "source": [
    "#Same function for starting place\n",
    "start_qu = [i for i in S_q if i[1] != 4] \n",
    "len(start_qu)"
   ]
  },
  {
   "cell_type": "code",
   "execution_count": 0,
   "metadata": {
    "colab": {},
    "colab_type": "code",
    "id": "cWReigBTuGpR"
   },
   "outputs": [],
   "source": [
    "#Feasible Actions\n",
    "P_act_qu = {}\n",
    "for i in A:\n",
    "    P_act_qu[i] = [j for j in A if i >= j]"
   ]
  },
  {
   "cell_type": "code",
   "execution_count": 29,
   "metadata": {
    "colab": {
     "base_uri": "https://localhost:8080/",
     "height": 126
    },
    "colab_type": "code",
    "id": "0FJ-h7x9uGpV",
    "outputId": "19ef2da3-db76-4fae-cf6b-8ab042e19223"
   },
   "outputs": [
    {
     "data": {
      "text/plain": [
       "{0.0: [0.0],\n",
       " 8.0: [0.0, 8.0],\n",
       " 16.0: [0.0, 8.0, 16.0],\n",
       " 24.0: [0.0, 8.0, 16.0, 24.0],\n",
       " 32.0: [0.0, 8.0, 16.0, 24.0, 32.0],\n",
       " 40.0: [0.0, 8.0, 16.0, 24.0, 32.0, 40.0]}"
      ]
     },
     "execution_count": 29,
     "metadata": {
      "tags": []
     },
     "output_type": "execute_result"
    }
   ],
   "source": [
    "#See the feasible action mapped to the key of number of share left\n",
    "P_act_qu"
   ]
  },
  {
   "cell_type": "code",
   "execution_count": 0,
   "metadata": {
    "colab": {},
    "colab_type": "code",
    "id": "nlFyNAa3uGpd"
   },
   "outputs": [],
   "source": [
    "#Running the algorithm 100000 times\n",
    "Qlearning(Q_q, start_qu, P_act_qu, Next_state_q, 100000,C_q)"
   ]
  },
  {
   "cell_type": "code",
   "execution_count": 59,
   "metadata": {
    "colab": {
     "base_uri": "https://localhost:8080/",
     "height": 108
    },
    "colab_type": "code",
    "id": "lUteqkuvuGpl",
    "outputId": "6a60b0ac-ba9e-4865-b127-1bbbd75a1b00"
   },
   "outputs": [
    {
     "data": {
      "text/plain": [
       "[(100.0, 0, 40.0),\n",
       " (139.0, 1, 32.0),\n",
       " (141.0, 1, 32.0),\n",
       " (99.0, 2, 24.0),\n",
       " (243.0, 2, 24.0)]"
      ]
     },
     "execution_count": 59,
     "metadata": {
      "tags": []
     },
     "output_type": "execute_result"
    }
   ],
   "source": [
    "#After obvserving the Q matrix, this is the optimal route, considering all possible prices at a given time and number of shares reamining.\n",
    "Optimal_q = []\n",
    "for i in S_q:\n",
    "    \n",
    "    if i[2] == 40 - i[1]*8:\n",
    "        Optimal_q.append(i)\n",
    "Optimal_q[0:5]"
   ]
  },
  {
   "cell_type": "code",
   "execution_count": 60,
   "metadata": {
    "colab": {
     "base_uri": "https://localhost:8080/",
     "height": 526
    },
    "colab_type": "code",
    "id": "ML3P9NeWuGpq",
    "outputId": "a9bdc352-53d4-4c25-ff03-5357663f8b69"
   },
   "outputs": [
    {
     "data": {
      "text/plain": [
       "(100.0, 0, 40.0)   8.000\n",
       "(139.0, 1, 32.0)   8.000\n",
       "(141.0, 1, 32.0)   8.000\n",
       "(99.0, 2, 24.0)    8.000\n",
       "(243.0, 2, 24.0)   8.000\n",
       "(139.0, 2, 24.0)   8.000\n",
       "(101.0, 2, 24.0)   8.000\n",
       "(245.0, 2, 24.0)   8.000\n",
       "(141.0, 2, 24.0)   8.000\n",
       "(139.0, 3, 16.0)   8.000\n",
       "(101.0, 3, 16.0)   8.000\n",
       "(245.0, 3, 16.0)   8.000\n",
       "(411.0, 3, 16.0)   8.000\n",
       "(141.0, 3, 16.0)   8.000\n",
       "(99.0, 3, 16.0)    8.000\n",
       "(243.0, 3, 16.0)   8.000\n",
       "(413.0, 3, 16.0)   8.000\n",
       "(413.0, 4, 8.0)    8.000\n",
       "(101.0, 4, 8.0)    8.000\n",
       "(139.0, 4, 8.0)    8.000\n",
       "(643.0, 4, 8.0)    8.000\n",
       "(141.0, 4, 8.0)    8.000\n",
       "(645.0, 4, 8.0)    8.000\n",
       "(243.0, 4, 8.0)    8.000\n",
       "(245.0, 4, 8.0)    8.000\n",
       "(411.0, 4, 8.0)    8.000\n",
       "(99.0, 4, 8.0)     8.000\n",
       "dtype: float64"
      ]
     },
     "execution_count": 60,
     "metadata": {
      "tags": []
     },
     "output_type": "execute_result"
    }
   ],
   "source": [
    "#Below shows the optimal choice at each state following the optimal route\n",
    "Q_q.loc[Optimal_q].idxmax(axis=1)\n",
    "\n"
   ]
  },
  {
   "cell_type": "markdown",
   "metadata": {
    "colab_type": "text",
    "id": "g0Dq14Pmkjtg"
   },
   "source": [
    "Again, we can see the optimal strategy is to sell __N/T = 8 shares__ per time, and again we observe that the price doesnt matter. Which makes sense as we have a linear model and the price increases permanently, so that the price at given point doesnt really matter but is the number of shares and time period that determines the optimal action"
   ]
  },
  {
   "cell_type": "code",
   "execution_count": 61,
   "metadata": {
    "colab": {
     "base_uri": "https://localhost:8080/",
     "height": 858
    },
    "colab_type": "code",
    "id": "HbGUdWEPj6DR",
    "outputId": "e705a5bb-0f33-45ce-c97c-734777b96129"
   },
   "outputs": [
    {
     "data": {
      "text/html": [
       "<div>\n",
       "<style scoped>\n",
       "    .dataframe tbody tr th:only-of-type {\n",
       "        vertical-align: middle;\n",
       "    }\n",
       "\n",
       "    .dataframe tbody tr th {\n",
       "        vertical-align: top;\n",
       "    }\n",
       "\n",
       "    .dataframe thead th {\n",
       "        text-align: right;\n",
       "    }\n",
       "</style>\n",
       "<table border=\"1\" class=\"dataframe\">\n",
       "  <thead>\n",
       "    <tr style=\"text-align: right;\">\n",
       "      <th></th>\n",
       "      <th>0.0</th>\n",
       "      <th>8.0</th>\n",
       "      <th>16.0</th>\n",
       "      <th>24.0</th>\n",
       "      <th>32.0</th>\n",
       "      <th>40.0</th>\n",
       "    </tr>\n",
       "  </thead>\n",
       "  <tbody>\n",
       "    <tr>\n",
       "      <th>(100.0, 0, 40.0)</th>\n",
       "      <td>-7254.655</td>\n",
       "      <td>-5594.076</td>\n",
       "      <td>-7261.056</td>\n",
       "      <td>-12115.727</td>\n",
       "      <td>-21737.781</td>\n",
       "      <td>-37598.508</td>\n",
       "    </tr>\n",
       "    <tr>\n",
       "      <th>(139.0, 1, 32.0)</th>\n",
       "      <td>-6137.132</td>\n",
       "      <td>-4470.873</td>\n",
       "      <td>-6137.699</td>\n",
       "      <td>-11018.869</td>\n",
       "      <td>-20619.154</td>\n",
       "      <td>-10000000.000</td>\n",
       "    </tr>\n",
       "    <tr>\n",
       "      <th>(141.0, 1, 32.0)</th>\n",
       "      <td>-6137.962</td>\n",
       "      <td>-4472.133</td>\n",
       "      <td>-6138.522</td>\n",
       "      <td>-11005.224</td>\n",
       "      <td>-20592.490</td>\n",
       "      <td>-10000000.000</td>\n",
       "    </tr>\n",
       "    <tr>\n",
       "      <th>(99.0, 2, 24.0)</th>\n",
       "      <td>-5023.494</td>\n",
       "      <td>-3354.527</td>\n",
       "      <td>-5021.433</td>\n",
       "      <td>-9893.225</td>\n",
       "      <td>-10000000.000</td>\n",
       "      <td>-10000000.000</td>\n",
       "    </tr>\n",
       "    <tr>\n",
       "      <th>(243.0, 2, 24.0)</th>\n",
       "      <td>-5023.452</td>\n",
       "      <td>-3350.878</td>\n",
       "      <td>-5032.754</td>\n",
       "      <td>-9889.255</td>\n",
       "      <td>-10000000.000</td>\n",
       "      <td>-10000000.000</td>\n",
       "    </tr>\n",
       "    <tr>\n",
       "      <th>(139.0, 2, 24.0)</th>\n",
       "      <td>-5023.121</td>\n",
       "      <td>-3351.960</td>\n",
       "      <td>-5020.957</td>\n",
       "      <td>-9887.573</td>\n",
       "      <td>-10000000.000</td>\n",
       "      <td>-10000000.000</td>\n",
       "    </tr>\n",
       "    <tr>\n",
       "      <th>(101.0, 2, 24.0)</th>\n",
       "      <td>-5023.119</td>\n",
       "      <td>-3352.928</td>\n",
       "      <td>-5019.104</td>\n",
       "      <td>-9895.229</td>\n",
       "      <td>-10000000.000</td>\n",
       "      <td>-10000000.000</td>\n",
       "    </tr>\n",
       "    <tr>\n",
       "      <th>(245.0, 2, 24.0)</th>\n",
       "      <td>-5023.168</td>\n",
       "      <td>-3350.999</td>\n",
       "      <td>-5022.882</td>\n",
       "      <td>-9894.200</td>\n",
       "      <td>-10000000.000</td>\n",
       "      <td>-10000000.000</td>\n",
       "    </tr>\n",
       "    <tr>\n",
       "      <th>(141.0, 2, 24.0)</th>\n",
       "      <td>-5023.530</td>\n",
       "      <td>-3351.588</td>\n",
       "      <td>-5026.114</td>\n",
       "      <td>-9891.061</td>\n",
       "      <td>-10000000.000</td>\n",
       "      <td>-10000000.000</td>\n",
       "    </tr>\n",
       "    <tr>\n",
       "      <th>(139.0, 3, 16.0)</th>\n",
       "      <td>-3905.431</td>\n",
       "      <td>-2231.740</td>\n",
       "      <td>-3906.470</td>\n",
       "      <td>-10000000.000</td>\n",
       "      <td>-10000000.000</td>\n",
       "      <td>-10000000.000</td>\n",
       "    </tr>\n",
       "    <tr>\n",
       "      <th>(101.0, 3, 16.0)</th>\n",
       "      <td>-3906.683</td>\n",
       "      <td>-2232.781</td>\n",
       "      <td>-3902.976</td>\n",
       "      <td>-10000000.000</td>\n",
       "      <td>-10000000.000</td>\n",
       "      <td>-10000000.000</td>\n",
       "    </tr>\n",
       "    <tr>\n",
       "      <th>(245.0, 3, 16.0)</th>\n",
       "      <td>-3905.072</td>\n",
       "      <td>-2230.561</td>\n",
       "      <td>-3906.537</td>\n",
       "      <td>-10000000.000</td>\n",
       "      <td>-10000000.000</td>\n",
       "      <td>-10000000.000</td>\n",
       "    </tr>\n",
       "    <tr>\n",
       "      <th>(411.0, 3, 16.0)</th>\n",
       "      <td>-3901.956</td>\n",
       "      <td>-2232.199</td>\n",
       "      <td>-3903.361</td>\n",
       "      <td>-10000000.000</td>\n",
       "      <td>-10000000.000</td>\n",
       "      <td>-10000000.000</td>\n",
       "    </tr>\n",
       "    <tr>\n",
       "      <th>(141.0, 3, 16.0)</th>\n",
       "      <td>-3904.549</td>\n",
       "      <td>-2231.879</td>\n",
       "      <td>-3903.991</td>\n",
       "      <td>-10000000.000</td>\n",
       "      <td>-10000000.000</td>\n",
       "      <td>-10000000.000</td>\n",
       "    </tr>\n",
       "    <tr>\n",
       "      <th>(99.0, 3, 16.0)</th>\n",
       "      <td>-3902.821</td>\n",
       "      <td>-2232.088</td>\n",
       "      <td>-3905.587</td>\n",
       "      <td>-10000000.000</td>\n",
       "      <td>-10000000.000</td>\n",
       "      <td>-10000000.000</td>\n",
       "    </tr>\n",
       "    <tr>\n",
       "      <th>(243.0, 3, 16.0)</th>\n",
       "      <td>-3902.122</td>\n",
       "      <td>-2231.061</td>\n",
       "      <td>-3903.386</td>\n",
       "      <td>-10000000.000</td>\n",
       "      <td>-10000000.000</td>\n",
       "      <td>-10000000.000</td>\n",
       "    </tr>\n",
       "    <tr>\n",
       "      <th>(413.0, 3, 16.0)</th>\n",
       "      <td>-3908.511</td>\n",
       "      <td>-2232.021</td>\n",
       "      <td>-3904.646</td>\n",
       "      <td>-10000000.000</td>\n",
       "      <td>-10000000.000</td>\n",
       "      <td>-10000000.000</td>\n",
       "    </tr>\n",
       "    <tr>\n",
       "      <th>(413.0, 4, 8.0)</th>\n",
       "      <td>-10000000.000</td>\n",
       "      <td>-1128.000</td>\n",
       "      <td>-10000000.000</td>\n",
       "      <td>-10000000.000</td>\n",
       "      <td>-10000000.000</td>\n",
       "      <td>-10000000.000</td>\n",
       "    </tr>\n",
       "    <tr>\n",
       "      <th>(101.0, 4, 8.0)</th>\n",
       "      <td>-10000000.000</td>\n",
       "      <td>-1112.000</td>\n",
       "      <td>-10000000.000</td>\n",
       "      <td>-10000000.000</td>\n",
       "      <td>-10000000.000</td>\n",
       "      <td>-10000000.000</td>\n",
       "    </tr>\n",
       "    <tr>\n",
       "      <th>(139.0, 4, 8.0)</th>\n",
       "      <td>-10000000.000</td>\n",
       "      <td>-1112.000</td>\n",
       "      <td>-10000000.000</td>\n",
       "      <td>-10000000.000</td>\n",
       "      <td>-10000000.000</td>\n",
       "      <td>-10000000.000</td>\n",
       "    </tr>\n",
       "    <tr>\n",
       "      <th>(643.0, 4, 8.0)</th>\n",
       "      <td>-10000000.000</td>\n",
       "      <td>-1128.000</td>\n",
       "      <td>-10000000.000</td>\n",
       "      <td>-10000000.000</td>\n",
       "      <td>-10000000.000</td>\n",
       "      <td>-10000000.000</td>\n",
       "    </tr>\n",
       "    <tr>\n",
       "      <th>(141.0, 4, 8.0)</th>\n",
       "      <td>-10000000.000</td>\n",
       "      <td>-1112.000</td>\n",
       "      <td>-10000000.000</td>\n",
       "      <td>-10000000.000</td>\n",
       "      <td>-10000000.000</td>\n",
       "      <td>-10000000.000</td>\n",
       "    </tr>\n",
       "    <tr>\n",
       "      <th>(645.0, 4, 8.0)</th>\n",
       "      <td>-10000000.000</td>\n",
       "      <td>-1112.000</td>\n",
       "      <td>-10000000.000</td>\n",
       "      <td>-10000000.000</td>\n",
       "      <td>-10000000.000</td>\n",
       "      <td>-10000000.000</td>\n",
       "    </tr>\n",
       "    <tr>\n",
       "      <th>(243.0, 4, 8.0)</th>\n",
       "      <td>-10000000.000</td>\n",
       "      <td>-1128.000</td>\n",
       "      <td>-10000000.000</td>\n",
       "      <td>-10000000.000</td>\n",
       "      <td>-10000000.000</td>\n",
       "      <td>-10000000.000</td>\n",
       "    </tr>\n",
       "    <tr>\n",
       "      <th>(245.0, 4, 8.0)</th>\n",
       "      <td>-10000000.000</td>\n",
       "      <td>-1112.000</td>\n",
       "      <td>-10000000.000</td>\n",
       "      <td>-10000000.000</td>\n",
       "      <td>-10000000.000</td>\n",
       "      <td>-10000000.000</td>\n",
       "    </tr>\n",
       "    <tr>\n",
       "      <th>(411.0, 4, 8.0)</th>\n",
       "      <td>-10000000.000</td>\n",
       "      <td>-1128.000</td>\n",
       "      <td>-10000000.000</td>\n",
       "      <td>-10000000.000</td>\n",
       "      <td>-10000000.000</td>\n",
       "      <td>-10000000.000</td>\n",
       "    </tr>\n",
       "    <tr>\n",
       "      <th>(99.0, 4, 8.0)</th>\n",
       "      <td>-10000000.000</td>\n",
       "      <td>-1128.000</td>\n",
       "      <td>-10000000.000</td>\n",
       "      <td>-10000000.000</td>\n",
       "      <td>-10000000.000</td>\n",
       "      <td>-10000000.000</td>\n",
       "    </tr>\n",
       "  </tbody>\n",
       "</table>\n",
       "</div>"
      ],
      "text/plain": [
       "                        0.000     8.000         16.000        24.000  \\\n",
       "(100.0, 0, 40.0)     -7254.655 -5594.076     -7261.056    -12115.727   \n",
       "(139.0, 1, 32.0)     -6137.132 -4470.873     -6137.699    -11018.869   \n",
       "(141.0, 1, 32.0)     -6137.962 -4472.133     -6138.522    -11005.224   \n",
       "(99.0, 2, 24.0)      -5023.494 -3354.527     -5021.433     -9893.225   \n",
       "(243.0, 2, 24.0)     -5023.452 -3350.878     -5032.754     -9889.255   \n",
       "(139.0, 2, 24.0)     -5023.121 -3351.960     -5020.957     -9887.573   \n",
       "(101.0, 2, 24.0)     -5023.119 -3352.928     -5019.104     -9895.229   \n",
       "(245.0, 2, 24.0)     -5023.168 -3350.999     -5022.882     -9894.200   \n",
       "(141.0, 2, 24.0)     -5023.530 -3351.588     -5026.114     -9891.061   \n",
       "(139.0, 3, 16.0)     -3905.431 -2231.740     -3906.470 -10000000.000   \n",
       "(101.0, 3, 16.0)     -3906.683 -2232.781     -3902.976 -10000000.000   \n",
       "(245.0, 3, 16.0)     -3905.072 -2230.561     -3906.537 -10000000.000   \n",
       "(411.0, 3, 16.0)     -3901.956 -2232.199     -3903.361 -10000000.000   \n",
       "(141.0, 3, 16.0)     -3904.549 -2231.879     -3903.991 -10000000.000   \n",
       "(99.0, 3, 16.0)      -3902.821 -2232.088     -3905.587 -10000000.000   \n",
       "(243.0, 3, 16.0)     -3902.122 -2231.061     -3903.386 -10000000.000   \n",
       "(413.0, 3, 16.0)     -3908.511 -2232.021     -3904.646 -10000000.000   \n",
       "(413.0, 4, 8.0)  -10000000.000 -1128.000 -10000000.000 -10000000.000   \n",
       "(101.0, 4, 8.0)  -10000000.000 -1112.000 -10000000.000 -10000000.000   \n",
       "(139.0, 4, 8.0)  -10000000.000 -1112.000 -10000000.000 -10000000.000   \n",
       "(643.0, 4, 8.0)  -10000000.000 -1128.000 -10000000.000 -10000000.000   \n",
       "(141.0, 4, 8.0)  -10000000.000 -1112.000 -10000000.000 -10000000.000   \n",
       "(645.0, 4, 8.0)  -10000000.000 -1112.000 -10000000.000 -10000000.000   \n",
       "(243.0, 4, 8.0)  -10000000.000 -1128.000 -10000000.000 -10000000.000   \n",
       "(245.0, 4, 8.0)  -10000000.000 -1112.000 -10000000.000 -10000000.000   \n",
       "(411.0, 4, 8.0)  -10000000.000 -1128.000 -10000000.000 -10000000.000   \n",
       "(99.0, 4, 8.0)   -10000000.000 -1128.000 -10000000.000 -10000000.000   \n",
       "\n",
       "                        32.000        40.000  \n",
       "(100.0, 0, 40.0)    -21737.781    -37598.508  \n",
       "(139.0, 1, 32.0)    -20619.154 -10000000.000  \n",
       "(141.0, 1, 32.0)    -20592.490 -10000000.000  \n",
       "(99.0, 2, 24.0)  -10000000.000 -10000000.000  \n",
       "(243.0, 2, 24.0) -10000000.000 -10000000.000  \n",
       "(139.0, 2, 24.0) -10000000.000 -10000000.000  \n",
       "(101.0, 2, 24.0) -10000000.000 -10000000.000  \n",
       "(245.0, 2, 24.0) -10000000.000 -10000000.000  \n",
       "(141.0, 2, 24.0) -10000000.000 -10000000.000  \n",
       "(139.0, 3, 16.0) -10000000.000 -10000000.000  \n",
       "(101.0, 3, 16.0) -10000000.000 -10000000.000  \n",
       "(245.0, 3, 16.0) -10000000.000 -10000000.000  \n",
       "(411.0, 3, 16.0) -10000000.000 -10000000.000  \n",
       "(141.0, 3, 16.0) -10000000.000 -10000000.000  \n",
       "(99.0, 3, 16.0)  -10000000.000 -10000000.000  \n",
       "(243.0, 3, 16.0) -10000000.000 -10000000.000  \n",
       "(413.0, 3, 16.0) -10000000.000 -10000000.000  \n",
       "(413.0, 4, 8.0)  -10000000.000 -10000000.000  \n",
       "(101.0, 4, 8.0)  -10000000.000 -10000000.000  \n",
       "(139.0, 4, 8.0)  -10000000.000 -10000000.000  \n",
       "(643.0, 4, 8.0)  -10000000.000 -10000000.000  \n",
       "(141.0, 4, 8.0)  -10000000.000 -10000000.000  \n",
       "(645.0, 4, 8.0)  -10000000.000 -10000000.000  \n",
       "(243.0, 4, 8.0)  -10000000.000 -10000000.000  \n",
       "(245.0, 4, 8.0)  -10000000.000 -10000000.000  \n",
       "(411.0, 4, 8.0)  -10000000.000 -10000000.000  \n",
       "(99.0, 4, 8.0)   -10000000.000 -10000000.000  "
      ]
     },
     "execution_count": 61,
     "metadata": {
      "tags": []
     },
     "output_type": "execute_result"
    }
   ],
   "source": [
    "#Below shows the row values for the optimal route\n",
    "Q_q.loc[Optimal_q]"
   ]
  },
  {
   "cell_type": "markdown",
   "metadata": {},
   "source": [
    "__Plot analysis of stock price vs action and also naive appraoch vs optimal approach__"
   ]
  },
  {
   "cell_type": "code",
   "execution_count": 138,
   "metadata": {
    "colab": {},
    "colab_type": "code",
    "id": "5WugfHnPBPuS"
   },
   "outputs": [
    {
     "data": {
      "text/plain": [
       "40"
      ]
     },
     "execution_count": 138,
     "metadata": {},
     "output_type": "execute_result"
    }
   ],
   "source": [
    "A = [0.0, 8.0, 16.0, 24.0, 32.0, 40.0]\n",
    "N"
   ]
  },
  {
   "cell_type": "code",
   "execution_count": 139,
   "metadata": {
    "colab": {},
    "colab_type": "code",
    "id": "5WugfHnPBPuS"
   },
   "outputs": [],
   "source": [
    "#Here I want to plot how stock price changes vs our action\n",
    "\n",
    "naive = [[] for i in range(100)] #This is calculating a naive approach\n",
    "for i in range(100):\n",
    "    d = (P_0, 0 ,N)\n",
    "\n",
    "    while d[1] != T-1:\n",
    "        Action = rm.choice(A)\n",
    "        if d[2] >= Action:\n",
    "            price = P_0 + R_walk()[0] + 0.5*Action*Action + Action\n",
    "            naive[i].append(price * Action)        \n",
    "            d = (price, d[1] + 1, d[2] - Action)\n",
    "    price = P_0 + R_walk()[0] + 0.5*d[1]*d[1] + d[1]\n",
    "    naive[i].append(price*d[1])\n",
    "            "
   ]
  },
  {
   "cell_type": "code",
   "execution_count": 140,
   "metadata": {
    "colab": {},
    "colab_type": "code",
    "id": "5WugfHnPBPuS"
   },
   "outputs": [
    {
     "name": "stdout",
     "output_type": "stream",
     "text": [
      "Average cost for naive appraoch: 19343.28\n"
     ]
    }
   ],
   "source": [
    "#Looking at the naive solution\n",
    "averagecost = 0\n",
    "for i in naive:\n",
    "    averagecost += sum(i)\n",
    "averagecost = averagecost/len(naive)\n",
    "print(\"Average cost for naive appraoch:\",averagecost)"
   ]
  },
  {
   "cell_type": "code",
   "execution_count": 141,
   "metadata": {
    "colab": {},
    "colab_type": "code",
    "id": "5WugfHnPBPuS"
   },
   "outputs": [],
   "source": [
    "optimal = [[] for i in range(100)]\n",
    "price_change = [0 for i in range(100)]\n",
    "for i in range(100):\n",
    "    d = (P_0, 0 ,N)\n",
    "    price_change[i] = []\n",
    "    price_change[i].append(P_0)\n",
    "    while d[1] != T-1:\n",
    "        Action = 8\n",
    "        if d[2] >= Action:\n",
    "            price = P_0 + R_walk()[0] + 0.5*Action*Action + Action\n",
    "            optimal[i].append(price * Action)\n",
    "            price_change[i].append(price)\n",
    "            d = (price, d[1] + 1, d[2] - Action)\n",
    "    price = P_0 + R_walk()[0] + Theta*d[1]\n",
    "    optimal[i].append(price*d[1])        "
   ]
  },
  {
   "cell_type": "code",
   "execution_count": 143,
   "metadata": {
    "colab": {},
    "colab_type": "code",
    "id": "5WugfHnPBPuS"
   },
   "outputs": [
    {
     "name": "stdout",
     "output_type": "stream",
     "text": [
      "Average cost for optimal appraoch: 4896.48\n"
     ]
    }
   ],
   "source": [
    "averagecost_o = 0\n",
    "for i in optimal:\n",
    "    averagecost_o += sum(i)\n",
    "averagecost_o = averagecost_o/len(optimal)\n",
    "print(\"Average cost for optimal appraoch:\",averagecost_o)"
   ]
  },
  {
   "cell_type": "markdown",
   "metadata": {},
   "source": [
    "We can see a huge decrease in cost, __4896.48 vs 19343.28__, in using our optimal solution of selling 8 shares per time step vs just choosing random action each time over the long run. thus proving our solution is a better solution than the naive appraoch for the quadrative temporary case"
   ]
  },
  {
   "cell_type": "code",
   "execution_count": 50,
   "metadata": {
    "colab": {},
    "colab_type": "code",
    "id": "06x1F6P-BPuV",
    "outputId": "f2ef6ba9-c78d-4c0c-976e-2b9ea34de96d"
   },
   "outputs": [
    {
     "data": {
      "text/plain": [
       "Text(0.5, 0, 'Time Period')"
      ]
     },
     "execution_count": 50,
     "metadata": {},
     "output_type": "execute_result"
    },
    {
     "data": {
      "image/png": "[encoded data removed]",
      "text/plain": [
       "<Figure size 432x288 with 1 Axes>"
      ]
     },
     "metadata": {
      "needs_background": "light"
     },
     "output_type": "display_data"
    }
   ],
   "source": [
    "#Below we can see some price changes through the period of time just through our action \n",
    "#of buying random sharese, since the impact is permanent we see that\n",
    "#there is no decrease in price, and it only differes in the noise\n",
    "plt.plot(price_change[0])\n",
    "plt.plot(price_change[1])\n",
    "plt.plot(price_change[2])\n",
    "plt.plot(price_change[3])\n",
    "\n",
    "plt.xticks(np.arange(0, 4+1, 1.0))\n",
    "plt.title(\"Stock Price vs Time Period\")\n",
    "plt.ylabel(\"Stock Price\")\n",
    "plt.xlabel(\"Time Period\")"
   ]
  },
  {
   "cell_type": "markdown",
   "metadata": {
    "colab_type": "text",
    "id": "D667Ka2MBPwI"
   },
   "source": [
    "We can see that there is barely a difference in the price change as the noise is the only difference."
   ]
  },
  {
   "cell_type": "markdown",
   "metadata": {
    "colab_type": "text",
    "id": "QruWj9rmuGp5"
   },
   "source": [
    "<font size = '5'> __Part 2c) Linear Transient Price Impact Model__ </font>"
   ]
  },
  {
   "cell_type": "markdown",
   "metadata": {
    "colab_type": "text",
    "id": "tuGzXEyTuGp5"
   },
   "source": [
    "The __Quadratic Temporary Price Impact Model__ assumes the relation of the following:\n",
    "    \n",
    "    Pt = P0 + SUM(S<=t) (ϵt) + SUM(s<=t) (e^-alpha*(t-s) * theta *S_s)\n",
    "\n",
    "Which means that the next price is a linear combination of the previous price and theta*(# of shares you are purchasing) + some random noise that is independent from S and P.\n",
    "\n",
    "We will be sampling ϵ from a random walk with taking value in {-1, 1} with equal probabilities , and with the other parameters (θ = 10, P0 = 100).\n",
    "\n",
    "The state, action and reward will all be changed accordingly but following the same idea\n",
    "\n",
    "I changed the starting parameter of this model for ease of explaination, as the absolute quantity of shares and \n",
    "the price doesn't matter, but the number of time periods and the action space is really the crucial thing that \n",
    "we should analyze our result upon"
   ]
  },
  {
   "cell_type": "code",
   "execution_count": 97,
   "metadata": {
    "colab": {},
    "colab_type": "code",
    "id": "6TBgWxo8uGp6"
   },
   "outputs": [],
   "source": [
    "#I want to have a little more action space to analyze how this model will behave, thus I will adjust the parameter a little here, \n",
    "#Now the number of shares is 3\n",
    "# and action can be any 0 - 3 integers\n",
    "T_e = 5 # Time periods\n",
    "N_e = 3 # Amount of shares\n",
    "beta_e = 0.25\n",
    "Theta_e = 10\n",
    "P_0_e = 100 #Initial Stock Price\n",
    "A = [0.0,1.0,2.0, 3.0]"
   ]
  },
  {
   "cell_type": "markdown",
   "metadata": {
    "colab_type": "text",
    "id": "0ZxA4muzuGp8"
   },
   "source": []
  },
  {
   "cell_type": "code",
   "execution_count": 0,
   "metadata": {
    "colab": {},
    "colab_type": "code",
    "id": "pzWAufKcuGp9"
   },
   "outputs": [],
   "source": [
    "A_e = A\n",
    "#Constructing the States\n",
    "States_e = []\n",
    "States_e.append((P_0_e*1.0, 0 ,N_e*1.0))\n",
    "for i in range(200000):\n",
    "    C_e = (P_0_e, 0 ,N_e)\n",
    "    pastaction = []\n",
    "    price_0 = P_0_e\n",
    "    Sum_e = 0\n",
    "    while C_e[1] != T_e-1:\n",
    "        Action = rm.choice(A_e)\n",
    "        if C_e[2] >= Action:\n",
    "            pastaction.append(Action)\n",
    "            Sum_e += R_walk()[0]\n",
    "            decay = 0\n",
    "            for i in range(len(pastaction)):\n",
    "                decay += round(np.exp(-1*beta_e*(C_e[1]-i))*Theta_e*pastaction[i])\n",
    "            price = price_0 + Sum_e + decay\n",
    "            C_e = (price, C_e[1] + 1, C_e[2] - Action)\n",
    "            States_e.append(C_e)\n",
    "States_e = set(States_e)\n",
    "States_e = list(States_e)\n",
    "S_e = States_e\n",
    "S_e.sort(key = lambda tup: (tup[1],tup[2]))"
   ]
  },
  {
   "cell_type": "code",
   "execution_count": 0,
   "metadata": {
    "colab": {
     "base_uri": "https://localhost:8080/",
     "height": 35
    },
    "colab_type": "code",
    "id": "0qQe5CU-uGp_",
    "outputId": "8fa89348-dca0-4301-c323-9f8bf94d6fbd"
   },
   "outputs": [
    {
     "data": {
      "text/plain": [
       "118"
      ]
     },
     "execution_count": 45,
     "metadata": {
      "tags": []
     },
     "output_type": "execute_result"
    }
   ],
   "source": [
    "#We can see the totaly number of states in this case\n",
    "len(S_e)"
   ]
  },
  {
   "cell_type": "code",
   "execution_count": 0,
   "metadata": {
    "colab": {
     "base_uri": "https://localhost:8080/",
     "height": 108
    },
    "colab_type": "code",
    "id": "xYP2WRkBuGqE",
    "outputId": "af4b959f-feb1-4967-d383-e020380ac784"
   },
   "outputs": [
    {
     "data": {
      "text/plain": [
       "[(100.0, 0, 3.0),\n",
       " (131.0, 1, 0.0),\n",
       " (129.0, 1, 0.0),\n",
       " (119.0, 1, 1.0),\n",
       " (121.0, 1, 1.0)]"
      ]
     },
     "execution_count": 781,
     "metadata": {
      "tags": []
     },
     "output_type": "execute_result"
    }
   ],
   "source": [
    "S_e[0:5]"
   ]
  },
  {
   "cell_type": "code",
   "execution_count": 0,
   "metadata": {
    "colab": {},
    "colab_type": "code",
    "id": "1LCMJJzKuGqH"
   },
   "outputs": [],
   "source": [
    "#Setting up the Q-Matrix\n",
    "row_index = {}\n",
    "col_index = {}\n",
    "for i in range(len(S_e)):\n",
    "    row_index[i] = S_e[i]\n",
    "for i in range(len(A_e)):\n",
    "    col_index[i] = A_e[i]\n",
    "    \n",
    "Q_e = np.zeros((len(S_e),len(A_e)))\n",
    "Q_e = pd.DataFrame(Q_e)\n",
    "Q_e.rename(index = row_index, inplace = True)\n",
    "Q_e.rename(columns= col_index, inplace=True)"
   ]
  },
  {
   "cell_type": "code",
   "execution_count": 0,
   "metadata": {
    "colab": {
     "base_uri": "https://localhost:8080/",
     "height": 198
    },
    "colab_type": "code",
    "id": "m5MrE2lauGqK",
    "outputId": "9c5a6e27-d640-4d16-ed7c-baaa3e638473"
   },
   "outputs": [
    {
     "data": {
      "text/html": [
       "<div>\n",
       "<style scoped>\n",
       "    .dataframe tbody tr th:only-of-type {\n",
       "        vertical-align: middle;\n",
       "    }\n",
       "\n",
       "    .dataframe tbody tr th {\n",
       "        vertical-align: top;\n",
       "    }\n",
       "\n",
       "    .dataframe thead th {\n",
       "        text-align: right;\n",
       "    }\n",
       "</style>\n",
       "<table border=\"1\" class=\"dataframe\">\n",
       "  <thead>\n",
       "    <tr style=\"text-align: right;\">\n",
       "      <th></th>\n",
       "      <th>0.0</th>\n",
       "      <th>1.0</th>\n",
       "      <th>2.0</th>\n",
       "      <th>3.0</th>\n",
       "    </tr>\n",
       "  </thead>\n",
       "  <tbody>\n",
       "    <tr>\n",
       "      <th>(100.0, 0, 3.0)</th>\n",
       "      <td>0.000</td>\n",
       "      <td>0.000</td>\n",
       "      <td>0.000</td>\n",
       "      <td>0.000</td>\n",
       "    </tr>\n",
       "    <tr>\n",
       "      <th>(131.0, 1, 0.0)</th>\n",
       "      <td>0.000</td>\n",
       "      <td>0.000</td>\n",
       "      <td>0.000</td>\n",
       "      <td>0.000</td>\n",
       "    </tr>\n",
       "    <tr>\n",
       "      <th>(129.0, 1, 0.0)</th>\n",
       "      <td>0.000</td>\n",
       "      <td>0.000</td>\n",
       "      <td>0.000</td>\n",
       "      <td>0.000</td>\n",
       "    </tr>\n",
       "    <tr>\n",
       "      <th>(119.0, 1, 1.0)</th>\n",
       "      <td>0.000</td>\n",
       "      <td>0.000</td>\n",
       "      <td>0.000</td>\n",
       "      <td>0.000</td>\n",
       "    </tr>\n",
       "    <tr>\n",
       "      <th>(121.0, 1, 1.0)</th>\n",
       "      <td>0.000</td>\n",
       "      <td>0.000</td>\n",
       "      <td>0.000</td>\n",
       "      <td>0.000</td>\n",
       "    </tr>\n",
       "  </tbody>\n",
       "</table>\n",
       "</div>"
      ],
      "text/plain": [
       "                 0.000  1.000  2.000  3.000\n",
       "(100.0, 0, 3.0)  0.000  0.000  0.000  0.000\n",
       "(131.0, 1, 0.0)  0.000  0.000  0.000  0.000\n",
       "(129.0, 1, 0.0)  0.000  0.000  0.000  0.000\n",
       "(119.0, 1, 1.0)  0.000  0.000  0.000  0.000\n",
       "(121.0, 1, 1.0)  0.000  0.000  0.000  0.000"
      ]
     },
     "execution_count": 784,
     "metadata": {
      "tags": []
     },
     "output_type": "execute_result"
    }
   ],
   "source": [
    "Q_e[0:5]"
   ]
  },
  {
   "cell_type": "code",
   "execution_count": 0,
   "metadata": {
    "colab": {},
    "colab_type": "code",
    "id": "o7XeYAKruGqO"
   },
   "outputs": [],
   "source": [
    "C_e = Q_e.copy()"
   ]
  },
  {
   "cell_type": "code",
   "execution_count": 0,
   "metadata": {
    "colab": {},
    "colab_type": "code",
    "id": "uc08QPFxuGqQ"
   },
   "outputs": [],
   "source": [
    "#setting up the inital reward for terminal states\n",
    "End_state_e = []\n",
    "Other_state_e = []\n",
    "for i in S_e:\n",
    "    if i[1] == T_e - 1:\n",
    "        End_state_e.append(i)\n",
    "    else:\n",
    "        Other_state_e.append(i)"
   ]
  },
  {
   "cell_type": "code",
   "execution_count": 0,
   "metadata": {
    "colab": {
     "base_uri": "https://localhost:8080/",
     "height": 35
    },
    "colab_type": "code",
    "id": "n0ii_vX2uGqT",
    "outputId": "b2a1f9b4-8b57-406d-d1de-c6976d8d2c27"
   },
   "outputs": [
    {
     "data": {
      "text/plain": [
       "61"
      ]
     },
     "execution_count": 788,
     "metadata": {
      "tags": []
     },
     "output_type": "execute_result"
    }
   ],
   "source": [
    "len(Other_state_e)"
   ]
  },
  {
   "cell_type": "code",
   "execution_count": 0,
   "metadata": {
    "colab": {},
    "colab_type": "code",
    "id": "Z3hkatOcuGqX"
   },
   "outputs": [],
   "source": [
    "#notice I didn't add the noise term in calculating the final reward, as e has expectation 0, so in the long term the \n",
    "#noise term should cancel out\n",
    "for state in End_state_e:\n",
    "    for action in A_e:\n",
    "        if state[2] != action:\n",
    "            Q_e.at[state,action] = -10000000\n",
    "\n",
    "for state in Other_state_e:\n",
    "    for action in A_e:\n",
    "        if state[2] < action:\n",
    "            Q_e.at[state,action] = -10000000\n"
   ]
  },
  {
   "cell_type": "code",
   "execution_count": 0,
   "metadata": {
    "colab": {
     "base_uri": "https://localhost:8080/",
     "height": 35
    },
    "colab_type": "code",
    "id": "YYL7H00buGqa",
    "outputId": "0a1df32a-a18f-4101-c21a-ff25f4a8e487"
   },
   "outputs": [
    {
     "data": {
      "text/plain": [
       "61"
      ]
     },
     "execution_count": 790,
     "metadata": {
      "tags": []
     },
     "output_type": "execute_result"
    }
   ],
   "source": [
    "#Similar setup\n",
    "start_e = [i for i in S_e if i[1] != 4] \n",
    "len(start_e)\n"
   ]
  },
  {
   "cell_type": "code",
   "execution_count": 0,
   "metadata": {
    "colab": {},
    "colab_type": "code",
    "id": "NliO2hWVuGqc"
   },
   "outputs": [],
   "source": [
    "#Feasible action\n",
    "P_act_e = {}\n",
    "for i in A_e:\n",
    "    P_act_e[i] = [j for j in A_e if i >= j]\n",
    "\n",
    "    "
   ]
  },
  {
   "cell_type": "code",
   "execution_count": 0,
   "metadata": {
    "colab": {
     "base_uri": "https://localhost:8080/",
     "height": 35
    },
    "colab_type": "code",
    "id": "pCr9m8g0uGqe",
    "outputId": "df34049d-c309-4a98-cbac-03ca56ede5d0"
   },
   "outputs": [
    {
     "data": {
      "text/plain": [
       "{0.0: [0.0], 1.0: [0.0, 1.0], 2.0: [0.0, 1.0, 2.0], 3.0: [0.0, 1.0, 2.0, 3.0]}"
      ]
     },
     "execution_count": 792,
     "metadata": {
      "tags": []
     },
     "output_type": "execute_result"
    }
   ],
   "source": [
    "P_act_e"
   ]
  },
  {
   "cell_type": "code",
   "execution_count": 0,
   "metadata": {
    "colab": {
     "base_uri": "https://localhost:8080/",
     "height": 198
    },
    "colab_type": "code",
    "id": "MLHh5VuluGqh",
    "outputId": "d16c6d1d-76f9-4f2a-9822-0d635fdb1281"
   },
   "outputs": [
    {
     "data": {
      "text/html": [
       "<div>\n",
       "<style scoped>\n",
       "    .dataframe tbody tr th:only-of-type {\n",
       "        vertical-align: middle;\n",
       "    }\n",
       "\n",
       "    .dataframe tbody tr th {\n",
       "        vertical-align: top;\n",
       "    }\n",
       "\n",
       "    .dataframe thead th {\n",
       "        text-align: right;\n",
       "    }\n",
       "</style>\n",
       "<table border=\"1\" class=\"dataframe\">\n",
       "  <thead>\n",
       "    <tr style=\"text-align: right;\">\n",
       "      <th></th>\n",
       "      <th>0.0</th>\n",
       "      <th>1.0</th>\n",
       "      <th>2.0</th>\n",
       "      <th>3.0</th>\n",
       "      <th>4.0</th>\n",
       "      <th>5.0</th>\n",
       "      <th>6.0</th>\n",
       "    </tr>\n",
       "  </thead>\n",
       "  <tbody>\n",
       "    <tr>\n",
       "      <th>(100.0, 4, 6.0)</th>\n",
       "      <td>-10000000.000</td>\n",
       "      <td>-10000000.000</td>\n",
       "      <td>-10000000.000</td>\n",
       "      <td>-10000000.000</td>\n",
       "      <td>-10000000.000</td>\n",
       "      <td>-10000000.000</td>\n",
       "      <td>0.000</td>\n",
       "    </tr>\n",
       "    <tr>\n",
       "      <th>(96.0, 4, 6.0)</th>\n",
       "      <td>-10000000.000</td>\n",
       "      <td>-10000000.000</td>\n",
       "      <td>-10000000.000</td>\n",
       "      <td>-10000000.000</td>\n",
       "      <td>-10000000.000</td>\n",
       "      <td>-10000000.000</td>\n",
       "      <td>0.000</td>\n",
       "    </tr>\n",
       "    <tr>\n",
       "      <th>(102.0, 4, 6.0)</th>\n",
       "      <td>-10000000.000</td>\n",
       "      <td>-10000000.000</td>\n",
       "      <td>-10000000.000</td>\n",
       "      <td>-10000000.000</td>\n",
       "      <td>-10000000.000</td>\n",
       "      <td>-10000000.000</td>\n",
       "      <td>0.000</td>\n",
       "    </tr>\n",
       "    <tr>\n",
       "      <th>(98.0, 4, 6.0)</th>\n",
       "      <td>-10000000.000</td>\n",
       "      <td>-10000000.000</td>\n",
       "      <td>-10000000.000</td>\n",
       "      <td>-10000000.000</td>\n",
       "      <td>-10000000.000</td>\n",
       "      <td>-10000000.000</td>\n",
       "      <td>0.000</td>\n",
       "    </tr>\n",
       "    <tr>\n",
       "      <th>(104.0, 4, 6.0)</th>\n",
       "      <td>-10000000.000</td>\n",
       "      <td>-10000000.000</td>\n",
       "      <td>-10000000.000</td>\n",
       "      <td>-10000000.000</td>\n",
       "      <td>-10000000.000</td>\n",
       "      <td>-10000000.000</td>\n",
       "      <td>0.000</td>\n",
       "    </tr>\n",
       "  </tbody>\n",
       "</table>\n",
       "</div>"
      ],
      "text/plain": [
       "                        0.000         1.000         2.000         3.000  \\\n",
       "(100.0, 4, 6.0) -10000000.000 -10000000.000 -10000000.000 -10000000.000   \n",
       "(96.0, 4, 6.0)  -10000000.000 -10000000.000 -10000000.000 -10000000.000   \n",
       "(102.0, 4, 6.0) -10000000.000 -10000000.000 -10000000.000 -10000000.000   \n",
       "(98.0, 4, 6.0)  -10000000.000 -10000000.000 -10000000.000 -10000000.000   \n",
       "(104.0, 4, 6.0) -10000000.000 -10000000.000 -10000000.000 -10000000.000   \n",
       "\n",
       "                        4.000         5.000  6.000  \n",
       "(100.0, 4, 6.0) -10000000.000 -10000000.000  0.000  \n",
       "(96.0, 4, 6.0)  -10000000.000 -10000000.000  0.000  \n",
       "(102.0, 4, 6.0) -10000000.000 -10000000.000  0.000  \n",
       "(98.0, 4, 6.0)  -10000000.000 -10000000.000  0.000  \n",
       "(104.0, 4, 6.0) -10000000.000 -10000000.000  0.000  "
      ]
     },
     "execution_count": 648,
     "metadata": {
      "tags": []
     },
     "output_type": "execute_result"
    }
   ],
   "source": [
    "Q_e.tail()"
   ]
  },
  {
   "cell_type": "code",
   "execution_count": 0,
   "metadata": {
    "colab": {},
    "colab_type": "code",
    "id": "EO4eXE8PuGql"
   },
   "outputs": [],
   "source": [
    "def Q_learning_e(num):\n",
    "  iters = num\n",
    "  for i in range(iters):\n",
    "    Current_state = S_e[0]\n",
    "    price = Current_state[0]\n",
    "    Sum_e = 0\n",
    "    pastaction = []\n",
    "    while Current_state[1] != T_e-1:\n",
    "        M = P_act_e[Current_state[2]]\n",
    "        Action = Next_Action(M,np.array(Q_e.loc[[Current_state]])[0][0:len(M)])[0]\n",
    "        \n",
    "        pastaction.append(Action)\n",
    "        Sum_e += R_walk()[0]\n",
    "        decay = 0\n",
    "        for i in range(len(pastaction)):\n",
    "            decay += round(np.exp(-1*beta_e*(Current_state[1]-i))*Theta_e*pastaction[i])\n",
    "            \n",
    "        price = price_0 + Sum_e + decay\n",
    "        N_state = (price, Current_state[1] + 1, Current_state[2] - Action)\n",
    "        \n",
    "        reward = -price*Action\n",
    "        \n",
    "        alpha = 1/(1+  C_e.at[Current_state,Action]/20)\n",
    "        C_e.at[Current_state,Action] += 1\n",
    "        \n",
    "        Q_e.at[Current_state,Action] = (1-alpha)*Q_e.at[Current_state,Action] + \\\n",
    "        alpha*(reward + max(np.array(Q_e.loc[[N_state]])[0]))\n",
    "            \n",
    "        Current_state = N_state\n",
    "        \n",
    "    pastaction.append(Current_state[2])\n",
    "    Sum_e += R_walk()[0]\n",
    "    decay = 0\n",
    "    for i in range(len(pastaction)):\n",
    "        decay += round(np.exp(-1*beta_e*(Current_state[1]-i))*Theta_e*pastaction[i])\n",
    "    price = price_0 + Sum_e + decay\n",
    "    reward = -price* Current_state[2]\n",
    "    Q_e.at[Current_state,Current_state[2]] = reward\n",
    "    "
   ]
  },
  {
   "cell_type": "code",
   "execution_count": 0,
   "metadata": {
    "colab": {},
    "colab_type": "code",
    "id": "mSKDu_tfQabg"
   },
   "outputs": [],
   "source": [
    "#Q-learning algorithm, for 20000 repeatedly\n",
    "Q_learning_e(20000)"
   ]
  },
  {
   "cell_type": "code",
   "execution_count": 0,
   "metadata": {
    "colab": {
     "base_uri": "https://localhost:8080/",
     "height": 1907
    },
    "colab_type": "code",
    "id": "3H_B97ZyuGqo",
    "outputId": "3d09741c-a063-460c-c81b-d900166ca400"
   },
   "outputs": [
    {
     "data": {
      "text/html": [
       "<div>\n",
       "<style scoped>\n",
       "    .dataframe tbody tr th:only-of-type {\n",
       "        vertical-align: middle;\n",
       "    }\n",
       "\n",
       "    .dataframe tbody tr th {\n",
       "        vertical-align: top;\n",
       "    }\n",
       "\n",
       "    .dataframe thead th {\n",
       "        text-align: right;\n",
       "    }\n",
       "</style>\n",
       "<table border=\"1\" class=\"dataframe\">\n",
       "  <thead>\n",
       "    <tr style=\"text-align: right;\">\n",
       "      <th></th>\n",
       "      <th>0.0</th>\n",
       "      <th>1.0</th>\n",
       "      <th>2.0</th>\n",
       "      <th>3.0</th>\n",
       "    </tr>\n",
       "  </thead>\n",
       "  <tbody>\n",
       "    <tr>\n",
       "      <th>(100.0, 0, 3.0)</th>\n",
       "      <td>-349.096</td>\n",
       "      <td>-345.839</td>\n",
       "      <td>-356.708</td>\n",
       "      <td>-389.969</td>\n",
       "    </tr>\n",
       "    <tr>\n",
       "      <th>(131.0, 1, 0.0)</th>\n",
       "      <td>0.000</td>\n",
       "      <td>-10000000.000</td>\n",
       "      <td>-10000000.000</td>\n",
       "      <td>-10000000.000</td>\n",
       "    </tr>\n",
       "    <tr>\n",
       "      <th>(129.0, 1, 0.0)</th>\n",
       "      <td>0.000</td>\n",
       "      <td>-10000000.000</td>\n",
       "      <td>-10000000.000</td>\n",
       "      <td>-10000000.000</td>\n",
       "    </tr>\n",
       "    <tr>\n",
       "      <th>(119.0, 1, 1.0)</th>\n",
       "      <td>-115.934</td>\n",
       "      <td>-125.084</td>\n",
       "      <td>-10000000.000</td>\n",
       "      <td>-10000000.000</td>\n",
       "    </tr>\n",
       "    <tr>\n",
       "      <th>(121.0, 1, 1.0)</th>\n",
       "      <td>-117.719</td>\n",
       "      <td>-127.032</td>\n",
       "      <td>-10000000.000</td>\n",
       "      <td>-10000000.000</td>\n",
       "    </tr>\n",
       "    <tr>\n",
       "      <th>(109.0, 1, 2.0)</th>\n",
       "      <td>-234.132</td>\n",
       "      <td>-234.652</td>\n",
       "      <td>-254.180</td>\n",
       "      <td>-10000000.000</td>\n",
       "    </tr>\n",
       "    <tr>\n",
       "      <th>(111.0, 1, 2.0)</th>\n",
       "      <td>-237.437</td>\n",
       "      <td>-238.144</td>\n",
       "      <td>-258.124</td>\n",
       "      <td>-10000000.000</td>\n",
       "    </tr>\n",
       "    <tr>\n",
       "      <th>(101.0, 1, 3.0)</th>\n",
       "      <td>-354.800</td>\n",
       "      <td>-351.615</td>\n",
       "      <td>-362.373</td>\n",
       "      <td>-392.977</td>\n",
       "    </tr>\n",
       "    <tr>\n",
       "      <th>(99.0, 1, 3.0)</th>\n",
       "      <td>-349.650</td>\n",
       "      <td>-346.086</td>\n",
       "      <td>-357.338</td>\n",
       "      <td>-386.807</td>\n",
       "    </tr>\n",
       "    <tr>\n",
       "      <th>(125.0, 2, 0.0)</th>\n",
       "      <td>0.000</td>\n",
       "      <td>-10000000.000</td>\n",
       "      <td>-10000000.000</td>\n",
       "      <td>-10000000.000</td>\n",
       "    </tr>\n",
       "    <tr>\n",
       "      <th>(130.0, 2, 0.0)</th>\n",
       "      <td>0.000</td>\n",
       "      <td>-10000000.000</td>\n",
       "      <td>-10000000.000</td>\n",
       "      <td>-10000000.000</td>\n",
       "    </tr>\n",
       "    <tr>\n",
       "      <th>(132.0, 2, 0.0)</th>\n",
       "      <td>0.000</td>\n",
       "      <td>-10000000.000</td>\n",
       "      <td>-10000000.000</td>\n",
       "      <td>-10000000.000</td>\n",
       "    </tr>\n",
       "    <tr>\n",
       "      <th>(124.0, 2, 0.0)</th>\n",
       "      <td>0.000</td>\n",
       "      <td>-10000000.000</td>\n",
       "      <td>-10000000.000</td>\n",
       "      <td>-10000000.000</td>\n",
       "    </tr>\n",
       "    <tr>\n",
       "      <th>(121.0, 2, 0.0)</th>\n",
       "      <td>0.000</td>\n",
       "      <td>-10000000.000</td>\n",
       "      <td>-10000000.000</td>\n",
       "      <td>-10000000.000</td>\n",
       "    </tr>\n",
       "    <tr>\n",
       "      <th>(123.0, 2, 0.0)</th>\n",
       "      <td>0.000</td>\n",
       "      <td>-10000000.000</td>\n",
       "      <td>-10000000.000</td>\n",
       "      <td>-10000000.000</td>\n",
       "    </tr>\n",
       "    <tr>\n",
       "      <th>(128.0, 2, 0.0)</th>\n",
       "      <td>0.000</td>\n",
       "      <td>-10000000.000</td>\n",
       "      <td>-10000000.000</td>\n",
       "      <td>-10000000.000</td>\n",
       "    </tr>\n",
       "    <tr>\n",
       "      <th>(126.0, 2, 0.0)</th>\n",
       "      <td>0.000</td>\n",
       "      <td>-10000000.000</td>\n",
       "      <td>-10000000.000</td>\n",
       "      <td>-10000000.000</td>\n",
       "    </tr>\n",
       "    <tr>\n",
       "      <th>(122.0, 2, 1.0)</th>\n",
       "      <td>-120.801</td>\n",
       "      <td>-128.059</td>\n",
       "      <td>-10000000.000</td>\n",
       "      <td>-10000000.000</td>\n",
       "    </tr>\n",
       "    <tr>\n",
       "      <th>(118.0, 2, 1.0)</th>\n",
       "      <td>-118.519</td>\n",
       "      <td>-123.979</td>\n",
       "      <td>-10000000.000</td>\n",
       "      <td>-10000000.000</td>\n",
       "    </tr>\n",
       "    <tr>\n",
       "      <th>(120.0, 2, 1.0)</th>\n",
       "      <td>-119.802</td>\n",
       "      <td>-125.927</td>\n",
       "      <td>-10000000.000</td>\n",
       "      <td>-10000000.000</td>\n",
       "    </tr>\n",
       "    <tr>\n",
       "      <th>(114.0, 2, 1.0)</th>\n",
       "      <td>-114.983</td>\n",
       "      <td>-119.868</td>\n",
       "      <td>-10000000.000</td>\n",
       "      <td>-10000000.000</td>\n",
       "    </tr>\n",
       "    <tr>\n",
       "      <th>(116.0, 2, 1.0)</th>\n",
       "      <td>-116.824</td>\n",
       "      <td>-121.885</td>\n",
       "      <td>-10000000.000</td>\n",
       "      <td>-10000000.000</td>\n",
       "    </tr>\n",
       "    <tr>\n",
       "      <th>(106.0, 2, 2.0)</th>\n",
       "      <td>-233.587</td>\n",
       "      <td>-232.198</td>\n",
       "      <td>-247.900</td>\n",
       "      <td>-10000000.000</td>\n",
       "    </tr>\n",
       "    <tr>\n",
       "      <th>(108.0, 2, 2.0)</th>\n",
       "      <td>-235.950</td>\n",
       "      <td>-235.884</td>\n",
       "      <td>-252.019</td>\n",
       "      <td>-10000000.000</td>\n",
       "    </tr>\n",
       "    <tr>\n",
       "      <th>(110.0, 2, 2.0)</th>\n",
       "      <td>-238.935</td>\n",
       "      <td>-238.846</td>\n",
       "      <td>-255.852</td>\n",
       "      <td>-10000000.000</td>\n",
       "    </tr>\n",
       "    <tr>\n",
       "      <th>(112.0, 2, 2.0)</th>\n",
       "      <td>-242.848</td>\n",
       "      <td>-242.427</td>\n",
       "      <td>-260.263</td>\n",
       "      <td>-10000000.000</td>\n",
       "    </tr>\n",
       "    <tr>\n",
       "      <th>(98.0, 2, 3.0)</th>\n",
       "      <td>-360.613</td>\n",
       "      <td>-347.130</td>\n",
       "      <td>-356.793</td>\n",
       "      <td>-384.648</td>\n",
       "    </tr>\n",
       "    <tr>\n",
       "      <th>(100.0, 2, 3.0)</th>\n",
       "      <td>-366.464</td>\n",
       "      <td>-352.089</td>\n",
       "      <td>-362.300</td>\n",
       "      <td>-389.783</td>\n",
       "    </tr>\n",
       "    <tr>\n",
       "      <th>(102.0, 2, 3.0)</th>\n",
       "      <td>-370.701</td>\n",
       "      <td>-358.177</td>\n",
       "      <td>-368.261</td>\n",
       "      <td>-396.402</td>\n",
       "    </tr>\n",
       "    <tr>\n",
       "      <th>(129.0, 3, 0.0)</th>\n",
       "      <td>0.000</td>\n",
       "      <td>-10000000.000</td>\n",
       "      <td>-10000000.000</td>\n",
       "      <td>-10000000.000</td>\n",
       "    </tr>\n",
       "    <tr>\n",
       "      <th>...</th>\n",
       "      <td>...</td>\n",
       "      <td>...</td>\n",
       "      <td>...</td>\n",
       "      <td>...</td>\n",
       "    </tr>\n",
       "    <tr>\n",
       "      <th>(118.0, 4, 1.0)</th>\n",
       "      <td>-10000000.000</td>\n",
       "      <td>-123.000</td>\n",
       "      <td>-10000000.000</td>\n",
       "      <td>-10000000.000</td>\n",
       "    </tr>\n",
       "    <tr>\n",
       "      <th>(120.0, 4, 1.0)</th>\n",
       "      <td>-10000000.000</td>\n",
       "      <td>-125.000</td>\n",
       "      <td>-10000000.000</td>\n",
       "      <td>-10000000.000</td>\n",
       "    </tr>\n",
       "    <tr>\n",
       "      <th>(111.0, 4, 1.0)</th>\n",
       "      <td>-10000000.000</td>\n",
       "      <td>-119.000</td>\n",
       "      <td>-10000000.000</td>\n",
       "      <td>-10000000.000</td>\n",
       "    </tr>\n",
       "    <tr>\n",
       "      <th>(122.0, 4, 1.0)</th>\n",
       "      <td>-10000000.000</td>\n",
       "      <td>-127.000</td>\n",
       "      <td>-10000000.000</td>\n",
       "      <td>-10000000.000</td>\n",
       "    </tr>\n",
       "    <tr>\n",
       "      <th>(119.0, 4, 1.0)</th>\n",
       "      <td>-10000000.000</td>\n",
       "      <td>-125.000</td>\n",
       "      <td>-10000000.000</td>\n",
       "      <td>-10000000.000</td>\n",
       "    </tr>\n",
       "    <tr>\n",
       "      <th>(107.0, 4, 1.0)</th>\n",
       "      <td>-10000000.000</td>\n",
       "      <td>-114.000</td>\n",
       "      <td>-10000000.000</td>\n",
       "      <td>-10000000.000</td>\n",
       "    </tr>\n",
       "    <tr>\n",
       "      <th>(109.0, 4, 1.0)</th>\n",
       "      <td>-10000000.000</td>\n",
       "      <td>-118.000</td>\n",
       "      <td>-10000000.000</td>\n",
       "      <td>-10000000.000</td>\n",
       "    </tr>\n",
       "    <tr>\n",
       "      <th>(115.0, 4, 1.0)</th>\n",
       "      <td>-10000000.000</td>\n",
       "      <td>-121.000</td>\n",
       "      <td>-10000000.000</td>\n",
       "      <td>-10000000.000</td>\n",
       "    </tr>\n",
       "    <tr>\n",
       "      <th>(108.0, 4, 1.0)</th>\n",
       "      <td>-10000000.000</td>\n",
       "      <td>-116.000</td>\n",
       "      <td>-10000000.000</td>\n",
       "      <td>-10000000.000</td>\n",
       "    </tr>\n",
       "    <tr>\n",
       "      <th>(117.0, 4, 1.0)</th>\n",
       "      <td>-10000000.000</td>\n",
       "      <td>-123.000</td>\n",
       "      <td>-10000000.000</td>\n",
       "      <td>-10000000.000</td>\n",
       "    </tr>\n",
       "    <tr>\n",
       "      <th>(105.0, 4, 1.0)</th>\n",
       "      <td>-10000000.000</td>\n",
       "      <td>-114.000</td>\n",
       "      <td>-10000000.000</td>\n",
       "      <td>-10000000.000</td>\n",
       "    </tr>\n",
       "    <tr>\n",
       "      <th>(116.0, 4, 1.0)</th>\n",
       "      <td>-10000000.000</td>\n",
       "      <td>-123.000</td>\n",
       "      <td>-10000000.000</td>\n",
       "      <td>-10000000.000</td>\n",
       "    </tr>\n",
       "    <tr>\n",
       "      <th>(113.0, 4, 1.0)</th>\n",
       "      <td>-10000000.000</td>\n",
       "      <td>-120.000</td>\n",
       "      <td>-10000000.000</td>\n",
       "      <td>-10000000.000</td>\n",
       "    </tr>\n",
       "    <tr>\n",
       "      <th>(107.0, 4, 2.0)</th>\n",
       "      <td>-10000000.000</td>\n",
       "      <td>-10000000.000</td>\n",
       "      <td>-250.000</td>\n",
       "      <td>-10000000.000</td>\n",
       "    </tr>\n",
       "    <tr>\n",
       "      <th>(109.0, 4, 2.0)</th>\n",
       "      <td>-10000000.000</td>\n",
       "      <td>-10000000.000</td>\n",
       "      <td>-258.000</td>\n",
       "      <td>-10000000.000</td>\n",
       "    </tr>\n",
       "    <tr>\n",
       "      <th>(108.0, 4, 2.0)</th>\n",
       "      <td>-10000000.000</td>\n",
       "      <td>-10000000.000</td>\n",
       "      <td>-252.000</td>\n",
       "      <td>-10000000.000</td>\n",
       "    </tr>\n",
       "    <tr>\n",
       "      <th>(105.0, 4, 2.0)</th>\n",
       "      <td>-10000000.000</td>\n",
       "      <td>-10000000.000</td>\n",
       "      <td>-250.000</td>\n",
       "      <td>-10000000.000</td>\n",
       "    </tr>\n",
       "    <tr>\n",
       "      <th>(104.0, 4, 2.0)</th>\n",
       "      <td>-10000000.000</td>\n",
       "      <td>-10000000.000</td>\n",
       "      <td>-244.000</td>\n",
       "      <td>-10000000.000</td>\n",
       "    </tr>\n",
       "    <tr>\n",
       "      <th>(102.0, 4, 2.0)</th>\n",
       "      <td>-10000000.000</td>\n",
       "      <td>-10000000.000</td>\n",
       "      <td>-244.000</td>\n",
       "      <td>-10000000.000</td>\n",
       "    </tr>\n",
       "    <tr>\n",
       "      <th>(106.0, 4, 2.0)</th>\n",
       "      <td>-10000000.000</td>\n",
       "      <td>-10000000.000</td>\n",
       "      <td>-248.000</td>\n",
       "      <td>-10000000.000</td>\n",
       "    </tr>\n",
       "    <tr>\n",
       "      <th>(112.0, 4, 2.0)</th>\n",
       "      <td>-10000000.000</td>\n",
       "      <td>-10000000.000</td>\n",
       "      <td>-262.000</td>\n",
       "      <td>-10000000.000</td>\n",
       "    </tr>\n",
       "    <tr>\n",
       "      <th>(110.0, 4, 2.0)</th>\n",
       "      <td>-10000000.000</td>\n",
       "      <td>-10000000.000</td>\n",
       "      <td>-254.000</td>\n",
       "      <td>-10000000.000</td>\n",
       "    </tr>\n",
       "    <tr>\n",
       "      <th>(103.0, 4, 2.0)</th>\n",
       "      <td>-10000000.000</td>\n",
       "      <td>-10000000.000</td>\n",
       "      <td>-246.000</td>\n",
       "      <td>-10000000.000</td>\n",
       "    </tr>\n",
       "    <tr>\n",
       "      <th>(114.0, 4, 2.0)</th>\n",
       "      <td>-10000000.000</td>\n",
       "      <td>-10000000.000</td>\n",
       "      <td>-262.000</td>\n",
       "      <td>-10000000.000</td>\n",
       "    </tr>\n",
       "    <tr>\n",
       "      <th>(101.0, 4, 2.0)</th>\n",
       "      <td>-10000000.000</td>\n",
       "      <td>-10000000.000</td>\n",
       "      <td>-242.000</td>\n",
       "      <td>-10000000.000</td>\n",
       "    </tr>\n",
       "    <tr>\n",
       "      <th>(100.0, 4, 3.0)</th>\n",
       "      <td>-10000000.000</td>\n",
       "      <td>-10000000.000</td>\n",
       "      <td>-10000000.000</td>\n",
       "      <td>-387.000</td>\n",
       "    </tr>\n",
       "    <tr>\n",
       "      <th>(96.0, 4, 3.0)</th>\n",
       "      <td>-10000000.000</td>\n",
       "      <td>-10000000.000</td>\n",
       "      <td>-10000000.000</td>\n",
       "      <td>-375.000</td>\n",
       "    </tr>\n",
       "    <tr>\n",
       "      <th>(98.0, 4, 3.0)</th>\n",
       "      <td>-10000000.000</td>\n",
       "      <td>-10000000.000</td>\n",
       "      <td>-10000000.000</td>\n",
       "      <td>-381.000</td>\n",
       "    </tr>\n",
       "    <tr>\n",
       "      <th>(104.0, 4, 3.0)</th>\n",
       "      <td>-10000000.000</td>\n",
       "      <td>-10000000.000</td>\n",
       "      <td>-10000000.000</td>\n",
       "      <td>-405.000</td>\n",
       "    </tr>\n",
       "    <tr>\n",
       "      <th>(102.0, 4, 3.0)</th>\n",
       "      <td>-10000000.000</td>\n",
       "      <td>-10000000.000</td>\n",
       "      <td>-10000000.000</td>\n",
       "      <td>-399.000</td>\n",
       "    </tr>\n",
       "  </tbody>\n",
       "</table>\n",
       "<p>118 rows × 4 columns</p>\n",
       "</div>"
      ],
      "text/plain": [
       "                        0.000         1.000         2.000         3.000\n",
       "(100.0, 0, 3.0)      -349.096      -345.839      -356.708      -389.969\n",
       "(131.0, 1, 0.0)         0.000 -10000000.000 -10000000.000 -10000000.000\n",
       "(129.0, 1, 0.0)         0.000 -10000000.000 -10000000.000 -10000000.000\n",
       "(119.0, 1, 1.0)      -115.934      -125.084 -10000000.000 -10000000.000\n",
       "(121.0, 1, 1.0)      -117.719      -127.032 -10000000.000 -10000000.000\n",
       "(109.0, 1, 2.0)      -234.132      -234.652      -254.180 -10000000.000\n",
       "(111.0, 1, 2.0)      -237.437      -238.144      -258.124 -10000000.000\n",
       "(101.0, 1, 3.0)      -354.800      -351.615      -362.373      -392.977\n",
       "(99.0, 1, 3.0)       -349.650      -346.086      -357.338      -386.807\n",
       "(125.0, 2, 0.0)         0.000 -10000000.000 -10000000.000 -10000000.000\n",
       "(130.0, 2, 0.0)         0.000 -10000000.000 -10000000.000 -10000000.000\n",
       "(132.0, 2, 0.0)         0.000 -10000000.000 -10000000.000 -10000000.000\n",
       "(124.0, 2, 0.0)         0.000 -10000000.000 -10000000.000 -10000000.000\n",
       "(121.0, 2, 0.0)         0.000 -10000000.000 -10000000.000 -10000000.000\n",
       "(123.0, 2, 0.0)         0.000 -10000000.000 -10000000.000 -10000000.000\n",
       "(128.0, 2, 0.0)         0.000 -10000000.000 -10000000.000 -10000000.000\n",
       "(126.0, 2, 0.0)         0.000 -10000000.000 -10000000.000 -10000000.000\n",
       "(122.0, 2, 1.0)      -120.801      -128.059 -10000000.000 -10000000.000\n",
       "(118.0, 2, 1.0)      -118.519      -123.979 -10000000.000 -10000000.000\n",
       "(120.0, 2, 1.0)      -119.802      -125.927 -10000000.000 -10000000.000\n",
       "(114.0, 2, 1.0)      -114.983      -119.868 -10000000.000 -10000000.000\n",
       "(116.0, 2, 1.0)      -116.824      -121.885 -10000000.000 -10000000.000\n",
       "(106.0, 2, 2.0)      -233.587      -232.198      -247.900 -10000000.000\n",
       "(108.0, 2, 2.0)      -235.950      -235.884      -252.019 -10000000.000\n",
       "(110.0, 2, 2.0)      -238.935      -238.846      -255.852 -10000000.000\n",
       "(112.0, 2, 2.0)      -242.848      -242.427      -260.263 -10000000.000\n",
       "(98.0, 2, 3.0)       -360.613      -347.130      -356.793      -384.648\n",
       "(100.0, 2, 3.0)      -366.464      -352.089      -362.300      -389.783\n",
       "(102.0, 2, 3.0)      -370.701      -358.177      -368.261      -396.402\n",
       "(129.0, 3, 0.0)         0.000 -10000000.000 -10000000.000 -10000000.000\n",
       "...                       ...           ...           ...           ...\n",
       "(118.0, 4, 1.0) -10000000.000      -123.000 -10000000.000 -10000000.000\n",
       "(120.0, 4, 1.0) -10000000.000      -125.000 -10000000.000 -10000000.000\n",
       "(111.0, 4, 1.0) -10000000.000      -119.000 -10000000.000 -10000000.000\n",
       "(122.0, 4, 1.0) -10000000.000      -127.000 -10000000.000 -10000000.000\n",
       "(119.0, 4, 1.0) -10000000.000      -125.000 -10000000.000 -10000000.000\n",
       "(107.0, 4, 1.0) -10000000.000      -114.000 -10000000.000 -10000000.000\n",
       "(109.0, 4, 1.0) -10000000.000      -118.000 -10000000.000 -10000000.000\n",
       "(115.0, 4, 1.0) -10000000.000      -121.000 -10000000.000 -10000000.000\n",
       "(108.0, 4, 1.0) -10000000.000      -116.000 -10000000.000 -10000000.000\n",
       "(117.0, 4, 1.0) -10000000.000      -123.000 -10000000.000 -10000000.000\n",
       "(105.0, 4, 1.0) -10000000.000      -114.000 -10000000.000 -10000000.000\n",
       "(116.0, 4, 1.0) -10000000.000      -123.000 -10000000.000 -10000000.000\n",
       "(113.0, 4, 1.0) -10000000.000      -120.000 -10000000.000 -10000000.000\n",
       "(107.0, 4, 2.0) -10000000.000 -10000000.000      -250.000 -10000000.000\n",
       "(109.0, 4, 2.0) -10000000.000 -10000000.000      -258.000 -10000000.000\n",
       "(108.0, 4, 2.0) -10000000.000 -10000000.000      -252.000 -10000000.000\n",
       "(105.0, 4, 2.0) -10000000.000 -10000000.000      -250.000 -10000000.000\n",
       "(104.0, 4, 2.0) -10000000.000 -10000000.000      -244.000 -10000000.000\n",
       "(102.0, 4, 2.0) -10000000.000 -10000000.000      -244.000 -10000000.000\n",
       "(106.0, 4, 2.0) -10000000.000 -10000000.000      -248.000 -10000000.000\n",
       "(112.0, 4, 2.0) -10000000.000 -10000000.000      -262.000 -10000000.000\n",
       "(110.0, 4, 2.0) -10000000.000 -10000000.000      -254.000 -10000000.000\n",
       "(103.0, 4, 2.0) -10000000.000 -10000000.000      -246.000 -10000000.000\n",
       "(114.0, 4, 2.0) -10000000.000 -10000000.000      -262.000 -10000000.000\n",
       "(101.0, 4, 2.0) -10000000.000 -10000000.000      -242.000 -10000000.000\n",
       "(100.0, 4, 3.0) -10000000.000 -10000000.000 -10000000.000      -387.000\n",
       "(96.0, 4, 3.0)  -10000000.000 -10000000.000 -10000000.000      -375.000\n",
       "(98.0, 4, 3.0)  -10000000.000 -10000000.000 -10000000.000      -381.000\n",
       "(104.0, 4, 3.0) -10000000.000 -10000000.000 -10000000.000      -405.000\n",
       "(102.0, 4, 3.0) -10000000.000 -10000000.000 -10000000.000      -399.000\n",
       "\n",
       "[118 rows x 4 columns]"
      ]
     },
     "execution_count": 806,
     "metadata": {
      "tags": []
     },
     "output_type": "execute_result"
    }
   ],
   "source": [
    "Q_e"
   ]
  },
  {
   "cell_type": "code",
   "execution_count": 0,
   "metadata": {
    "colab": {
     "base_uri": "https://localhost:8080/",
     "height": 54
    },
    "colab_type": "code",
    "id": "NQ8k69GV6Yvb",
    "outputId": "5b02a1c4-b0d9-421b-80bf-d1dd1b198b0c"
   },
   "outputs": [
    {
     "data": {
      "text/plain": [
       "(100.0, 0, 3.0)   1.000\n",
       "dtype: float64"
      ]
     },
     "execution_count": 807,
     "metadata": {
      "tags": []
     },
     "output_type": "execute_result"
    }
   ],
   "source": [
    "#NOw we can see the optimal route, following the start,\n",
    "Result = [i for i in S_e if i[1]== 0]\n",
    "Q_e.loc[Result].idxmax(axis=1)"
   ]
  },
  {
   "cell_type": "code",
   "execution_count": 0,
   "metadata": {
    "colab": {
     "base_uri": "https://localhost:8080/",
     "height": 72
    },
    "colab_type": "code",
    "id": "eQ2dZ8Pb6IS9",
    "outputId": "1558ef98-979f-44da-c321-0f0c5a15e5a7"
   },
   "outputs": [
    {
     "data": {
      "text/plain": [
       "(109.0, 1, 2.0)   0.000\n",
       "(111.0, 1, 2.0)   0.000\n",
       "dtype: float64"
      ]
     },
     "execution_count": 808,
     "metadata": {
      "tags": []
     },
     "output_type": "execute_result"
    }
   ],
   "source": [
    "#We sold 1 share last period so we check on period 1, 2 share\n",
    "Result = [i for i in S_e if ((i[1]== 1) & (i[2] == 2.0)) ]\n",
    "Q_e.loc[Result].idxmax(axis=1)"
   ]
  },
  {
   "cell_type": "code",
   "execution_count": 0,
   "metadata": {
    "colab": {
     "base_uri": "https://localhost:8080/",
     "height": 108
    },
    "colab_type": "code",
    "id": "eqtByrF86U-C",
    "outputId": "88115282-9cf4-4162-98e4-ba2ea84ea251"
   },
   "outputs": [
    {
     "data": {
      "text/plain": [
       "(106.0, 2, 2.0)   1.000\n",
       "(108.0, 2, 2.0)   1.000\n",
       "(110.0, 2, 2.0)   1.000\n",
       "(112.0, 2, 2.0)   1.000\n",
       "dtype: float64"
      ]
     },
     "execution_count": 809,
     "metadata": {
      "tags": []
     },
     "output_type": "execute_result"
    }
   ],
   "source": [
    "#we didint sell any last period we check 2,2\n",
    "Result = [i for i in S_e if ((i[1]== 2) & (i[2] == 2.0))]\n",
    "Q_e.loc[Result].idxmax(axis=1)"
   ]
  },
  {
   "cell_type": "code",
   "execution_count": 0,
   "metadata": {
    "colab": {
     "base_uri": "https://localhost:8080/",
     "height": 181
    },
    "colab_type": "code",
    "id": "9FTDEA3Z6dhH",
    "outputId": "f4e5fc84-9eba-42cd-bfbd-a092381ac647"
   },
   "outputs": [
    {
     "data": {
      "text/plain": [
       "(117.0, 3, 1.0)   0.000\n",
       "(119.0, 3, 1.0)   0.000\n",
       "(113.0, 3, 1.0)   0.000\n",
       "(115.0, 3, 1.0)   0.000\n",
       "(121.0, 3, 1.0)   0.000\n",
       "(123.0, 3, 1.0)   0.000\n",
       "(109.0, 3, 1.0)   0.000\n",
       "(111.0, 3, 1.0)   0.000\n",
       "dtype: float64"
      ]
     },
     "execution_count": 810,
     "metadata": {
      "tags": []
     },
     "output_type": "execute_result"
    }
   ],
   "source": [
    "#We sold 1 share last period so we check 3,1\n",
    "Result = [i for i in S_e if ((i[1]== 3) & (i[2] == 1.0))]\n",
    "Q_e.loc[Result].idxmax(axis=1)"
   ]
  },
  {
   "cell_type": "code",
   "execution_count": 0,
   "metadata": {
    "colab": {
     "base_uri": "https://localhost:8080/",
     "height": 345
    },
    "colab_type": "code",
    "id": "QYuSk3anAWg5",
    "outputId": "170f5fff-b4d7-4258-cb17-447739ecd18b"
   },
   "outputs": [
    {
     "data": {
      "text/plain": [
       "(110.0, 4, 1.0)   1.000\n",
       "(124.0, 4, 1.0)   1.000\n",
       "(112.0, 4, 1.0)   1.000\n",
       "(114.0, 4, 1.0)   1.000\n",
       "(118.0, 4, 1.0)   1.000\n",
       "(120.0, 4, 1.0)   1.000\n",
       "(111.0, 4, 1.0)   1.000\n",
       "(122.0, 4, 1.0)   1.000\n",
       "(119.0, 4, 1.0)   1.000\n",
       "(107.0, 4, 1.0)   1.000\n",
       "(109.0, 4, 1.0)   1.000\n",
       "(115.0, 4, 1.0)   1.000\n",
       "(108.0, 4, 1.0)   1.000\n",
       "(117.0, 4, 1.0)   1.000\n",
       "(105.0, 4, 1.0)   1.000\n",
       "(116.0, 4, 1.0)   1.000\n",
       "(113.0, 4, 1.0)   1.000\n",
       "dtype: float64"
      ]
     },
     "execution_count": 811,
     "metadata": {
      "tags": []
     },
     "output_type": "execute_result"
    }
   ],
   "source": [
    "#We didint sell any last period so we check 4,1\n",
    "Result = [i for i in S_e if ((i[1]== 4) & (i[2] == 1.0))]\n",
    "Q_e.loc[Result].idxmax(axis=1)"
   ]
  },
  {
   "cell_type": "markdown",
   "metadata": {
    "colab_type": "text",
    "id": "Sqnq4U6rNeLK"
   },
   "source": [
    "We can see from the above example that the optimal strategy for 3 shares in 5 periods is __1, 0, 1, 0, 1.__\n",
    "\n",
    "\n",
    "\n"
   ]
  },
  {
   "cell_type": "markdown",
   "metadata": {
    "colab_type": "text",
    "id": "8MX7ICCbVfoR"
   },
   "source": [
    "__Now I will try to train the transient model again with another set of parameters for another example. __"
   ]
  },
  {
   "cell_type": "code",
   "execution_count": 0,
   "metadata": {
    "colab": {},
    "colab_type": "code",
    "id": "tJP9yvqLO7MJ"
   },
   "outputs": [],
   "source": [
    "#Saving the Q_matrix\n",
    "Q_e_3share = Q_e.copy()\n"
   ]
  },
  {
   "cell_type": "code",
   "execution_count": 0,
   "metadata": {
    "colab": {},
    "colab_type": "code",
    "id": "J-g0pGFPVd94"
   },
   "outputs": [],
   "source": [
    "#I want to have a little more action space to analyze how this model will behave, thus I will adjust the parameter a little here, Now the number of shares i 6 \n",
    "# and action can be any 0 - 6 integers\n",
    "T_e = 5 # Time periods\n",
    "N_e = 6 # Amount of shares\n",
    "beta_e = 0.25\n",
    "Theta_e = 10\n",
    "P_0_e = 100 #Initial Stock Price\n",
    "A = [0.0,1.0,2.0, 3.0 , 4.0, 5.0, 6.0]"
   ]
  },
  {
   "cell_type": "markdown",
   "metadata": {
    "colab_type": "text",
    "id": "Rdx4hZLfVd9_"
   },
   "source": []
  },
  {
   "cell_type": "code",
   "execution_count": 0,
   "metadata": {
    "colab": {},
    "colab_type": "code",
    "id": "EIcVWJw1Vd9_"
   },
   "outputs": [],
   "source": [
    "A_e = A\n",
    "#Constructing the States\n",
    "States_e = []\n",
    "States_e.append((P_0_e*1.0, 0 ,N_e*1.0))\n",
    "for i in range(200000):\n",
    "    C_e = (P_0_e, 0 ,N_e)\n",
    "    pastaction = []\n",
    "    price_0 = P_0_e\n",
    "    Sum_e = 0\n",
    "    while C_e[1] != T_e-1:\n",
    "        Action = rm.choice(A_e)\n",
    "        if C_e[2] >= Action:\n",
    "            pastaction.append(Action)\n",
    "            Sum_e += R_walk()[0]\n",
    "            decay = 0\n",
    "            for i in range(len(pastaction)):\n",
    "                decay += round(np.exp(-1*beta_e*(C_e[1]-i))*Theta_e*pastaction[i])\n",
    "            price = price_0 + Sum_e + decay\n",
    "            C_e = (price, C_e[1] + 1, C_e[2] - Action)\n",
    "            States_e.append(C_e)\n",
    "States_e = set(States_e)\n",
    "States_e = list(States_e)\n",
    "S_e = States_e\n",
    "S_e.sort(key = lambda tup: (tup[1],tup[2]))"
   ]
  },
  {
   "cell_type": "code",
   "execution_count": 0,
   "metadata": {
    "colab": {
     "base_uri": "https://localhost:8080/",
     "height": 35
    },
    "colab_type": "code",
    "id": "J5Udqrx7Vd-B",
    "outputId": "7c4fbc7a-0c85-4d02-d5ad-0a3d26f7fb50"
   },
   "outputs": [
    {
     "data": {
      "text/plain": [
       "319"
      ]
     },
     "execution_count": 815,
     "metadata": {
      "tags": []
     },
     "output_type": "execute_result"
    }
   ],
   "source": [
    "len(S_e)"
   ]
  },
  {
   "cell_type": "code",
   "execution_count": 0,
   "metadata": {
    "colab": {
     "base_uri": "https://localhost:8080/",
     "height": 108
    },
    "colab_type": "code",
    "id": "YunX1V-iVd-F",
    "outputId": "7335e058-c226-41dd-aa67-c1b52c9f0760"
   },
   "outputs": [
    {
     "data": {
      "text/plain": [
       "[(100.0, 0, 6.0),\n",
       " (159.0, 1, 0.0),\n",
       " (161.0, 1, 0.0),\n",
       " (151.0, 1, 1.0),\n",
       " (149.0, 1, 1.0)]"
      ]
     },
     "execution_count": 816,
     "metadata": {
      "tags": []
     },
     "output_type": "execute_result"
    }
   ],
   "source": [
    "S_e[0:5]"
   ]
  },
  {
   "cell_type": "code",
   "execution_count": 0,
   "metadata": {
    "colab": {},
    "colab_type": "code",
    "id": "XTt2tjCQVd-K"
   },
   "outputs": [],
   "source": [
    "#Setting up the Q-Matrix\n",
    "row_index = {}\n",
    "col_index = {}\n",
    "for i in range(len(S_e)):\n",
    "    row_index[i] = S_e[i]\n",
    "for i in range(len(A_e)):\n",
    "    col_index[i] = A_e[i]\n",
    "    \n",
    "Q_e = np.zeros((len(S_e),len(A_e)))\n",
    "Q_e = pd.DataFrame(Q_e)\n",
    "Q_e.rename(index = row_index, inplace = True)\n",
    "Q_e.rename(columns= col_index, inplace=True)"
   ]
  },
  {
   "cell_type": "code",
   "execution_count": 0,
   "metadata": {
    "colab": {
     "base_uri": "https://localhost:8080/",
     "height": 198
    },
    "colab_type": "code",
    "id": "71QCoklAVd-M",
    "outputId": "aa18436d-4965-482f-f059-fd11c3c29e31"
   },
   "outputs": [
    {
     "data": {
      "text/html": [
       "<div>\n",
       "<style scoped>\n",
       "    .dataframe tbody tr th:only-of-type {\n",
       "        vertical-align: middle;\n",
       "    }\n",
       "\n",
       "    .dataframe tbody tr th {\n",
       "        vertical-align: top;\n",
       "    }\n",
       "\n",
       "    .dataframe thead th {\n",
       "        text-align: right;\n",
       "    }\n",
       "</style>\n",
       "<table border=\"1\" class=\"dataframe\">\n",
       "  <thead>\n",
       "    <tr style=\"text-align: right;\">\n",
       "      <th></th>\n",
       "      <th>0.0</th>\n",
       "      <th>1.0</th>\n",
       "      <th>2.0</th>\n",
       "      <th>3.0</th>\n",
       "      <th>4.0</th>\n",
       "      <th>5.0</th>\n",
       "      <th>6.0</th>\n",
       "    </tr>\n",
       "  </thead>\n",
       "  <tbody>\n",
       "    <tr>\n",
       "      <th>(100.0, 0, 6.0)</th>\n",
       "      <td>0.000</td>\n",
       "      <td>0.000</td>\n",
       "      <td>0.000</td>\n",
       "      <td>0.000</td>\n",
       "      <td>0.000</td>\n",
       "      <td>0.000</td>\n",
       "      <td>0.000</td>\n",
       "    </tr>\n",
       "    <tr>\n",
       "      <th>(159.0, 1, 0.0)</th>\n",
       "      <td>0.000</td>\n",
       "      <td>0.000</td>\n",
       "      <td>0.000</td>\n",
       "      <td>0.000</td>\n",
       "      <td>0.000</td>\n",
       "      <td>0.000</td>\n",
       "      <td>0.000</td>\n",
       "    </tr>\n",
       "    <tr>\n",
       "      <th>(161.0, 1, 0.0)</th>\n",
       "      <td>0.000</td>\n",
       "      <td>0.000</td>\n",
       "      <td>0.000</td>\n",
       "      <td>0.000</td>\n",
       "      <td>0.000</td>\n",
       "      <td>0.000</td>\n",
       "      <td>0.000</td>\n",
       "    </tr>\n",
       "    <tr>\n",
       "      <th>(151.0, 1, 1.0)</th>\n",
       "      <td>0.000</td>\n",
       "      <td>0.000</td>\n",
       "      <td>0.000</td>\n",
       "      <td>0.000</td>\n",
       "      <td>0.000</td>\n",
       "      <td>0.000</td>\n",
       "      <td>0.000</td>\n",
       "    </tr>\n",
       "    <tr>\n",
       "      <th>(149.0, 1, 1.0)</th>\n",
       "      <td>0.000</td>\n",
       "      <td>0.000</td>\n",
       "      <td>0.000</td>\n",
       "      <td>0.000</td>\n",
       "      <td>0.000</td>\n",
       "      <td>0.000</td>\n",
       "      <td>0.000</td>\n",
       "    </tr>\n",
       "  </tbody>\n",
       "</table>\n",
       "</div>"
      ],
      "text/plain": [
       "                 0.000  1.000  2.000  3.000  4.000  5.000  6.000\n",
       "(100.0, 0, 6.0)  0.000  0.000  0.000  0.000  0.000  0.000  0.000\n",
       "(159.0, 1, 0.0)  0.000  0.000  0.000  0.000  0.000  0.000  0.000\n",
       "(161.0, 1, 0.0)  0.000  0.000  0.000  0.000  0.000  0.000  0.000\n",
       "(151.0, 1, 1.0)  0.000  0.000  0.000  0.000  0.000  0.000  0.000\n",
       "(149.0, 1, 1.0)  0.000  0.000  0.000  0.000  0.000  0.000  0.000"
      ]
     },
     "execution_count": 818,
     "metadata": {
      "tags": []
     },
     "output_type": "execute_result"
    }
   ],
   "source": [
    "Q_e[0:5]"
   ]
  },
  {
   "cell_type": "code",
   "execution_count": 0,
   "metadata": {
    "colab": {},
    "colab_type": "code",
    "id": "Rhgs6VT0Vd-R"
   },
   "outputs": [],
   "source": [
    "C_e = Q_e.copy()"
   ]
  },
  {
   "cell_type": "code",
   "execution_count": 0,
   "metadata": {
    "colab": {},
    "colab_type": "code",
    "id": "aY3yunqDVd-T"
   },
   "outputs": [],
   "source": [
    "#setting up the inital reward for terminal states\n",
    "End_state_e = []\n",
    "Other_state_e = []\n",
    "for i in S_e:\n",
    "    if i[1] == T_e - 1:\n",
    "        End_state_e.append(i)\n",
    "    else:\n",
    "        Other_state_e.append(i)"
   ]
  },
  {
   "cell_type": "code",
   "execution_count": 0,
   "metadata": {
    "colab": {
     "base_uri": "https://localhost:8080/",
     "height": 35
    },
    "colab_type": "code",
    "id": "TPKHf8r1Vd-X",
    "outputId": "6d07cd0a-9624-4667-a959-80540bb36c30"
   },
   "outputs": [
    {
     "data": {
      "text/plain": [
       "163"
      ]
     },
     "execution_count": 821,
     "metadata": {
      "tags": []
     },
     "output_type": "execute_result"
    }
   ],
   "source": [
    "len(Other_state_e)"
   ]
  },
  {
   "cell_type": "code",
   "execution_count": 0,
   "metadata": {
    "colab": {},
    "colab_type": "code",
    "id": "Fc93yM1lVd-d"
   },
   "outputs": [],
   "source": [
    "#notice I didn't add the noise term in calculating the final reward, as e has expectation 0, so in the long term the \n",
    "#noise term should cancel out\n",
    "for state in End_state_e:\n",
    "    for action in A_e:\n",
    "        if state[2] != action:\n",
    "            Q_e.at[state,action] = -10000000\n",
    "\n",
    "for state in Other_state_e:\n",
    "    for action in A_e:\n",
    "        if state[2] < action:\n",
    "            Q_e.at[state,action] = -10000000\n"
   ]
  },
  {
   "cell_type": "code",
   "execution_count": 0,
   "metadata": {
    "colab": {
     "base_uri": "https://localhost:8080/",
     "height": 35
    },
    "colab_type": "code",
    "id": "8S_tWSOMVd-g",
    "outputId": "019e329e-93c4-4575-f57d-300c2145f8a9"
   },
   "outputs": [
    {
     "data": {
      "text/plain": [
       "163"
      ]
     },
     "execution_count": 823,
     "metadata": {
      "tags": []
     },
     "output_type": "execute_result"
    }
   ],
   "source": [
    "start_e = [i for i in S_e if i[1] != 4] \n",
    "len(start_e)\n"
   ]
  },
  {
   "cell_type": "code",
   "execution_count": 0,
   "metadata": {
    "colab": {},
    "colab_type": "code",
    "id": "LHDIkmgqVd-v"
   },
   "outputs": [],
   "source": [
    "P_act_e = {}\n",
    "for i in A_e:\n",
    "    P_act_e[i] = [j for j in A_e if i >= j]\n",
    "\n",
    "    "
   ]
  },
  {
   "cell_type": "code",
   "execution_count": 0,
   "metadata": {
    "colab": {
     "base_uri": "https://localhost:8080/",
     "height": 145
    },
    "colab_type": "code",
    "id": "ug9e8lkbVd-0",
    "outputId": "4f4d7395-4cb6-4113-8b36-9d98a3c13ea1"
   },
   "outputs": [
    {
     "data": {
      "text/plain": [
       "{0.0: [0.0],\n",
       " 1.0: [0.0, 1.0],\n",
       " 2.0: [0.0, 1.0, 2.0],\n",
       " 3.0: [0.0, 1.0, 2.0, 3.0],\n",
       " 4.0: [0.0, 1.0, 2.0, 3.0, 4.0],\n",
       " 5.0: [0.0, 1.0, 2.0, 3.0, 4.0, 5.0],\n",
       " 6.0: [0.0, 1.0, 2.0, 3.0, 4.0, 5.0, 6.0]}"
      ]
     },
     "execution_count": 825,
     "metadata": {
      "tags": []
     },
     "output_type": "execute_result"
    }
   ],
   "source": [
    "P_act_e"
   ]
  },
  {
   "cell_type": "code",
   "execution_count": 0,
   "metadata": {
    "colab": {
     "base_uri": "https://localhost:8080/",
     "height": 198
    },
    "colab_type": "code",
    "id": "fFdiuGtNVd_D",
    "outputId": "e0c2e8d6-a1da-4ed2-bfd6-2cdef962c7bc"
   },
   "outputs": [
    {
     "data": {
      "text/html": [
       "<div>\n",
       "<style scoped>\n",
       "    .dataframe tbody tr th:only-of-type {\n",
       "        vertical-align: middle;\n",
       "    }\n",
       "\n",
       "    .dataframe tbody tr th {\n",
       "        vertical-align: top;\n",
       "    }\n",
       "\n",
       "    .dataframe thead th {\n",
       "        text-align: right;\n",
       "    }\n",
       "</style>\n",
       "<table border=\"1\" class=\"dataframe\">\n",
       "  <thead>\n",
       "    <tr style=\"text-align: right;\">\n",
       "      <th></th>\n",
       "      <th>0.0</th>\n",
       "      <th>1.0</th>\n",
       "      <th>2.0</th>\n",
       "      <th>3.0</th>\n",
       "      <th>4.0</th>\n",
       "      <th>5.0</th>\n",
       "      <th>6.0</th>\n",
       "    </tr>\n",
       "  </thead>\n",
       "  <tbody>\n",
       "    <tr>\n",
       "      <th>(100.0, 4, 6.0)</th>\n",
       "      <td>-10000000.000</td>\n",
       "      <td>-10000000.000</td>\n",
       "      <td>-10000000.000</td>\n",
       "      <td>-10000000.000</td>\n",
       "      <td>-10000000.000</td>\n",
       "      <td>-10000000.000</td>\n",
       "      <td>0.000</td>\n",
       "    </tr>\n",
       "    <tr>\n",
       "      <th>(96.0, 4, 6.0)</th>\n",
       "      <td>-10000000.000</td>\n",
       "      <td>-10000000.000</td>\n",
       "      <td>-10000000.000</td>\n",
       "      <td>-10000000.000</td>\n",
       "      <td>-10000000.000</td>\n",
       "      <td>-10000000.000</td>\n",
       "      <td>0.000</td>\n",
       "    </tr>\n",
       "    <tr>\n",
       "      <th>(102.0, 4, 6.0)</th>\n",
       "      <td>-10000000.000</td>\n",
       "      <td>-10000000.000</td>\n",
       "      <td>-10000000.000</td>\n",
       "      <td>-10000000.000</td>\n",
       "      <td>-10000000.000</td>\n",
       "      <td>-10000000.000</td>\n",
       "      <td>0.000</td>\n",
       "    </tr>\n",
       "    <tr>\n",
       "      <th>(98.0, 4, 6.0)</th>\n",
       "      <td>-10000000.000</td>\n",
       "      <td>-10000000.000</td>\n",
       "      <td>-10000000.000</td>\n",
       "      <td>-10000000.000</td>\n",
       "      <td>-10000000.000</td>\n",
       "      <td>-10000000.000</td>\n",
       "      <td>0.000</td>\n",
       "    </tr>\n",
       "    <tr>\n",
       "      <th>(104.0, 4, 6.0)</th>\n",
       "      <td>-10000000.000</td>\n",
       "      <td>-10000000.000</td>\n",
       "      <td>-10000000.000</td>\n",
       "      <td>-10000000.000</td>\n",
       "      <td>-10000000.000</td>\n",
       "      <td>-10000000.000</td>\n",
       "      <td>0.000</td>\n",
       "    </tr>\n",
       "  </tbody>\n",
       "</table>\n",
       "</div>"
      ],
      "text/plain": [
       "                        0.000         1.000         2.000         3.000  \\\n",
       "(100.0, 4, 6.0) -10000000.000 -10000000.000 -10000000.000 -10000000.000   \n",
       "(96.0, 4, 6.0)  -10000000.000 -10000000.000 -10000000.000 -10000000.000   \n",
       "(102.0, 4, 6.0) -10000000.000 -10000000.000 -10000000.000 -10000000.000   \n",
       "(98.0, 4, 6.0)  -10000000.000 -10000000.000 -10000000.000 -10000000.000   \n",
       "(104.0, 4, 6.0) -10000000.000 -10000000.000 -10000000.000 -10000000.000   \n",
       "\n",
       "                        4.000         5.000  6.000  \n",
       "(100.0, 4, 6.0) -10000000.000 -10000000.000  0.000  \n",
       "(96.0, 4, 6.0)  -10000000.000 -10000000.000  0.000  \n",
       "(102.0, 4, 6.0) -10000000.000 -10000000.000  0.000  \n",
       "(98.0, 4, 6.0)  -10000000.000 -10000000.000  0.000  \n",
       "(104.0, 4, 6.0) -10000000.000 -10000000.000  0.000  "
      ]
     },
     "execution_count": 826,
     "metadata": {
      "tags": []
     },
     "output_type": "execute_result"
    }
   ],
   "source": [
    "Q_e.tail()"
   ]
  },
  {
   "cell_type": "code",
   "execution_count": 0,
   "metadata": {
    "colab": {},
    "colab_type": "code",
    "id": "FNzPWvMBVtQb"
   },
   "outputs": [],
   "source": [
    "#Qlearning for 50000 times, repeatedly\n",
    "Q_learning_e(50000)\n"
   ]
  },
  {
   "cell_type": "code",
   "execution_count": 0,
   "metadata": {
    "colab": {
     "base_uri": "https://localhost:8080/",
     "height": 54
    },
    "colab_type": "code",
    "id": "uVW6PLQqXeqn",
    "outputId": "8f8df94c-f513-46d4-a6c9-54c1bf138f2f"
   },
   "outputs": [
    {
     "data": {
      "text/plain": [
       "(100.0, 0, 6.0)   2.000\n",
       "dtype: float64"
      ]
     },
     "execution_count": 833,
     "metadata": {
      "tags": []
     },
     "output_type": "execute_result"
    }
   ],
   "source": [
    "#Again, checking the optimal route.\n",
    "Result = [i for i in S_e if i[1]== 0]\n",
    "Q_e.loc[Result].idxmax(axis=1)"
   ]
  },
  {
   "cell_type": "code",
   "execution_count": 0,
   "metadata": {
    "colab": {
     "base_uri": "https://localhost:8080/",
     "height": 72
    },
    "colab_type": "code",
    "id": "Cps2yCThXiaY",
    "outputId": "c783411f-e9dc-44cc-dc42-9f0374cce635"
   },
   "outputs": [
    {
     "data": {
      "text/plain": [
       "(119.0, 1, 4.0)   1.000\n",
       "(121.0, 1, 4.0)   1.000\n",
       "dtype: float64"
      ]
     },
     "execution_count": 834,
     "metadata": {
      "tags": []
     },
     "output_type": "execute_result"
    }
   ],
   "source": [
    "#Sold 2 last period\n",
    "Result = [i for i in S_e if ((i[1]== 1) & (i[2] == 4.0))]\n",
    "Q_e.loc[Result].idxmax(axis=1)"
   ]
  },
  {
   "cell_type": "code",
   "execution_count": 0,
   "metadata": {
    "colab": {
     "base_uri": "https://localhost:8080/",
     "height": 181
    },
    "colab_type": "code",
    "id": "BSMFajhLXmM7",
    "outputId": "1b78bdce-e362-4c6f-b363-20ae2fad7c7d"
   },
   "outputs": [
    {
     "data": {
      "text/plain": [
       "(124.0, 2, 3.0)   1.000\n",
       "(123.0, 2, 3.0)   1.000\n",
       "(121.0, 2, 3.0)   1.000\n",
       "(128.0, 2, 3.0)   1.000\n",
       "(126.0, 2, 3.0)   1.000\n",
       "(125.0, 2, 3.0)   1.000\n",
       "(130.0, 2, 3.0)   1.000\n",
       "(132.0, 2, 3.0)   1.000\n",
       "dtype: float64"
      ]
     },
     "execution_count": 835,
     "metadata": {
      "tags": []
     },
     "output_type": "execute_result"
    }
   ],
   "source": [
    "#Sold 1 last period\n",
    "Result = [i for i in S_e if ((i[1]== 2) & (i[2] == 3.0))]\n",
    "Q_e.loc[Result].idxmax(axis=1)"
   ]
  },
  {
   "cell_type": "code",
   "execution_count": 0,
   "metadata": {
    "colab": {
     "base_uri": "https://localhost:8080/",
     "height": 363
    },
    "colab_type": "code",
    "id": "57S2IR9ZXoA6",
    "outputId": "d99994f9-c400-4e9a-b35a-ef6e7a05cf66"
   },
   "outputs": [
    {
     "data": {
      "text/plain": [
       "(129.0, 3, 2.0)   1.000\n",
       "(131.0, 3, 2.0)   1.000\n",
       "(128.0, 3, 2.0)   1.000\n",
       "(137.0, 3, 2.0)   1.000\n",
       "(139.0, 3, 2.0)   1.000\n",
       "(136.0, 3, 2.0)   1.000\n",
       "(126.0, 3, 2.0)   1.000\n",
       "(121.0, 3, 2.0)   1.000\n",
       "(123.0, 3, 2.0)   1.000\n",
       "(133.0, 3, 2.0)   1.000\n",
       "(135.0, 3, 2.0)   1.000\n",
       "(132.0, 3, 2.0)   1.000\n",
       "(130.0, 3, 2.0)   1.000\n",
       "(141.0, 3, 2.0)   1.000\n",
       "(143.0, 3, 2.0)   1.000\n",
       "(125.0, 3, 2.0)   1.000\n",
       "(127.0, 3, 2.0)   1.000\n",
       "(134.0, 3, 2.0)   1.000\n",
       "dtype: float64"
      ]
     },
     "execution_count": 836,
     "metadata": {
      "tags": []
     },
     "output_type": "execute_result"
    }
   ],
   "source": [
    "#Sold 1 last period\n",
    "Result = [i for i in S_e if ((i[1]== 3) & (i[2] == 2.0))]\n",
    "Q_e.loc[Result].idxmax(axis=1)"
   ]
  },
  {
   "cell_type": "code",
   "execution_count": 0,
   "metadata": {
    "colab": {
     "base_uri": "https://localhost:8080/",
     "height": 126
    },
    "colab_type": "code",
    "id": "njau94gGXpnW",
    "outputId": "e38d4804-be1a-4a04-d5a4-f108f2855041"
   },
   "outputs": [
    {
     "data": {
      "text/plain": [
       "(137.0, 4, 1.0)   1.000\n",
       "(130.0, 4, 1.0)   1.000\n",
       "(134.0, 4, 1.0)   1.000\n",
       "(124.0, 4, 1.0)   1.000\n",
       "(148.0, 4, 1.0)   1.000\n",
       "dtype: float64"
      ]
     },
     "execution_count": 838,
     "metadata": {
      "tags": []
     },
     "output_type": "execute_result"
    }
   ],
   "source": [
    "#Sold 1 last period\n",
    "Result = [i for i in S_e if ((i[1]== 4) & (i[2] == 1.0))]\n",
    "Q_e.loc[Result].idxmax(axis=1)[0:5]"
   ]
  },
  {
   "cell_type": "markdown",
   "metadata": {
    "colab_type": "text",
    "id": "lOhEFWf2uGqw"
   },
   "source": [
    "We can see the optimal solution when the time period is 5, shares are 6, is 2 1 1 1 1, which does make intuitive sense because the price has no impact from the exponential factor at the beginning, so you would want to sell more shares at the beginning and then sell the rest later."
   ]
  },
  {
   "cell_type": "markdown",
   "metadata": {},
   "source": [
    "__Plot analysis of stock price vs action and also naive appraoch vs optimal approach (in the initial case of 3 shares)__ "
   ]
  },
  {
   "cell_type": "code",
   "execution_count": 112,
   "metadata": {
    "colab": {},
    "colab_type": "code",
    "id": "e8IGPOrHBPyq"
   },
   "outputs": [],
   "source": [
    "#Constructing the list to see a change in price\n",
    "A_e = A\n",
    "#Constructing the States\n",
    "price_change = [[] for i in range(100)]\n",
    "naive = [[] for i in range(100)]\n",
    "for j in range(100):\n",
    "    C_e = (P_0_e, 0 ,N_e)\n",
    "    pastaction = []\n",
    "    price_0 = P_0_e\n",
    "    Sum_e = 0\n",
    "    price_change[j].append(price_0)\n",
    "    while C_e[1] != T_e-1:\n",
    "        Action = rm.choice(A_e)\n",
    "        if C_e[2] >= Action:\n",
    "            pastaction.append(Action)\n",
    "            Sum_e += R_walk()[0]\n",
    "            decay = 0\n",
    "            for i in range(len(pastaction)):\n",
    "                decay += round(np.exp(-1*beta_e*(C_e[1]-i))*Theta_e*pastaction[i])\n",
    "            price = price_0 + Sum_e + decay\n",
    "            naive[j].append(price * Action)\n",
    "            price_change[j].append(price)\n",
    "            C_e = (price, C_e[1] + 1, C_e[2] - Action)\n",
    "    pastaction.append(C_e[2])\n",
    "    Sum_e += R_walk()[0]\n",
    "    decay = 0\n",
    "    for i in range(len(pastaction)):\n",
    "        decay += round(np.exp(-1*beta_e*(C_e[1]-i))*Theta_e*pastaction[i])\n",
    "    price = price_0 + Sum_e + decay\n",
    "    naive[j].append(price * C_e[2])"
   ]
  },
  {
   "cell_type": "code",
   "execution_count": 113,
   "metadata": {
    "colab": {},
    "colab_type": "code",
    "id": "Yto_RFctBPys",
    "outputId": "50da88ed-6247-4131-afc2-09fa8c01446f"
   },
   "outputs": [
    {
     "name": "stdout",
     "output_type": "stream",
     "text": [
      "Average cost for naive appraoch: 369.16\n"
     ]
    }
   ],
   "source": [
    "#Looking at the naive solution\n",
    "averagecost = 0\n",
    "for i in naive:\n",
    "    averagecost += sum(i)\n",
    "averagecost = averagecost/len(naive)\n",
    "\n",
    "print(\"Average cost for naive appraoch:\",averagecost)"
   ]
  },
  {
   "cell_type": "code",
   "execution_count": 114,
   "metadata": {
    "colab": {},
    "colab_type": "code",
    "id": "Yto_RFctBPys",
    "outputId": "50da88ed-6247-4131-afc2-09fa8c01446f"
   },
   "outputs": [],
   "source": [
    "Optimalpath = [1,0,1,0,1]\n",
    "optimal = [[] for i in range(100)]\n",
    "for j in range(100):\n",
    "    C_e = (P_0_e, 0 ,N_e)\n",
    "    pastaction = []\n",
    "    price_0 = P_0_e\n",
    "    Sum_e = 0\n",
    "\n",
    "    while C_e[1] != T_e-1:\n",
    "        Action = Optimalpath[C_e[1]]\n",
    "        if C_e[2] >= Action:\n",
    "            pastaction.append(Action)\n",
    "            Sum_e += R_walk()[0]\n",
    "            decay = 0\n",
    "            for i in range(len(pastaction)):\n",
    "                decay += round(np.exp(-1*beta_e*(C_e[1]-i))*Theta_e*pastaction[i])\n",
    "            price = price_0 + Sum_e + decay\n",
    "            optimal[j].append(price * Action)\n",
    "\n",
    "            C_e = (price, C_e[1] + 1, C_e[2] - Action)\n",
    "    pastaction.append(C_e[2])\n",
    "    Sum_e += R_walk()[0]\n",
    "    decay = 0\n",
    "    for i in range(len(pastaction)):\n",
    "        decay += round(np.exp(-1*beta_e*(C_e[1]-i))*Theta_e*pastaction[i])\n",
    "    price = price_0 + Sum_e + decay\n",
    "    optimal[j].append(price * C_e[2])"
   ]
  },
  {
   "cell_type": "code",
   "execution_count": 115,
   "metadata": {},
   "outputs": [
    {
     "name": "stdout",
     "output_type": "stream",
     "text": [
      "Average cost for naive appraoch: 346.42\n"
     ]
    }
   ],
   "source": [
    "averagecost = 0\n",
    "for i in optimal:\n",
    "    averagecost += sum(i)\n",
    "averagecost = averagecost/len(optimal)\n",
    "\n",
    "print(\"Average cost for naive appraoch:\",averagecost)"
   ]
  },
  {
   "cell_type": "markdown",
   "metadata": {},
   "source": [
    "We can see a slight decrease in cost, __346.42 vs 369.16__, in using our optimal solution (1,0,1,0,1) at the respective time step vs just choosing random action each time over the long run. thus proving our solution is a better solution than the naive appraoch for the quadrative temporary case"
   ]
  },
  {
   "cell_type": "code",
   "execution_count": 116,
   "metadata": {
    "colab": {},
    "colab_type": "code",
    "id": "dFyROjMEBPyv",
    "outputId": "0cdcf6d3-29a7-4221-d52a-681888de7599"
   },
   "outputs": [
    {
     "data": {
      "text/plain": [
       "Text(0.5, 0, 'Time Period')"
      ]
     },
     "execution_count": 116,
     "metadata": {},
     "output_type": "execute_result"
    },
    {
     "data": {
      "image/png": "[encoded data removed]",
      "text/plain": [
       "<Figure size 432x288 with 1 Axes>"
      ]
     },
     "metadata": {
      "needs_background": "light"
     },
     "output_type": "display_data"
    }
   ],
   "source": [
    "#Below we can see some price changes through the period of time just through random actions,\n",
    "#But now we can see that there is a decrease in stock price due to the decay factor of this price model\n",
    "\n",
    "plt.plot(price_change[0])\n",
    "plt.plot(price_change[1])\n",
    "plt.plot(price_change[2])\n",
    "plt.plot(price_change[3])\n",
    "\n",
    "plt.xticks(np.arange(0, 4+1, 1.0))\n",
    "plt.title(\"Stock Price vs Time Period\")\n",
    "plt.ylabel(\"Stock Price\")\n",
    "plt.xlabel(\"Time Period\")"
   ]
  },
  {
   "cell_type": "markdown",
   "metadata": {
    "colab_type": "text",
    "id": "70QqlUmBuGqw"
   },
   "source": [
    "<font size = '5'> __Part 3) Conclusion__ </font>\n"
   ]
  },
  {
   "cell_type": "markdown",
   "metadata": {
    "colab_type": "text",
    "id": "ee-31m0AGedU"
   },
   "source": [
    "Before jumping into conclusion, I first want to note on how would we recover the parameter of the models in real life. Because in real life, we would only observe the the price after we submit the order, and we would not know of the actual parameters of the model. But we can recover them from the Q-Matrix "
   ]
  },
  {
   "cell_type": "markdown",
   "metadata": {
    "colab_type": "text",
    "id": "kAkR1gDsG2Yf"
   },
   "source": [
    "__Recovering Theta from Linear Permanent Model__ "
   ]
  },
  {
   "cell_type": "code",
   "execution_count": 0,
   "metadata": {
    "colab": {
     "base_uri": "https://localhost:8080/",
     "height": 35
    },
    "colab_type": "code",
    "id": "-x8U_Eo1B82T",
    "outputId": "a06dd2f0-246f-4f17-f59d-88cd7ccee018"
   },
   "outputs": [
    {
     "data": {
      "text/plain": [
       "0.002664427633221722"
      ]
     },
     "execution_count": 739,
     "metadata": {
      "tags": []
     },
     "output_type": "execute_result"
    }
   ],
   "source": [
    "#For this, we can simply look at the Entry of the q matrix at (100.0,0,40.0) with action 40.0 \n",
    "\n",
    "#Because we know the abs(Reward) = Pt*share, we can set up the equation 5604.261 = 40*(40*theta +noise + 100)\n",
    "\n",
    "Simulation = []\n",
    "for i in range(100000):\n",
    "  theta = (abs(Q.at[(100.0,0,40.0), 40.0])/40 - 100 - R_walk()[0])/40\n",
    "  Simulation.append(theta)\n",
    "  \n",
    "Recovered_theta = sum(Simulation)/len(Simulation)\n",
    "\n",
    "RelativeError = abs(Recovered - Theta)/Theta\n",
    "RelativeError"
   ]
  },
  {
   "cell_type": "code",
   "execution_count": 0,
   "metadata": {
    "colab": {
     "base_uri": "https://localhost:8080/",
     "height": 35
    },
    "colab_type": "code",
    "id": "MRC9sUbhIecX",
    "outputId": "9beab8ca-d734-49e3-f712-e873d22d6c17"
   },
   "outputs": [
    {
     "data": {
      "text/plain": [
       "1.0026579276332235"
      ]
     },
     "execution_count": 740,
     "metadata": {
      "tags": []
     },
     "output_type": "execute_result"
    }
   ],
   "source": [
    "Recovered_theta"
   ]
  },
  {
   "cell_type": "markdown",
   "metadata": {
    "colab_type": "text",
    "id": "sKzTTqHfM3R9"
   },
   "source": [
    "We can see that we have succesfully recovered theta = approximately 1  and achiever a low relative error. It is rare to recover the exact theta due to the presence of the noise"
   ]
  },
  {
   "cell_type": "markdown",
   "metadata": {
    "colab_type": "text",
    "id": "gipuaFN8BZ-H"
   },
   "source": [
    "__Recovering Theta from Quadratic Model__ "
   ]
  },
  {
   "cell_type": "markdown",
   "metadata": {
    "colab_type": "text",
    "id": "RrGQ-dTqIoIl"
   },
   "source": [
    "Because we know the model has the price model \n",
    "Pt = Pt−1 + ϵt + a(St)^2 + b(St), we can fit a linear regression model to recover the parameter\n",
    "\n",
    "Note: the parameter I used earlier was a = 0.5, b =1"
   ]
  },
  {
   "cell_type": "code",
   "execution_count": 0,
   "metadata": {
    "colab": {},
    "colab_type": "code",
    "id": "VN3MnyxqLJ2G"
   },
   "outputs": [],
   "source": [
    "#Going to fit a linear regression to recover these parameters\n",
    "\n",
    "\n",
    "from sklearn.linear_model import LinearRegression"
   ]
  },
  {
   "cell_type": "code",
   "execution_count": 0,
   "metadata": {
    "colab": {},
    "colab_type": "code",
    "id": "2jOxgtF9B8Af"
   },
   "outputs": [],
   "source": [
    "#Setting up the vectors to feed into the linear regression\n",
    "a_share = []\n",
    "b_share = []\n",
    "updatedprice = []\n",
    "price = [i for i in range(70, 100)]\n",
    "P_t = []\n",
    "for i in range(1000):\n",
    "  share = rm.choice(A)\n",
    "  p = rm.choice(price)\n",
    "  P_t.append(p)\n",
    "  a_share.append(share * share)\n",
    "  b_share.append(share)\n",
    "  updatedprice.append(Next_Price_q(p, share))"
   ]
  },
  {
   "cell_type": "code",
   "execution_count": 0,
   "metadata": {
    "colab": {},
    "colab_type": "code",
    "id": "eGqvAyRSKNBR"
   },
   "outputs": [],
   "source": [
    "#I want to dependent varaible to be the price difference, in order for the linear model to just be x1+x2 +noise = y\n",
    "y = []\n",
    "for i in range(len(updatedprice)):\n",
    "  y.append(updatedprice[i] - P_t[i])\n",
    "\n"
   ]
  },
  {
   "cell_type": "code",
   "execution_count": 0,
   "metadata": {
    "colab": {
     "base_uri": "https://localhost:8080/",
     "height": 35
    },
    "colab_type": "code",
    "id": "azlLOkR0LQE7",
    "outputId": "32252d60-9f7d-477d-9c6a-b2ad5371af9a"
   },
   "outputs": [
    {
     "name": "stdout",
     "output_type": "stream",
     "text": [
      "the model score is: 0.9999885894986238 it is very good!\n"
     ]
    }
   ],
   "source": [
    "#we can see that we achiever a very good model score\n",
    "D = pd.DataFrame({\"st2\":a_share, \"st\":b_share})\n",
    "x = D.values\n",
    "\n",
    "model = LinearRegression().fit(x, y)\n",
    "print(\"the model score is:\",model.score(x, y), \"it is very good!\")"
   ]
  },
  {
   "cell_type": "code",
   "execution_count": 0,
   "metadata": {
    "colab": {
     "base_uri": "https://localhost:8080/",
     "height": 35
    },
    "colab_type": "code",
    "id": "J1sh-6u4Lwhh",
    "outputId": "7edd81d1-751f-418f-b1cf-734d1b4aef12"
   },
   "outputs": [
    {
     "data": {
      "text/plain": [
       "0.00044291010501695816"
      ]
     },
     "execution_count": 766,
     "metadata": {
      "tags": []
     },
     "output_type": "execute_result"
    }
   ],
   "source": [
    "#ca\n",
    "Recovered_a = model.coef_[0]\n",
    "Recovered_b = model.coef_[1]\n",
    "\n",
    "RelativeError_a = abs(Recovered_a - a)/a\n",
    "RelativeError_a"
   ]
  },
  {
   "cell_type": "code",
   "execution_count": 0,
   "metadata": {
    "colab": {
     "base_uri": "https://localhost:8080/",
     "height": 35
    },
    "colab_type": "code",
    "id": "1dhP86jAMIzP",
    "outputId": "6bf747f4-a54d-4bb0-f1ab-7e3f32745033"
   },
   "outputs": [
    {
     "data": {
      "text/plain": [
       "0.4997785449474915"
      ]
     },
     "execution_count": 767,
     "metadata": {
      "tags": []
     },
     "output_type": "execute_result"
    }
   ],
   "source": [
    "Recovered_a"
   ]
  },
  {
   "cell_type": "code",
   "execution_count": 0,
   "metadata": {
    "colab": {
     "base_uri": "https://localhost:8080/",
     "height": 35
    },
    "colab_type": "code",
    "id": "GShbX7J6ME_0",
    "outputId": "7ed092ed-165d-44d6-8f53-6f4862621f5c"
   },
   "outputs": [
    {
     "data": {
      "text/plain": [
       "0.008614941121643849"
      ]
     },
     "execution_count": 768,
     "metadata": {
      "tags": []
     },
     "output_type": "execute_result"
    }
   ],
   "source": [
    "RelativeError_b = abs(Recovered_b - b)/b\n",
    "RelativeError_b "
   ]
  },
  {
   "cell_type": "code",
   "execution_count": 0,
   "metadata": {
    "colab": {
     "base_uri": "https://localhost:8080/",
     "height": 35
    },
    "colab_type": "code",
    "id": "Ko1YLZEzMMhS",
    "outputId": "72bb977d-9172-42b1-f333-29d1aae87c2e"
   },
   "outputs": [
    {
     "data": {
      "text/plain": [
       "1.0086149411216438"
      ]
     },
     "execution_count": 769,
     "metadata": {
      "tags": []
     },
     "output_type": "execute_result"
    }
   ],
   "source": [
    "Recovered_b"
   ]
  },
  {
   "cell_type": "markdown",
   "metadata": {
    "colab_type": "text",
    "id": "GXNqwXNOMSqZ"
   },
   "source": [
    "We can see that we have successfully recover the a, b parameters from the quadartic model using a linear regression and achieve a low relative error. We will stop our demonstration right now as it is hard to recover the parameters from the transient model because at a given state, you dont know how much of the price change was due to the noise vs how much change was due to the exponential sum of actions, as we dont have a record of previous actions\n"
   ]
  },
  {
   "cell_type": "markdown",
   "metadata": {
    "colab_type": "text",
    "id": "Run7-FOgM1XD"
   },
   "source": [
    "<font size= \"5\"> __Recap of the three price models and their respective optimal solutions__</font>"
   ]
  },
  {
   "cell_type": "markdown",
   "metadata": {
    "colab_type": "text",
    "id": "Kl1R4KU9NJ_d"
   },
   "source": [
    "To recap, the optimal execution strategy for the models are:\n",
    "\n",
    "  1) __Linear Permanent Model__: Sell Numberofinitalshare/Time each period, which in our example is selling 40/5 = 8 shares each time for 5 periods. This is exactly the theory we have developed in class of evenly sell the shares across periods, and our empirical study today supports it!\n",
    "  \n",
    "  2) __Quadratc Temporary Model__: Same strategy, sell 40/5 =8 shares each time for 5 periods. this makese sense because again the price just increases and the effect vanishes after 1 period, thus the optimal is just try to split the shares evenly with respect to time period.\n",
    "  \n",
    "  3) __Transient Model__: When there is only 3 shares to sell in 5 period, the optimal strategy is 1, 0 ,1,0 ,1. which makes sense theoretically because you want the decay to happen for as long as possible belong you have to sell another share, so when there is alot of time periods, you can sell the shares in chunks, skipping some time periods to wait for the decay to happen, before selling more. But of course this will depend on how much the decay is to actually know whether it is worth to not sell any in a time period. So it definitely would depend on the parameter; as we can see in the 6 share case, the optimal strategy is 2,1,1,1,1, and is not the theoreized 2,0,2,0,2. So a quick summary for the empirical optimal strategy for this model is to keep the time between orders as large as possible while trying to minimize the amount of share we buy each time, so like when it is 3 for 5 period, we would want to space out 1 period in between and get 1, 0, 1,0 , 1. So it is bascially a choice between #of orders to submit(same quantity each time) and the space between each of the orders. A optimization problem with those two parameters to choose. \n",
    "  \n",
    "  \n",
    "  And this concludes the project analysis , thank you!"
   ]
  },
  {
   "cell_type": "markdown",
   "metadata": {
    "colab_type": "text",
    "id": "Ok2Z_mEJeNOP"
   },
   "source": []
  }
 ],
 "metadata": {
  "accelerator": "GPU",
  "colab": {
   "collapsed_sections": [],
   "name": "IEOR_Final_Project.ipynb",
   "provenance": [],
   "version": "0.3.2"
  },
  "kernelspec": {
   "display_name": "Python 3",
   "language": "python",
   "name": "python3"
  },
  "language_info": {
   "codemirror_mode": {
    "name": "ipython",
    "version": 3
   },
   "file_extension": ".py",
   "mimetype": "text/x-python",
   "name": "python",
   "nbconvert_exporter": "python",
   "pygments_lexer": "ipython3",
   "version": "3.7.3"
  }
 },
 "nbformat": 4,
 "nbformat_minor": 1
}
